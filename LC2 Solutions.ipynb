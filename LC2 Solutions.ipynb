{
 "cells": [
  {
   "cell_type": "markdown",
   "metadata": {},
   "source": [
    "# AM10IM - Introduction to Matlab"
   ]
  },
  {
   "cell_type": "markdown",
   "metadata": {},
   "source": [
    "## Lecture Challenge 2 - Solutions"
   ]
  },
  {
   "cell_type": "markdown",
   "metadata": {},
   "source": [
    "The idea behind this lecture challenge is to get used to manipulating if statements, and we apply this to the 2008 Olympic medal table and possible point systems."
   ]
  },
  {
   "cell_type": "code",
   "execution_count": 1,
   "metadata": {},
   "outputs": [],
   "source": [
    "%Country = [G S B]\n",
    "US = [36 39 37]; %USA medals\n",
    "GB = [19 13 19]; %Great Britain\n",
    "CH = [48 22 30]; %China\n",
    "RU = [24 13 23]; %Russia"
   ]
  },
  {
   "cell_type": "markdown",
   "metadata": {},
   "source": [
    "These were the final results of the 2008 Olympics, but who 'won' the Olympics?"
   ]
  },
  {
   "cell_type": "markdown",
   "metadata": {},
   "source": [
    "The different point systems that are in use are:"
   ]
  },
  {
   "cell_type": "code",
   "execution_count": 3,
   "metadata": {},
   "outputs": [],
   "source": [
    "%Weighting [G S B]\n",
    "W1 = [3 2 1]; % Simple point system\n",
    "W2 = [4 2 1]; % New York Times point system\n",
    "W3 = [5 3 1]; % 1908 London point system"
   ]
  },
  {
   "cell_type": "markdown",
   "metadata": {},
   "source": [
    "__Challenge 1__ Using these different weights, can you find the score for each country for each different point system?"
   ]
  },
  {
   "cell_type": "code",
   "execution_count": 9,
   "metadata": {},
   "outputs": [
    {
     "name": "stdout",
     "output_type": "stream",
     "text": [
      "US1 =  223\n",
      "GB1 =  102\n",
      "CH1 =  218\n",
      "RU1 =  121\n"
     ]
    }
   ],
   "source": [
    "US1 = US*W1'\n",
    "GB1 = GB*W1'\n",
    "CH1 = CH*W1'\n",
    "RU1 = RU*W1'"
   ]
  },
  {
   "cell_type": "markdown",
   "metadata": {},
   "source": [
    "Provides us with the results using the Simple Point weighting system. The \"*\" performs matrix multiplication, and the top line was equivalent to:\n",
    "\\begin{align}\n",
    "  \\text{US1} =& \\begin{matrix}\\begin{pmatrix}36 & 39 & 37\\end{pmatrix}\\\\\\mbox{}\\end{matrix} \n",
    "  \\begin{pmatrix} 3 \\\\ 2 \\\\ 1 \\end{pmatrix} \\\\\n",
    "  =& 36\\times3 + 39\\times2 + 37\\times1\n",
    "\\end{align}"
   ]
  },
  {
   "cell_type": "markdown",
   "metadata": {},
   "source": [
    "Notice that we had to use the transpose function:"
   ]
  },
  {
   "cell_type": "code",
   "execution_count": 8,
   "metadata": {},
   "outputs": [
    {
     "name": "stdout",
     "output_type": "stream",
     "text": [
      "ans =\n",
      "\n",
      "   3\n",
      "   2\n",
      "   1\n",
      "\n"
     ]
    }
   ],
   "source": [
    "W1'"
   ]
  },
  {
   "cell_type": "markdown",
   "metadata": {},
   "source": [
    "So that matrix multiplication could be performed."
   ]
  },
  {
   "cell_type": "markdown",
   "metadata": {},
   "source": [
    "Similarly for the other weights:"
   ]
  },
  {
   "cell_type": "code",
   "execution_count": 10,
   "metadata": {},
   "outputs": [],
   "source": [
    "US2 = US*W2';\n",
    "GB2 = GB*W2';\n",
    "RU2 = RU*W2';\n",
    "CH2 = CH*W2';"
   ]
  },
  {
   "cell_type": "code",
   "execution_count": 11,
   "metadata": {},
   "outputs": [],
   "source": [
    "US3 = US*W3';\n",
    "GB3 = GB*W3';\n",
    "RU3 = RU*W3';\n",
    "CH3 = CH*W3';"
   ]
  },
  {
   "cell_type": "markdown",
   "metadata": {},
   "source": [
    "To save us from writing 12 lines of very similar code, we could have performed something along the lines of:"
   ]
  },
  {
   "cell_type": "code",
   "execution_count": 12,
   "metadata": {},
   "outputs": [
    {
     "name": "stdout",
     "output_type": "stream",
     "text": [
      "W =\n",
      "\n",
      "   3   4   5\n",
      "   2   2   3\n",
      "   1   1   1\n",
      "\n"
     ]
    }
   ],
   "source": [
    "W = [W1' W2' W3']"
   ]
  },
  {
   "cell_type": "markdown",
   "metadata": {},
   "source": [
    "Which puts the weights together in a matrix (each column is a different point system). Then put the medals together in rows:"
   ]
  },
  {
   "cell_type": "code",
   "execution_count": 13,
   "metadata": {},
   "outputs": [
    {
     "name": "stdout",
     "output_type": "stream",
     "text": [
      "M =\n",
      "\n",
      "   36   39   37\n",
      "   19   13   19\n",
      "   24   13   23\n",
      "   48   22   30\n",
      "\n"
     ]
    }
   ],
   "source": [
    "M = [US;GB;RU;CH]"
   ]
  },
  {
   "cell_type": "markdown",
   "metadata": {},
   "source": [
    "Then the points for each team in each system is:"
   ]
  },
  {
   "cell_type": "code",
   "execution_count": 15,
   "metadata": {},
   "outputs": [
    {
     "name": "stdout",
     "output_type": "stream",
     "text": [
      "R =\n",
      "\n",
      "   223   259   334\n",
      "   102   121   153\n",
      "   121   145   182\n",
      "   218   266   336\n",
      "\n"
     ]
    }
   ],
   "source": [
    "R = M*W"
   ]
  },
  {
   "cell_type": "markdown",
   "metadata": {},
   "source": [
    "Where matrix multiplication has been performed:\n",
    "\\begin{align}\n",
    "R =& \\begin{pmatrix}\n",
    "36 & 39 & 37 \\\\\n",
    "19 & 13 & 19 \\\\\n",
    "24 & 13 & 23 \\\\\n",
    "48 & 22 & 30\n",
    "\\end{pmatrix}\n",
    "\\begin{pmatrix}\n",
    "3 & 4 & 5 \\\\\n",
    "2 & 2 & 3 \\\\\n",
    "1 & 1 & 1\n",
    "\\end{pmatrix}\\\\\n",
    "=& \\begin{pmatrix}\n",
    "223 & 259 & 334 \\\\\n",
    "102 & 121 & 153 \\\\\n",
    "121 & 145 & 182 \\\\\n",
    "218 & 266 & 336\n",
    "\\end{pmatrix}\n",
    "\\end{align}"
   ]
  },
  {
   "cell_type": "markdown",
   "metadata": {},
   "source": [
    "The first column of R is the US, GB, RU, CH points in the __simple__ point system, the second column of R is the US, GB, RU, CH points in the __New York Times__ point system and the last column of R is the US, GB, RU and CH points in the __1908 London__ point system. This was three lines of code instead of twelve."
   ]
  },
  {
   "cell_type": "markdown",
   "metadata": {},
   "source": [
    "__Challenge 2__ Using If statements, can you find which team came first and which team came last in each point system?"
   ]
  },
  {
   "cell_type": "markdown",
   "metadata": {},
   "source": [
    "Using if statements this is a long amount of code as it requires us to think about nested if statements for each point system. If you can understand how this works, then you understand if statements: The code is the same for each point system just swap the labels for each country."
   ]
  },
  {
   "cell_type": "code",
   "execution_count": 17,
   "metadata": {},
   "outputs": [
    {
     "name": "stdout",
     "output_type": "stream",
     "text": [
      "US came first in the simple point system with 223 points \n"
     ]
    }
   ],
   "source": [
    "if (US1 > GB1) && (US1 > RU1) && (US1 > CH1)\n",
    "    fprintf('US came first in the simple point system with %.0f points \\n',US1)\n",
    "elseif (GB1 > US1) && (GB1 > RU1) && (GB1 > CH1)\n",
    "    fprintf('GB came first in the simple point system with %.0f points \\n',GB1)\n",
    "elseif (CH1 > US1) && (CH1 > RU1) && (CH1 > GB1)\n",
    "    fprintf('CH came first in the simple point system with %.0f points \\n',CH1)\n",
    "else\n",
    "    fprintf('RU came first in the simple point system with %.0f points \\n',RU1)\n",
    "end"
   ]
  },
  {
   "cell_type": "code",
   "execution_count": 18,
   "metadata": {},
   "outputs": [
    {
     "name": "stdout",
     "output_type": "stream",
     "text": [
      "CH came first in the New York Times system with 266 points \n"
     ]
    }
   ],
   "source": [
    "if (US2 > GB2) && (US2 > RU2) && (US2 > CH2)\n",
    "    fprintf('US came first in the New York Times system with %.0f points \\n',US2)\n",
    "elseif (GB2 > US2) && (GB2 > RU2) && (GB2 > CH2)\n",
    "    fprintf('GB came first in the New York Times system with %.0f points \\n',GB2)\n",
    "elseif (CH2 > US2) && (CH2 > RU2) && (CH2 > GB2)\n",
    "    fprintf('CH came first in the New York Times system with %.0f points \\n',CH2)\n",
    "else\n",
    "    fprintf('RU came first in the New York Times system with %.0f points \\n',RU2)\n",
    "end"
   ]
  },
  {
   "cell_type": "code",
   "execution_count": 19,
   "metadata": {},
   "outputs": [
    {
     "name": "stdout",
     "output_type": "stream",
     "text": [
      "CH came first in the 1908 London point system with 266 points \n"
     ]
    }
   ],
   "source": [
    "if (US3 > GB3) && (US3 > RU3) && (US3 > CH3)\n",
    "    fprintf('US came first in the 1908 London point system with %.0f points \\n',US2)\n",
    "elseif (GB3 > US3) && (GB3 > RU3) && (GB3 > CH3)\n",
    "    fprintf('GB came first in the 1908 London point system with %.0f points \\n',GB2)\n",
    "elseif (CH3 > US3) && (CH3 > RU3) && (CH3 > GB3)\n",
    "    fprintf('CH came first in the 1908 London point system with %.0f points \\n',CH2)\n",
    "else\n",
    "    fprintf('RU came first in the 1908 London point system with %.0f points \\n',RU2)\n",
    "end"
   ]
  },
  {
   "cell_type": "markdown",
   "metadata": {},
   "source": [
    "Hopefully you can see that this is __horribly inefficient code__, if I wanted to introduce a new point system I'd have to write another identical if statement. However, our goal here was not to make efficient code, but to learn the structure and understand if statements. To get the last place we simply switch the '>' in the if statements to '<'\n",
    "\n",
    "Now that we know how for loops work, we can use a more efficient bit of code:"
   ]
  },
  {
   "cell_type": "code",
   "execution_count": 52,
   "metadata": {},
   "outputs": [
    {
     "name": "stdout",
     "output_type": "stream",
     "text": [
      "In System 1 US came first with 223 points \n",
      "In System 1 GB came last with 102 points \n",
      "\n",
      "In System 2 CH came first with 266 points \n",
      "In System 2 GB came last with 121 points \n",
      "\n",
      "In System 3 CH came first with 336 points \n",
      "In System 3 GB came last with 153 points \n",
      "\n"
     ]
    }
   ],
   "source": [
    "for i = 1:3\n",
    "    [x1 y1] = max(R(:,i)); %Here x1 is the maximum value and y1 is the position of the maximum.\n",
    "    if y1 == 1\n",
    "        fprintf('In System %.0f US came first with %.0f points \\n',i, R(y1,i))\n",
    "    elseif y1 == 2\n",
    "        fprintf('In System %.0f GB came first with %.0f points \\n',i, R(y1,i))\n",
    "    elseif y1 == 3\n",
    "        fprintf('In System %.0f RU came first with %.0f points \\n',i, R(y1,i))\n",
    "    else\n",
    "        fprintf('In System %.0f CH came first with %.0f points \\n',i, R(y1,i))\n",
    "    end    \n",
    "    [x2 y2] = min(R(:,1)); % Here x2 is the minimum value and y2 is the position of the minimum.\n",
    "    if y2 == 1\n",
    "        fprintf('In System %.0f US came last with %.0f points \\n',i, R(y2,i))\n",
    "    elseif y2 == 2\n",
    "        fprintf('In System %.0f GB came last with %.0f points \\n',i, R(y2,i))\n",
    "    elseif y2 == 3\n",
    "        fprintf('In System %.0f RU came last with %.0f points \\n',i, R(y2,i))\n",
    "    else\n",
    "        fprintf('In System %.0f CH came last with %.0f points \\n',i, R(y2,i))\n",
    "    end\n",
    "    fprintf('\\n') % an extra return to split the results\n",
    "end"
   ]
  },
  {
   "cell_type": "markdown",
   "metadata": {},
   "source": [
    "Did you notice that I put __two__ numbers into fprintf? The first percentage sign corresponded to the first number after the quotation marks and the second percentage sign corresponded to the second number after the quotation marks."
   ]
  },
  {
   "cell_type": "markdown",
   "metadata": {},
   "source": [
    "__Challenge 3__ Can you now __rank__ the teams in order of highest to lowest points in each point system?"
   ]
  },
  {
   "cell_type": "markdown",
   "metadata": {},
   "source": [
    "Again this is to simply see the structure of if statements. The following code is __totally unmanageble__, don't ever write anything like this outside of this challenge, but can you follow the logic?"
   ]
  },
  {
   "cell_type": "code",
   "execution_count": 35,
   "metadata": {},
   "outputs": [
    {
     "name": "stdout",
     "output_type": "stream",
     "text": [
      "USR1 =  1\n",
      "CHR1 =  2\n",
      "RUR1 =  3\n",
      "GBR1 =  4\n"
     ]
    }
   ],
   "source": [
    "if (US1 > CH1) && (US1 > RU1)  && (US1>GB1)\n",
    "    USR1 = 1 % US greater than CH, RU and GB\n",
    "    if (CH1 > RU1) && (CH1 > GB1)\n",
    "        CHR1 = 2 %CH less than US but greater than RU and GB\n",
    "        if (RU1 > GB1) %RU greater than GB but less than US and CH\n",
    "            RUR1 = 3\n",
    "            GBR1 = 4\n",
    "        else           %GB greater than RU but less than US and CH \n",
    "            GBR1 = 3\n",
    "            RUR1 = 4\n",
    "        end\n",
    "    elseif (RU1 > CH1) && (RU1>GB1)\n",
    "        RUR1 = 2\n",
    "        if (CH1>GB1)\n",
    "            CHR1 = 3\n",
    "            GBR1 = 4\n",
    "        else\n",
    "            GBR1 = 3\n",
    "            CHR1 = 4\n",
    "        end\n",
    "    elseif (GB1 > CH1) && (GB1 > RU1)\n",
    "        GBR1 = 2\n",
    "        if (RU1>CH1)\n",
    "            RUR1 = 3\n",
    "            CHR1 = 4\n",
    "        else\n",
    "            CHR1 = 3\n",
    "            RUR1 = 4\n",
    "        end\n",
    "    end\n",
    "elseif (CH1 > US1) && (CH1 > RU1)  && (CH1>GB1)\n",
    "    CHR1 = 1\n",
    "    if (US1 > RU1) && (US1 > GB1)\n",
    "        USR = 2 \n",
    "        if (RU1 > GB1) \n",
    "            RUR1 = 3\n",
    "            GBR1 = 4\n",
    "        else           %GB greater than RU but less than US and CH \n",
    "            GBR1 = 3\n",
    "            RUR1 = 4\n",
    "        end\n",
    "    elseif (RU1 > US1) && (RU1>GB1)\n",
    "        RUR1 = 2\n",
    "        if (US1>GB1)\n",
    "            USR1 = 3\n",
    "            GBR1 = 4\n",
    "        else\n",
    "            GBR1 = 3\n",
    "            USR1 = 4\n",
    "        end\n",
    "    elseif (GB1 > US1) && (GB1 > RU1)\n",
    "        GBR1 = 2\n",
    "        if (RU1>US1)\n",
    "            USR1 = 3\n",
    "            CHR1 = 4\n",
    "        else\n",
    "            USR1 = 3\n",
    "            RUR1 = 4\n",
    "        end\n",
    "    end\n",
    "end\n",
    "%{\n",
    "If you got this far well done! You'll have noticed I decided to not include the last two elseifs for RU and GB\n",
    "ranking first because it looked scary enough. Again see if you can follow the logic of nested if statements.\n",
    "%}    "
   ]
  },
  {
   "cell_type": "markdown",
   "metadata": {},
   "source": [
    "Obviously this code is terrible and you would __never be asked to write something like this in the exam__, however if you look through it and follow the logic and can understand what's going on then you can understand any if statement that is thrown in your direction and more importantly __create__ any if statement that you require."
   ]
  },
  {
   "cell_type": "markdown",
   "metadata": {},
   "source": [
    "Let's do it a better way:"
   ]
  },
  {
   "cell_type": "code",
   "execution_count": 43,
   "metadata": {},
   "outputs": [
    {
     "name": "stdout",
     "output_type": "stream",
     "text": [
      "R =\n",
      "\n",
      "   223   259   334\n",
      "   102   121   153\n",
      "   121   145   182\n",
      "   218   266   336\n",
      "\n",
      "x =\n",
      "\n",
      "   223   266   336\n",
      "   218   259   334\n",
      "   121   145   182\n",
      "   102   121   153\n",
      "\n",
      "I =\n",
      "\n",
      "   1   4   4\n",
      "   4   1   1\n",
      "   3   3   3\n",
      "   2   2   2\n",
      "\n"
     ]
    }
   ],
   "source": [
    "R\n",
    "[x I] = sort(R,'descend')"
   ]
  },
  {
   "cell_type": "markdown",
   "metadata": {},
   "source": [
    "x provides the sorted columns of R. 'I' provides the indices. So $x\\left(1,1\\right)$ corresponds to $R(1,1)$, $x(2,1)$ corresponds to $R(4,1)$, $x(3,1)$ corrsponds to $R(3,1)$ and $x(4,1)$ corresponds to $R(2,1)$ and likewise for the second and third column."
   ]
  },
  {
   "cell_type": "markdown",
   "metadata": {},
   "source": [
    "We can now state where each team ranked in each system:"
   ]
  },
  {
   "cell_type": "code",
   "execution_count": 49,
   "metadata": {},
   "outputs": [
    {
     "name": "stdout",
     "output_type": "stream",
     "text": [
      "System 1 \n",
      "US position is 1 \n",
      "RU position is 2 \n",
      "CH position is 3 \n",
      "GB position is 4 \n",
      "\n",
      "System 2 \n",
      "RU position is 1 \n",
      "US position is 2 \n",
      "CH position is 3 \n",
      "GB position is 4 \n",
      "\n",
      "System 3 \n",
      "RU position is 1 \n",
      "US position is 2 \n",
      "CH position is 3 \n",
      "GB position is 4 \n",
      "\n"
     ]
    }
   ],
   "source": [
    "[x I] = sort(R,'descend');\n",
    "for i = 1:3\n",
    "    fprintf('System %.0f \\n',i)\n",
    "    % This for loop will iterate each point system (columns of R)\n",
    "    for j = 1:4\n",
    "        % This for loop looks through the row of the specific column and ranks teams\n",
    "        if I(j,i) == 1\n",
    "            fprintf('US position is %.0f \\n',j)\n",
    "        elseif I(j,i) == 2\n",
    "            fprintf('GB position is %.0f \\n',j)\n",
    "        elseif I(j,i) == 3\n",
    "            fprintf('CH position is %.0f \\n',j)\n",
    "        else\n",
    "            fprintf('RU position is %.0f \\n',j)\n",
    "        end\n",
    "    end\n",
    "    fprintf('\\n') % An extra enter to split the rank of each system\n",
    "end"
   ]
  },
  {
   "cell_type": "markdown",
   "metadata": {},
   "source": [
    "Much nicer! Noticed it depended on what order I entered the medal table data right at the top with the array M."
   ]
  }
 ],
 "metadata": {
  "kernelspec": {
   "display_name": "Octave",
   "language": "octave",
   "name": "octave"
  },
  "language_info": {
   "file_extension": ".m",
   "help_links": [
    {
     "text": "GNU Octave",
     "url": "https://www.gnu.org/software/octave/support.html"
    },
    {
     "text": "Octave Kernel",
     "url": "https://github.com/Calysto/octave_kernel"
    },
    {
     "text": "MetaKernel Magics",
     "url": "https://github.com/calysto/metakernel/blob/master/metakernel/magics/README.md"
    }
   ],
   "mimetype": "text/x-octave",
   "name": "octave",
   "version": "4.0.0"
  }
 },
 "nbformat": 4,
 "nbformat_minor": 2
}
