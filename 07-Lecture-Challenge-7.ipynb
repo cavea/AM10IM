{
 "cells": [
  {
   "cell_type": "markdown",
   "metadata": {},
   "source": [
    "# AM10IM - Introduction to Matlab"
   ]
  },
  {
   "cell_type": "markdown",
   "metadata": {},
   "source": [
    "## Lecture Challenge 7 - The 10001st Prime"
   ]
  },
  {
   "cell_type": "markdown",
   "metadata": {},
   "source": [
    "We all know what is a prime number: Numbers that have only two factors. But the task of finding them is not trivial."
   ]
  },
  {
   "cell_type": "markdown",
   "metadata": {},
   "source": [
    "__Challenge 1__ : Can you write a piece of Matlab code that will __find the 10001st prime number__?"
   ]
  },
  {
   "cell_type": "markdown",
   "metadata": {},
   "source": [
    "Functions that you might find useful are:"
   ]
  },
  {
   "cell_type": "code",
   "execution_count": 16,
   "metadata": {},
   "outputs": [
    {
     "name": "stdout",
     "output_type": "stream",
     "text": [
      "ans =\n",
      "\n",
      " Columns 1 through 16:\n",
      "\n",
      "    2    3    5    7   11   13   17   19   23   29   31   37   41   43   47   53\n",
      "\n",
      " Columns 17 through 25:\n",
      "\n",
      "   59   61   67   71   73   79   83   89   97\n",
      "\n"
     ]
    }
   ],
   "source": [
    "primes(100)\n"
   ]
  },
  {
   "cell_type": "markdown",
   "metadata": {},
   "source": [
    "which provides all the prime numbers below a given number"
   ]
  },
  {
   "cell_type": "code",
   "execution_count": 18,
   "metadata": {},
   "outputs": [
    {
     "name": "stdout",
     "output_type": "stream",
     "text": [
      "ans =  1\n",
      "ans =  1\n",
      "ans = 0\n"
     ]
    }
   ],
   "source": [
    "isprime(2)\n",
    "isprime(3)\n",
    "isprime(4)"
   ]
  },
  {
   "cell_type": "markdown",
   "metadata": {},
   "source": [
    "which checks if a number is prime or not."
   ]
  },
  {
   "cell_type": "code",
   "execution_count": null,
   "metadata": {},
   "outputs": [],
   "source": [
    "%%Challenge 1 code\n",
    "\n",
    "\n",
    "\n",
    "\n"
   ]
  },
  {
   "cell_type": "markdown",
   "metadata": {},
   "source": [
    "__Challenge 2__: Can you plot the prime counting function $P(m)$ for the first 100 integers? The prime counting function $P\\left(m\\right)$ counts the number of prime numbers less than or equal to the integer $m$. You should be plotting a vector that looks like:\n",
    "\n",
    "\\begin{align}\n",
    "\\begin{pmatrix}\n",
    "1 & 0 \\\\\n",
    "2 & 1 \\\\\n",
    "3 & 2 \\\\\n",
    "4 & 2 \\\\\n",
    "5 & 3 \\\\\n",
    "\\vdots & \\vdots\n",
    "\\end{pmatrix}\n",
    "\\end{align}\n",
    "As there are zero primes less than or equal to 1; one prime less than or equal to two; two primes (3 and 2) that are less than or equal to 3; 2 primes that are less than or equal to 4; 3 primes (2, 3, 5) less than or equal to 5 etc."
   ]
  },
  {
   "cell_type": "code",
   "execution_count": 24,
   "metadata": {},
   "outputs": [],
   "source": [
    "%% Challenge 2 code\n",
    "\n",
    "\n"
   ]
  }
 ],
 "metadata": {
  "kernelspec": {
   "display_name": "Octave",
   "language": "octave",
   "name": "octave"
  },
  "language_info": {
   "file_extension": ".m",
   "help_links": [
    {
     "text": "GNU Octave",
     "url": "https://www.gnu.org/software/octave/support.html"
    },
    {
     "text": "Octave Kernel",
     "url": "https://github.com/Calysto/octave_kernel"
    },
    {
     "text": "MetaKernel Magics",
     "url": "https://github.com/calysto/metakernel/blob/master/metakernel/magics/README.md"
    }
   ],
   "mimetype": "text/x-octave",
   "name": "octave",
   "version": "4.0.0"
  }
 },
 "nbformat": 4,
 "nbformat_minor": 2
}
