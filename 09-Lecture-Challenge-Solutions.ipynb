{
 "cells": [
  {
   "cell_type": "markdown",
   "metadata": {},
   "source": [
    "# AM10IM - Introduction to Matlab"
   ]
  },
  {
   "cell_type": "markdown",
   "metadata": {},
   "source": [
    "## Lecture Challenge 9 Solutions."
   ]
  },
  {
   "cell_type": "markdown",
   "metadata": {},
   "source": [
    "__Challenge 1__: In the learning resources part of Blackboard, you will find a text file called 'PrideAndPrejudiceC18.txt'. It is also on these notebooks. This is the eighteenth chapter of Jane Austen's Pride and Prejudice, the whole book can be found here: https://www.gutenberg.org/files/1342/1342-h/1342-h.htm#link2HCH0050. Load it into a string called 'text', make sure to include the spaces."
   ]
  },
  {
   "cell_type": "code",
   "execution_count": 7,
   "metadata": {},
   "outputs": [
    {
     "name": "stdout",
     "output_type": "stream",
     "text": [
      "warning: range error for conversion to character value\n",
      "text = Till Elizabeth entered the drawing-room at Netherfield, and looked in vain for Mr. Wickham among the cluster of red coats there assembled, a doubt of his being present had never occurred to her. The certainty of meeting him had not been checked by any of those recollections that might not unreasonably have alarmed her. She had dressed with more than usual care, and prepared in the highest spirits for the conquest of all that remained unsubdued of his heart, trusting that it was not more than might be won in the course of the evening. But in an instant arose the dreadful suspicion of his being purposely omitted for Mr. Darcy's pleasure in the Bingleys' invitation to the officers; and though this was not exactly the case, the absolute fact of his absence was pronounced by his friend Denny, to whom Lydia eagerly applied, and who told them that Wickham had been obliged to go to town on business the day before, and was not yet returned; adding, with a significant smile, \u0000\u0000\u0000I do not imagine his business would have called him away just now, if he had not wanted to avoid a certain gentleman here.\u0000\u0000\u0000\n",
      "\n",
      "This part of his intelligence, though unheard by Lydia, was caught by Elizabeth, and, as it assured her that Darcy was not less answerable for Wickham's absence than if her first surmise had been just, every feeling of displeasure against the former was so sharpened by immediate disappointment, that she could hardly reply with tolerable civility to the polite inquiries which he directly afterwards approached to make. Attendance, forbearance, patience with Darcy, was injury to Wickham. She was resolved against any sort of conversation with him, and turned away with a degree of ill-humour which she could not wholly surmount even in speaking to Mr. Bingley, whose blind partiality provoked her.\n",
      "\n",
      "But Elizabeth was not formed for ill-humour; and though every prospect of her own was destroyed for the evening, it could not dwell long on her spirits; and having told all her griefs to Charlotte Lucas, whom she had not seen for a week, she was soon able to make a voluntary transition to the oddities of her cousin, and to point him out to her particular notice. The first two dances, however, brought a return of distress; they were dances of mortification. Mr. Collins, awkward and solemn, apologising instead of attending, and often moving wrong without being aware of it, gave her all the shame and misery which a disagreeable partner for a couple of dances can give. The moment of her release from him was ecstasy.\n",
      "\n",
      "She danced next with an officer, and had the refreshment of talking of Wickham, and of hearing that he was universally liked. When those dances were over, she returned to Charlotte Lucas, and was in conversation with her, when she found herself suddenly addressed by Mr. Darcy who took her so much by surprise in his application for her hand, that, without knowing what she did, she accepted him. He walked away again immediately, and she was left to fret over her own want of presence of mind; Charlotte tried to console her:\n",
      "\n",
      "\u0000\u0000\u0000I dare say you will find him very agreeable.\u0000\u0000\u0000\n",
      "\n",
      "\u0000\u0000\u0000Heaven forbid! That would be the greatest misfortune of all! To find a man agreeable whom one is determined to hate! Do not wish me such an evil.\u0000\u0000\u0000\n",
      "\n",
      "When the dancing recommenced, however, and Darcy approached to claim her hand, Charlotte could not help cautioning her in a whisper, not to be a simpleton, and allow her fancy for Wickham to make her appear unpleasant in the eyes of a man ten times his consequence. Elizabeth made no answer, and took her place in the set, amazed at the dignity to which she was arrived in being allowed to stand opposite to Mr. Darcy, and reading in her neighbours' looks, their equal amazement in beholding it. They stood for some time without speaking a word; and she began to imagine that their silence was to last through the two dances, and at first was resolved not to break it; till suddenly fancying that it would be the greater punishment to her partner to oblige him to talk, she made some slight observation on the dance. He replied, and was again silent. After a pause of some minutes, she addressed him a second time with:\u0000\u0000\u0000\u0000\u0000\u0000It is your turn to say something now, Mr. Darcy. I talked about the dance, and you ought to make some sort of remark on the size of the room, or the number of couples.\u0000\u0000\u0000\n",
      "\n",
      "He smiled, and assured her that whatever she wished him to say should be said.\n",
      "\n",
      "\u0000\u0000\u0000Very well. That reply will do for the present. Perhaps by and by I may observe that private balls are much pleasanter than public ones. But now we may be silent.\u0000\u0000\u0000\n",
      "\n",
      "\u0000\u0000\u0000Do you talk by rule, then, while you are dancing?\u0000\u0000\u0000\n",
      "\n",
      "\u0000\u0000\u0000Sometimes. One must speak a little, you know. It would look odd to be entirely silent for half an hour together; and yet for the advantage of some, conversation ought to be so arranged, as that they may have the trouble of saying as little as possible.\u0000\u0000\u0000\n",
      "\n",
      "\u0000\u0000\u0000Are you consulting your own feelings in the present case, or do you imagine that you are gratifying mine?\u0000\u0000\u0000\n",
      "\n",
      "\u0000\u0000\u0000Both,\u0000\u0000\u0000 replied Elizabeth archly; \u0000\u0000\u0000for I have always seen a great similarity in the turn of our minds. We are each of an unsocial, taciturn disposition, unwilling to speak, unless we expect to say something that will amaze the whole room, and be handed down to posterity with all the eclat of a proverb.\u0000\u0000\u0000\n",
      "\n",
      "\u0000\u0000\u0000This is no very striking resemblance of your own character, I am sure,\u0000\u0000\u0000 said he. \u0000\u0000\u0000How near it may be to mine, I cannot pretend to say. You think it a faithful portrait undoubtedly.\u0000\u0000\u0000\n",
      "\n",
      "\u0000\u0000\u0000I must not decide on my own performance.\u0000\u0000\u0000\n",
      "\n",
      "He made no answer, and they were again silent till they had gone down the dance, when he asked her if she and her sisters did not very often walk to Meryton. She answered in the affirmative, and, unable to resist the temptation, added, \u0000\u0000\u0000When you met us there the other day, we had just been forming a new acquaintance.\u0000\u0000\u0000\n",
      "\n",
      "The effect was immediate. A deeper shade of hauteur overspread his features, but he said not a word, and Elizabeth, though blaming herself for her own weakness, could not go on. At length Darcy spoke, and in a constrained manner said, \u0000\u0000\u0000Mr. Wickham is blessed with such happy manners as may ensure his making friends\u0000\u0000\u0000whether he may be equally capable of retaining them, is less certain.\u0000\u0000\u0000\n",
      "\n",
      "\u0000\u0000\u0000He has been so unlucky as to lose your friendship,\u0000\u0000\u0000 replied Elizabeth with emphasis, \u0000\u0000\u0000and in a manner which he is likely to suffer from all his life.\u0000\u0000\u0000\n",
      "\n",
      "Darcy made no answer, and seemed desirous of changing the subject. At that moment, Sir William Lucas appeared close to them, meaning to pass through the set to the other side of the room; but on perceiving Mr. Darcy, he stopped with a bow of superior courtesy to compliment him on his dancing and his partner.\n",
      "\n",
      "\u0000\u0000\u0000I have been most highly gratified indeed, my dear sir. Such very superior dancing is not often seen. It is evident that you belong to the first circles. Allow me to say, however, that your fair partner does not disgrace you, and that I must hope to have this pleasure often repeated, especially when a certain desirable event, my dear Eliza (glancing at her sister and Bingley) shall take place. What congratulations will then flow in! I appeal to Mr. Darcy:\u0000\u0000\u0000but let me not interrupt you, sir. You will not thank me for detaining you from the bewitching converse of that young lady, whose bright eyes are also upbraiding me.\u0000\u0000\u0000\n",
      "\n",
      "The latter part of this address was scarcely heard by Darcy; but Sir William's allusion to his friend seemed to strike him forcibly, and his eyes were directed with a very serious expression towards Bingley and Jane, who were dancing together. Recovering himself, however, shortly, he turned to his partner, and said, \u0000\u0000\u0000Sir William's interruption has made me forget what we were talking of.\u0000\u0000\u0000\n",
      "\n",
      "\u0000\u0000\u0000I do not think we were speaking at all. Sir William could not have interrupted two people in the room who had less to say for themselves. We have tried two or three subjects already without success, and what we are to talk of next I cannot imagine.\u0000\u0000\u0000\n",
      "\n",
      "\u0000\u0000\u0000What think you of books?\u0000\u0000\u0000 said he, smiling.\n",
      "\n",
      "\u0000\u0000\u0000Books\u0000\u0000\u0000oh! no. I am sure we never read the same, or not with the same feelings.\u0000\u0000\u0000\n"
     ]
    },
    {
     "name": "stdout",
     "output_type": "stream",
     "text": [
      "\n",
      "\u0000\u0000\u0000I am sorry you think so; but if that be the case, there can at least be no want of subject. We may compare our different opinions.\u0000\u0000\u0000\n",
      "\n",
      "\u0000\u0000\u0000No\u0000\u0000\u0000I cannot talk of books in a ball-room; my head is always full of something else.\u0000\u0000\u0000\n",
      "\n",
      "\u0000\u0000\u0000The present always occupies you in such scenes\u0000\u0000\u0000does it?\u0000\u0000\u0000 said he, with a look of doubt.\n",
      "\n",
      "\u0000\u0000\u0000Yes, always,\u0000\u0000\u0000 she replied, without knowing what she said, for her thoughts had wandered far from the subject, as soon afterwards appeared by her suddenly exclaiming, \u0000\u0000\u0000I remember hearing you once say, Mr. Darcy, that you hardly ever forgave, that your resentment once created was unappeasable. You are very cautious, I suppose, as to its being created.\u0000\u0000\u0000\n",
      "\n",
      "\u0000\u0000\u0000I am,\u0000\u0000\u0000 said he, with a firm voice.\n",
      "\n",
      "\u0000\u0000\u0000And never allow yourself to be blinded by prejudice?\u0000\u0000\u0000\n",
      "\n",
      "\u0000\u0000\u0000I hope not.\u0000\u0000\u0000\n",
      "\n",
      "\u0000\u0000\u0000It is particularly incumbent on those who never change their opinion, to be secure of judging properly at first.\u0000\u0000\u0000\n",
      "\n",
      "\u0000\u0000\u0000May I ask to what these questions tend?\u0000\u0000\u0000\n",
      "\n",
      "\u0000\u0000\u0000Merely to the illustration of your character,\u0000\u0000\u0000 said she, endeavouring to shake off her gravity. \u0000\u0000\u0000I am trying to make it out.\u0000\u0000\u0000\n",
      "\n",
      "\u0000\u0000\u0000And what is your success?\u0000\u0000\u0000\n",
      "\n",
      "She shook her head. \u0000\u0000\u0000I do not get on at all. I hear such different accounts of you as puzzle me exceedingly.\u0000\u0000\u0000\n",
      "\n",
      "\u0000\u0000\u0000I can readily believe,\u0000\u0000\u0000 answered he gravely, \u0000\u0000\u0000that reports may vary greatly with respect to me; and I could wish, Miss Bennet, that you were not to sketch my character at the present moment, as there is reason to fear that the performance would reflect no credit on either.\u0000\u0000\u0000\n",
      "\n",
      "\u0000\u0000\u0000But if I do not take your likeness now, I may never have another opportunity.\u0000\u0000\u0000\n",
      "\n",
      "\u0000\u0000\u0000I would by no means suspend any pleasure of yours,\u0000\u0000\u0000 he coldly replied. She said no more, and they went down the other dance and parted in silence; and on each side dissatisfied, though not to an equal degree, for in Darcy's breast there was a tolerably powerful feeling towards her, which soon procured her pardon, and directed all his anger against another.\n",
      "\n",
      "They had not long separated, when Miss Bingley came towards her, and with an expression of civil disdain accosted her:\n",
      "\n",
      "\u0000\u0000\u0000So, Miss Eliza, I hear you are quite delighted with George Wickham! Your sister has been talking to me about him, and asking me a thousand questions; and I find that the young man quite forgot to tell you, among his other communication, that he was the son of old Wickham, the late Mr. Darcy's steward. Let me recommend you, however, as a friend, not to give implicit confidence to all his assertions; for as to Mr. Darcy's using him ill, it is perfectly false; for, on the contrary, he has always been remarkably kind to him, though George Wickham has treated Mr. Darcy in a most infamous manner. I do not know the particulars, but I know very well that Mr. Darcy is not in the least to blame, that he cannot bear to hear George Wickham mentioned, and that though my brother thought that he could not well avoid including him in his invitation to the officers, he was excessively glad to find that he had taken himself out of the way. His coming into the country at all is a most insolent thing, indeed, and I wonder how he could presume to do it. I pity you, Miss Eliza, for this discovery of your favourite's guilt; but really, considering his descent, one could not expect much better.\u0000\u0000\u0000\n",
      "\n",
      "\u0000\u0000\u0000His guilt and his descent appear by your account to be the same,\u0000\u0000\u0000 said Elizabeth angrily; \u0000\u0000\u0000for I have heard you accuse him of nothing worse than of being the son of Mr. Darcy's steward, and of that, I can assure you, he informed me himself.\u0000\u0000\u0000\n",
      "\n",
      "\u0000\u0000\u0000I beg your pardon,\u0000\u0000\u0000 replied Miss Bingley, turning away with a sneer. \u0000\u0000\u0000Excuse my interference\u0000\u0000\u0000it was kindly meant.\u0000\u0000\u0000\n",
      "\n",
      "\u0000\u0000\u0000Insolent girl!\u0000\u0000\u0000 said Elizabeth to herself. \u0000\u0000\u0000You are much mistaken if you expect to influence me by such a paltry attack as this. I see nothing in it but your own wilful ignorance and the malice of Mr. Darcy.\u0000\u0000\u0000 She then sought her eldest sister, who had undertaken to make inquiries on the same subject of Bingley. Jane met her with a smile of such sweet complacency, a glow of such happy expression, as sufficiently marked how well she was satisfied with the occurrences of the evening. Elizabeth instantly read her feelings, and at that moment solicitude for Wickham, resentment against his enemies, and everything else, gave way before the hope of Jane's being in the fairest way for happiness.\n",
      "\n",
      "\u0000\u0000\u0000I want to know,\u0000\u0000\u0000 said she, with a countenance no less smiling than her sister's, \u0000\u0000\u0000what you have learnt about Mr. Wickham. But perhaps you have been too pleasantly engaged to think of any third person; in which case you may be sure of my pardon.\u0000\u0000\u0000\n",
      "\n",
      "\u0000\u0000\u0000No,\u0000\u0000\u0000 replied Jane, \u0000\u0000\u0000I have not forgotten him; but I have nothing satisfactory to tell you. Mr. Bingley does not know the whole of his history, and is quite ignorant of the circumstances which have principally offended Mr. Darcy; but he will vouch for the good conduct, the probity, and honour of his friend, and is perfectly convinced that Mr. Wickham has deserved much less attention from Mr. Darcy than he has received; and I am sorry to say by his account as well as his sister's, Mr. Wickham is by no means a respectable young man. I am afraid he has been very imprudent, and has deserved to lose Mr. Darcy's regard.\u0000\u0000\u0000\n",
      "\n",
      "\u0000\u0000\u0000Mr. Bingley does not know Mr. Wickham himself?\u0000\u0000\u0000\n",
      "\n",
      "\u0000\u0000\u0000No; he never saw him till the other morning at Meryton.\u0000\u0000\u0000\n",
      "\n",
      "\u0000\u0000\u0000This account then is what he has received from Mr. Darcy. I am satisfied. But what does he say of the living?\u0000\u0000\u0000\n",
      "\n",
      "\u0000\u0000\u0000He does not exactly recollect the circumstances, though he has heard them from Mr. Darcy more than once, but he believes that it was left to him conditionally only.\u0000\u0000\u0000\n",
      "\n",
      "\u0000\u0000\u0000I have not a doubt of Mr. Bingley's sincerity,\u0000\u0000\u0000 said Elizabeth warmly; \u0000\u0000\u0000but you must excuse my not being convinced by assurances only. Mr. Bingley's defense of his friend was a very able one, I dare say; but since he is unacquainted with several parts of the story, and has learnt the rest from that friend himself, I shall venture to still think of both gentlemen as I did before.\u0000\u0000\u0000\n",
      "\n",
      "She then changed the discourse to one more gratifying to each, and on which there could be no difference of sentiment. Elizabeth listened with delight to the happy, though modest hopes which Jane entertained of Mr. Bingley's regard, and said all in her power to heighten her confidence in it. On their being joined by Mr. Bingley himself, Elizabeth withdrew to Miss Lucas; to whose inquiry after the pleasantness of her last partner she had scarcely replied, before Mr. Collins came up to them, and told her with great exultation that he had just been so fortunate as to make a most important discovery.\n",
      "\n",
      "\u0000\u0000\u0000I have found out,\u0000\u0000\u0000 said he, \u0000\u0000\u0000by a singular accident, that there is now in the room a near relation of my patroness. I happened to overhear the gentleman himself mentioning to the young lady who does the honours of the house the names of his cousin Miss de Bourgh, and of her mother Lady Catherine. How wonderfully these sort of things occur! Who would have thought of my meeting with, perhaps, a nephew of Lady Catherine de Bourgh in this assembly! I am most thankful that the discovery is made in time for me to pay my respects to him, which I am now going to do, and trust he will excuse my not having done it before. My total ignorance of the connection must plead my apology.\u0000\u0000\u0000\n",
      "\n",
      "\u0000\u0000\u0000You are not going to introduce yourself to Mr. Darcy!\u0000\u0000\u0000\n",
      "\n",
      "\u0000\u0000\u0000Indeed I am. I shall entreat his pardon for not having done it earlier. I believe him to be Lady Catherine's nephew. It will be in my power to assure him that her ladyship was quite well yesterday se'nnight.\u0000\u0000\u0000\n",
      "\n",
      "Elizabeth tried hard to dissuade him from such a scheme, assuring him that Mr. Darcy would consider his addressing him without introduction as an impertinent freedom, rather than a compliment to his aunt; that it was not in the least necessary there should be any notice on either side; and that if it were, it must belong to Mr. Darcy, the superior in consequence, to begin the acquaintance. Mr. Collins listened to her with the determined air of following his own inclination, and, when she ceased speaking, replied thus:\n",
      "\n",
      "\u0000\u0000\u0000My dear Miss Elizabeth, I have the highest opinion in the world in your excellent judgement in all matters within the scope of your understanding; but permit me to say, that there must be a wide difference between the established forms of ceremony amongst the laity, and those which regulate the clergy; for, give me leave to observe that I consider the clerical office as equal in point of dignity with the highest rank in the kingdom\u0000\u0000\u0000provided that a proper humility of behaviour is at the same time maintained. You must therefore allow me to follow the dictates of my conscience on this occasion, which leads me to perform what I look on as a point of duty. Pardon me for neglecting to profit by your advice, which on every other subject shall be my constant guide, though in the case before us I consider myself more fitted by education and habitual study to decide on what is right than a young lady like yourself.\u0000\u0000\u0000 And with a low bow he left her to attack Mr. Darcy, whose reception of his advances she eagerly watched, and whose astonishment at being so addressed was very evident. Her cousin prefaced his speech with a solemn bow and though she could not hear a word of it, she felt as if hearing it all, and saw in the motion of his lips the words \u0000\u0000\u0000apology,\u0000\u0000\u0000 \u0000\u0000\u0000Hunsford,\u0000\u0000\u0000 and \u0000\u0000\u0000Lady Catherine de Bourgh.\u0000\u0000\u0000 It vexed her to see him expose himself to such a man. Mr. Darcy was eyeing him with unrestrained wonder, and when at last Mr. Collins allowed him time to speak, replied with an air of distant civility. Mr. Collins, however, was not discouraged from speaking again, and Mr. Darcy's contempt seemed abundantly increasing with the length of his second speech, and at the end of it he only made him a slight bow, and moved another way. Mr. Collins then returned to Elizabeth.\n"
     ]
    },
    {
     "name": "stdout",
     "output_type": "stream",
     "text": [
      "\n",
      "\u0000\u0000\u0000I have no reason, I assure you,\u0000\u0000\u0000 said he, \u0000\u0000\u0000to be dissatisfied with my reception. Mr. Darcy seemed much pleased with the attention. He answered me with the utmost civility, and even paid me the compliment of saying that he was so well convinced of Lady Catherine's discernment as to be certain she could never bestow a favour unworthily. It was really a very handsome thought. Upon the whole, I am much pleased with him.\u0000\u0000\u0000\n",
      "\n",
      "As Elizabeth had no longer any interest of her own to pursue, she turned her attention almost entirely on her sister and Mr. Bingley; and the train of agreeable reflections which her observations gave birth to, made her perhaps almost as happy as Jane. She saw her in idea settled in that very house, in all the felicity which a marriage of true affection could bestow; and she felt capable, under such circumstances, of endeavouring even to like Bingley's two sisters. Her mother's thoughts she plainly saw were bent the same way, and she determined not to venture near her, lest she might hear too much. When they sat down to supper, therefore, she considered it a most unlucky perverseness which placed them within one of each other; and deeply was she vexed to find that her mother was talking to that one person (Lady Lucas) freely, openly, and of nothing else but her expectation that Jane would soon be married to Mr. Bingley. It was an animating subject, and Mrs. Bennet seemed incapable of fatigue while enumerating the advantages of the match. His being such a charming young man, and so rich, and living but three miles from them, were the first points of self-gratulation; and then it was such a comfort to think how fond the two sisters were of Jane, and to be certain that they must desire the connection as much as she could do. It was, moreover, such a promising thing for her younger daughters, as Jane's marrying so greatly must throw them in the way of other rich men; and lastly, it was so pleasant at her time of life to be able to consign her single daughters to the care of their sister, that she might not be obliged to go into company more than she liked. It was necessary to make this circumstance a matter of pleasure, because on such occasions it is the etiquette; but no one was less likely than Mrs. Bennet to find comfort in staying home at any period of her life. She concluded with many good wishes that Lady Lucas might soon be equally fortunate, though evidently and triumphantly believing there was no chance of it.\n",
      "\n",
      "In vain did Elizabeth endeavour to check the rapidity of her mother's words, or persuade her to describe her felicity in a less audible whisper; for, to her inexpressible vexation, she could perceive that the chief of it was overheard by Mr. Darcy, who sat opposite to them. Her mother only scolded her for being nonsensical.\n",
      "\n",
      "\u0000\u0000\u0000What is Mr. Darcy to me, pray, that I should be afraid of him? I am sure we owe him no such particular civility as to be obliged to say nothing he may not like to hear.\u0000\u0000\u0000\n",
      "\n",
      "\u0000\u0000\u0000For heaven's sake, madam, speak lower. What advantage can it be for you to offend Mr. Darcy? You will never recommend yourself to his friend by so doing!\u0000\u0000\u0000\n",
      "\n",
      "Nothing that she could say, however, had any influence. Her mother would talk of her views in the same intelligible tone. Elizabeth blushed and blushed again with shame and vexation. She could not help frequently glancing her eye at Mr. Darcy, though every glance convinced her of what she dreaded; for though he was not always looking at her mother, she was convinced that his attention was invariably fixed by her. The expression of his face changed gradually from indignant contempt to a composed and steady gravity.\n",
      "\n",
      "At length, however, Mrs. Bennet had no more to say; and Lady Lucas, who had been long yawning at the repetition of delights which she saw no likelihood of sharing, was left to the comforts of cold ham and chicken. Elizabeth now began to revive. But not long was the interval of tranquillity; for, when supper was over, singing was talked of, and she had the mortification of seeing Mary, after very little entreaty, preparing to oblige the company. By many significant looks and silent entreaties, did she endeavour to prevent such a proof of complaisance, but in vain; Mary would not understand them; such an opportunity of exhibiting was delightful to her, and she began her song. Elizabeth's eyes were fixed on her with most painful sensations, and she watched her progress through the several stanzas with an impatience which was very ill rewarded at their close; for Mary, on receiving, amongst the thanks of the table, the hint of a hope that she might be prevailed on to favour them again, after the pause of half a minute began another. Mary's powers were by no means fitted for such a display; her voice was weak, and her manner affected. Elizabeth was in agonies. She looked at Jane, to see how she bore it; but Jane was very composedly talking to Bingley. She looked at his two sisters, and saw them making signs of derision at each other, and at Darcy, who continued, however, imperturbably grave. She looked at her father to entreat his interference, lest Mary should be singing all night. He took the hint, and when Mary had finished her second song, said aloud, \u0000\u0000\u0000That will do extremely well, child. You have delighted us long enough. Let the other young ladies have time to exhibit.\u0000\u0000\u0000\n",
      "\n",
      "Mary, though pretending not to hear, was somewhat disconcerted; and Elizabeth, sorry for her, and sorry for her father's speech, was afraid her anxiety had done no good. Others of the party were now applied to.\n",
      "\n",
      "\u0000\u0000\u0000If I,\u0000\u0000\u0000 said Mr. Collins, \u0000\u0000\u0000were so fortunate as to be able to sing, I should have great pleasure, I am sure, in obliging the company with an air; for I consider music as a very innocent diversion, and perfectly compatible with the profession of a clergyman. I do not mean, however, to assert that we can be justified in devoting too much of our time to music, for there are certainly other things to be attended to. The rector of a parish has much to do. In the first place, he must make such an agreement for tithes as may be beneficial to himself and not offensive to his patron. He must write his own sermons; and the time that remains will not be too much for his parish duties, and the care and improvement of his dwelling, which he cannot be excused from making as comfortable as possible. And I do not think it of light importance that he should have attentive and conciliatory manners towards everybody, especially towards those to whom he owes his preferment. I cannot acquit him of that duty; nor could I think well of the man who should omit an occasion of testifying his respect towards anybody connected with the family.\u0000\u0000\u0000 And with a bow to Mr. Darcy, he concluded his speech, which had been spoken so loud as to be heard by half the room. Many stared\u0000\u0000\u0000many smiled; but no one looked more amused than Mr. Bennet himself, while his wife seriously commended Mr. Collins for having spoken so sensibly, and observed in a half-whisper to Lady Lucas, that he was a remarkably clever, good kind of young man.\n",
      "\n",
      "To Elizabeth it appeared that, had her family made an agreement to expose themselves as much as they could during the evening, it would have been impossible for them to play their parts with more spirit or finer success; and happy did she think it for Bingley and her sister that some of the exhibition had escaped his notice, and that his feelings were not of a sort to be much distressed by the folly which he must have witnessed. That his two sisters and Mr. Darcy, however, should have such an opportunity of ridiculing her relations, was bad enough, and she could not determine whether the silent contempt of the gentleman, or the insolent smiles of the ladies, were more intolerable.\n",
      "\n",
      "The rest of the evening brought her little amusement. She was teased by Mr. Collins, who continued most perseveringly by her side, and though he could not prevail on her to dance with him again, put it out of her power to dance with others. In vain did she entreat him to stand up with somebody else, and offer to introduce him to any young lady in the room. He assured her, that as to dancing, he was perfectly indifferent to it; that his chief object was by delicate attentions to recommend himself to her and that he should therefore make a point of remaining close to her the whole evening. There was no arguing upon such a project. She owed her greatest relief to her friend Miss Lucas, who often joined them, and good-naturedly engaged Mr. Collins's conversation to herself.\n"
     ]
    },
    {
     "name": "stdout",
     "output_type": "stream",
     "text": [
      "\n",
      "She was at least free from the offense of Mr. Darcy's further notice; though often standing within a very short distance of her, quite disengaged, he never came near enough to speak. She felt it to be the probable consequence of her allusions to Mr. Wickham, and rejoiced in it.\n",
      "\n",
      "The Longbourn party were the last of all the company to depart, and, by a manoeuvre of Mrs. Bennet, had to wait for their carriage a quarter of an hour after everybody else was gone, which gave them time to see how heartily they were wished away by some of the family. Mrs. Hurst and her sister scarcely opened their mouths, except to complain of fatigue, and were evidently impatient to have the house to themselves. They repulsed every attempt of Mrs. Bennet at conversation, and by so doing threw a languor over the whole party, which was very little relieved by the long speeches of Mr. Collins, who was complimenting Mr. Bingley and his sisters on the elegance of their entertainment, and the hospitality and politeness which had marked their behaviour to their guests. Darcy said nothing at all. Mr. Bennet, in equal silence, was enjoying the scene. Mr. Bingley and Jane were standing together, a little detached from the rest, and talked only to each other. Elizabeth preserved as steady a silence as either Mrs. Hurst or Miss Bingley; and even Lydia was too much fatigued to utter more than the occasional exclamation of \u0000\u0000\u0000Lord, how tired I am!\u0000\u0000\u0000 accompanied by a violent yawn.\n",
      "\n",
      "When at length they arose to take leave, Mrs. Bennet was most pressingly civil in her hope of seeing the whole family soon at Longbourn, and addressed herself especially to Mr. Bingley, to assure him how happy he would make them by eating a family dinner with them at any time, without the ceremony of a formal invitation. Bingley was all grateful pleasure, and he readily engaged for taking the earliest opportunity of waiting on her, after his return from London, whither he was obliged to go the next day for a short time.\n",
      "\n",
      "Mrs. Bennet was perfectly satisfied, and quitted the house under the delightful persuasion that, allowing for the necessary preparations of settlements, new carriages, and wedding clothes, she should undoubtedly see her daughter settled at Netherfield in the course of three or four months. Of having another daughter married to Mr. Collins, she thought with equal certainty, and with considerable, though not equal, pleasure. Elizabeth was the least dear to her of all her children; and though the man and the match were quite good enough for her, the worth of each was eclipsed by Mr. Bingley and Netherfield.\n",
      "\n"
     ]
    }
   ],
   "source": [
    "fid = fopen('PrideAndPrejudiceC18.txt','r');\n",
    "text = fscanf(fid,'%c')"
   ]
  },
  {
   "cell_type": "markdown",
   "metadata": {},
   "source": [
    "__Challenge 2__: Can you find the number of times the words 'Darcy', 'Elizabeth', 'Wickham' and 'Bingley' are mentioned? (These are some of the important characters of the novel).\n",
    "\n",
    "You might find the function strcmp('text1','text2') useful as it compares two strings together, it returns 1 if they are the same and 0 if they are not:\n",
    "\n",
    "__Challenge 2.1__: The character Elizabeth is also referred to as 'Lizzy' and 'Eliza', can you add these to the number of mentions for Elizabeth."
   ]
  },
  {
   "cell_type": "code",
   "execution_count": 34,
   "metadata": {
    "scrolled": true
   },
   "outputs": [
    {
     "name": "stdout",
     "output_type": "stream",
     "text": [
      "Elizabeth is mentioned 55 times \n",
      "Darcy is mentioned 41 times \n",
      "Wickham is mentioned 17 times \n",
      "Bingley is mentioned 24 times \n"
     ]
    }
   ],
   "source": [
    "n = length(text);\n",
    "D = 'Darcy'; Eb = 'Elizabeth'; W = 'Wickham';\n",
    "B = 'Bingley'; El = 'Eliza'; L = 'Lizzy';\n",
    "\n",
    "elen = length(Eb)-1; ellen = length(El)-1; Llen = length(L)-1;\n",
    "dlen = length(D)-1; wlen = length(W)-1; blen = length(B)-1;\n",
    "\n",
    "Ecount = 0; Dcount = 0;\n",
    "Wcount = 0; Bcount =0;\n",
    "\n",
    "for i = 1:n\n",
    "    elmin = min(i+elen,n);  %Elizabeth\n",
    "    emin = min(i+ellen,n);  %Eliza\n",
    "    lmin = min(i+ellen,n);  %Lizzy\n",
    "    Ecount = Ecount + strcmp(text(i:elmin),Eb)+strcmp(text(i:emin),El)+strcmp(text(i:lmin),L);\n",
    "    \n",
    "    dmin = min(i+dlen,n);\n",
    "    Dcount = Dcount + strcmp(text(i:dmin),D);\n",
    "    \n",
    "    wmin = min(i+wlen,n);\n",
    "    Wcount = Wcount + strcmp(text(i:wmin),W);\n",
    "    \n",
    "    bmin = min(i+blen,n);\n",
    "    Bcount = Bcount + strcmp(text(i:bmin),B);\n",
    "end\n",
    "fprintf('Elizabeth is mentioned %.0f times \\n', Ecount);\n",
    "fprintf('Darcy is mentioned %.0f times \\n',Dcount);\n",
    "fprintf('Wickham is mentioned %.0f times \\n',Wcount);\n",
    "fprintf('Bingley is mentioned %.0f times \\n', Bcount);"
   ]
  },
  {
   "cell_type": "code",
   "execution_count": 35,
   "metadata": {},
   "outputs": [],
   "source": [
    "%{\n",
    "Some explanation of the code:\n",
    "\n",
    "The variables that will count the number of times the names occur are Ecount, Dcount, Wcount and Bcount.\n",
    "Similarly to Lecture Challenge 8, the sum works by adding 1 if the position is a match and 0 if it is not.\n",
    "Again like Lecture Challenge 8 we could have used if statements.\n",
    "\n",
    "For each string (Elizabeth, Darcy,...) we are looking at the i to i+length-1\n",
    "part of the text and comparing it to the string.\n",
    "\n",
    "There are issues with how long the for loop runs. If we let it run to n, then we will go outside the array index\n",
    "with the term n+length-1. Each string is a different length so we could run until (n-maximum length of the strings)\n",
    "but what if the last word is Wickham? If we went only as far to compare Elizabeth with the last 9 letters,\n",
    "we would miss Wickham or Darcy as that would be the last 7 or 5 letters.\n",
    "\n",
    "Instead the strcmp compares either i to i+length-1 OR i to n, whichever is smallest. Therefore we compare all\n",
    "possibilities and we do not get an array index error.\n",
    "%}"
   ]
  },
  {
   "cell_type": "markdown",
   "metadata": {},
   "source": [
    "__Challenge 3__: Can you plot the positions at which they are mentioned in the chapter? (You might have to think about how you are going to plot a single vector as normally you use two in the function plot.) Can you save the positions into seperate files called 'DarcyPos.txt', 'ElizabethPos.txt', 'WickhamPos.txt' and 'BingleyPos.txt'."
   ]
  },
  {
   "cell_type": "markdown",
   "metadata": {},
   "source": [
    "This code is quite similar to the above, but rather than counting when they occur we will save their positions in vectors."
   ]
  },
  {
   "cell_type": "code",
   "execution_count": 55,
   "metadata": {},
   "outputs": [
    {
     "data": {
      "image/png": "[encoded data removed]",
      "text/plain": [
       "<IPython.core.display.Image object>"
      ]
     },
     "metadata": {},
     "output_type": "display_data"
    }
   ],
   "source": [
    "n = length(text);\n",
    "D = 'Darcy'; Eb = 'Elizabeth'; W = 'Wickham';\n",
    "B = 'Bingley'; El = 'Eliza'; L = 'Lizzy';\n",
    "\n",
    "elen = length(Eb)-1; ellen = length(El)-1; Llen = length(L)-1;\n",
    "dlen = length(D)-1; wlen = length(W)-1; blen = length(B)-1;\n",
    "\n",
    "ve = []; vd = []; vw = []; vb = []; \n",
    "\n",
    "for i = 1:n\n",
    "    elmin = min(i+elen,n);  %Elizabeth\n",
    "    emin = min(i+ellen,n);  %Eliza\n",
    "    lmin = min(i+ellen,n);  %Lizzy\n",
    "    \n",
    "    dmin = min(i+dlen,n); % Darcy\n",
    "    \n",
    "    wmin = min(i+wlen,n); % Wickham\n",
    "    \n",
    "    bmin = min(i+blen,n); % Bingley\n",
    "    \n",
    "    if (strcmp(text(i:elmin),Eb) == 1 || strcmp(text(i:emin),El) == 1 || strcmp(text(i:lmin),L) == 1)\n",
    "        ve = [ve i];\n",
    "    elseif strcmp(text(i:dmin),D) == 1\n",
    "        vd = [vd i];\n",
    "    elseif strcmp(text(i:wmin),W) == 1          % Here we are storing the positions, if the comparison is 1 then store.\n",
    "        vw = [vw i];\n",
    "    elseif strcmp(text(i:bmin),B) == 1\n",
    "        vb = [vb i];\n",
    "    end\n",
    "end\n",
    "%{\n",
    "To plot these positions we plot against different constants so that positions can be seen clearly\n",
    "%}\n",
    "Ezero(1:length(ve)) = 1;\n",
    "Dzero(1:length(vd)) = 0.6;\n",
    "Wzero(1:length(vw)) = 0.3;\n",
    "Bzero(1:length(vb)) = 0;\n",
    "\n",
    "plot(ve,Ezero,'x',vd,Dzero,'o',vw,Wzero,'s',vb,Bzero,'^')\n",
    "legend('Elizabeth','Darcy','Wickham','Bingley','Location','northeastoutside')\n",
    "axis([0 length(text) -0.25 1.25])\n",
    "xlabel('Position')\n",
    "title('Position of mentions of the key characters in Chapter 18')"
   ]
  },
  {
   "cell_type": "code",
   "execution_count": null,
   "metadata": {},
   "outputs": [],
   "source": []
  }
 ],
 "metadata": {
  "kernelspec": {
   "display_name": "Octave",
   "language": "octave",
   "name": "octave"
  },
  "language_info": {
   "file_extension": ".m",
   "help_links": [
    {
     "text": "GNU Octave",
     "url": "https://www.gnu.org/software/octave/support.html"
    },
    {
     "text": "Octave Kernel",
     "url": "https://github.com/Calysto/octave_kernel"
    },
    {
     "text": "MetaKernel Magics",
     "url": "https://github.com/calysto/metakernel/blob/master/metakernel/magics/README.md"
    }
   ],
   "mimetype": "text/x-octave",
   "name": "octave",
   "version": "4.0.0"
  }
 },
 "nbformat": 4,
 "nbformat_minor": 2
}
