{
 "cells": [
  {
   "cell_type": "markdown",
   "metadata": {},
   "source": [
    "# AM10IM - Introduction to Matlab"
   ]
  },
  {
   "cell_type": "markdown",
   "metadata": {},
   "source": [
    "## Lecture 5 - Functions and Good Coding Practices"
   ]
  },
  {
   "cell_type": "markdown",
   "metadata": {},
   "source": [
    "Table of Contents\n",
    "\n",
    "-  [5.1 Summary](#Summary)\n",
    "-  [5.2 Functions](#Fun)\n",
    "-  [5.3 Good Coding Practices](#Good)\n",
    "-  [5.4 Debugging Code](#Debug)\n",
    "    -  [5.4.1 Preventative Measures](#Prevent)\n",
    "    -  [5.4.2 When things eventually do go wrong](#Wrong)"
   ]
  },
  {
   "cell_type": "markdown",
   "metadata": {},
   "source": [
    "<a id='Summary'></a>"
   ]
  },
  {
   "cell_type": "markdown",
   "metadata": {},
   "source": [
    "### 5.1 Summary"
   ]
  },
  {
   "cell_type": "markdown",
   "metadata": {},
   "source": [
    "We are creating more and more complex programs. It is important that you understand the syntax that is involved in arrays, logical expressions, if statements and for loops. Make sure you have had a good go at the Lecture Challenges, these will help you with your coursework which will be released next week. Today we will go through another use of .m files and also good coding practices/ what to do when you are stuck."
   ]
  },
  {
   "cell_type": "markdown",
   "metadata": {},
   "source": [
    "<a id='Fun'></a>"
   ]
  },
  {
   "cell_type": "markdown",
   "metadata": {},
   "source": [
    "### 5.2 Functions"
   ]
  },
  {
   "cell_type": "markdown",
   "metadata": {},
   "source": [
    "Hopefully by now you have realised that Matlab has an __incredible amount__ of inbuilt functions. You will never learn them all, and nor should you. However, Matlab does not have every possible function. It may be that we want function that does not exist! In this case we can __create__ our own functions in a separate .m file:"
   ]
  },
  {
   "cell_type": "code",
   "execution_count": null,
   "metadata": {},
   "outputs": [],
   "source": [
    "function [y] = fname(x1)\n",
    "    %    ^^output    ^^input\n",
    "    % Code .\n",
    "end"
   ]
  },
  {
   "cell_type": "markdown",
   "metadata": {},
   "source": [
    "From the command line we can call functions. Let's see this in action. Consider a function that given an input number $n$ will calculate $n!$ i.e:\n",
    "\n",
    "$$\n",
    "n\\left(n-1\\right)\\left(n-2\\right)\\left(n-3\\right)\\cdots1\n",
    "$$\n",
    "\n",
    "In a separate .m file we create the function:"
   ]
  },
  {
   "cell_type": "code",
   "execution_count": 16,
   "metadata": {},
   "outputs": [],
   "source": [
    "function [y] = ft(x)\n",
    "    y=1;    \n",
    "    for i = 1:x\n",
    "        y = y*i;\n",
    "    end\n",
    "end"
   ]
  },
  {
   "cell_type": "code",
   "execution_count": 20,
   "metadata": {},
   "outputs": [
    {
     "name": "stdout",
     "output_type": "stream",
     "text": [
      "n =  6\n",
      "a =  720\n",
      "error: 'y' undefined near line 1 column 1\n",
      "error: 'x' undefined near line 1 column 1\n"
     ]
    }
   ],
   "source": [
    "n = 6\n",
    "a = ft(n)\n",
    "y\n",
    "x"
   ]
  },
  {
   "cell_type": "markdown",
   "metadata": {},
   "source": [
    "In the function, the __final value__ of $y$ is outputted, but the value $y$ is not stored (as seen by the error above), instead the value of the output is assigned here to $a$. Also one did not have to use the variable $x$ for the input. __Once created, it should be treated as any other inbuilt function__. It can be used (called) in the command line or in other matlab scripts as long as the function and the matlab script calling it is in the same folder.\n",
    "\n",
    "The function __must__ be saved as the same name it is assigned, so above the function __will only work__ if it is saved in a file called __ft.m__\n",
    "\n",
    "\n",
    "Can you change the above function so that it will output 'Please input an integer' if a non-integer is given. Can you also include a similar error message if a negative number is provided?"
   ]
  },
  {
   "cell_type": "markdown",
   "metadata": {},
   "source": [
    "A function may have many inputs and outputs: Consider a function that performs both the following sum and product:\n",
    "\n",
    "\\begin{align}\n",
    "a_1 = \\sum_{n=1}^{N} \\frac{1}{n^{c}} = \\frac{1}{1^c}+\\frac{1}{2^c} +\\cdots + \\frac{1}{N^c}\\\\\n",
    "a_2 = \\prod_{n=1}^{N} \\frac{1}{n^{c}} = \\frac{1}{1^c}\\times\\frac{1}{2^c}\\times\\cdots\\times\\frac{1}{N^c}\n",
    "\\end{align}\n",
    "\n",
    "which has inputs $N$ and $c$ (the term at which both terminate and the power which each term is raised to) and outputs $a_1$ and $a_2$"
   ]
  },
  {
   "cell_type": "code",
   "execution_count": 3,
   "metadata": {},
   "outputs": [],
   "source": [
    "function [a1, a2] = sumprod(N,c)\n",
    "    a1 = 0;\n",
    "    a2 = 1;\n",
    "    for i=1:N\n",
    "        a1 = a1+1./(i.^c);\n",
    "        a2 = a2.*1./(i.^c);\n",
    "    end\n",
    "end"
   ]
  },
  {
   "cell_type": "code",
   "execution_count": 6,
   "metadata": {},
   "outputs": [
    {
     "name": "stdout",
     "output_type": "stream",
     "text": [
      "x =  1.4236\n",
      "y =  0.0017361\n"
     ]
    }
   ],
   "source": [
    "[x y] = sumprod(4,2)"
   ]
  },
  {
   "cell_type": "markdown",
   "metadata": {},
   "source": [
    "Notice that I had to specify $\\left[x, y\\right]$ was equal to the output of the function, otherwise it would simply assign the first number:"
   ]
  },
  {
   "cell_type": "code",
   "execution_count": 29,
   "metadata": {},
   "outputs": [
    {
     "name": "stdout",
     "output_type": "stream",
     "text": [
      "w =  1.4236\n"
     ]
    }
   ],
   "source": [
    "w = sumprod(4,2)"
   ]
  },
  {
   "cell_type": "markdown",
   "metadata": {},
   "source": [
    "Can you write a function that, given an input radius, will calculate the area of the corresponding circle?"
   ]
  },
  {
   "cell_type": "code",
   "execution_count": null,
   "metadata": {},
   "outputs": [],
   "source": [
    "function [A] = circ(R)\n",
    "    % Code\n",
    "end"
   ]
  },
  {
   "cell_type": "markdown",
   "metadata": {},
   "source": [
    "Can you now call it in a for loop that will calculate the area of circles for radius between 1 and 10?"
   ]
  },
  {
   "cell_type": "code",
   "execution_count": 7,
   "metadata": {},
   "outputs": [],
   "source": [
    "for i = 1:10\n",
    "    %call the function circ\n",
    "end"
   ]
  },
  {
   "cell_type": "markdown",
   "metadata": {},
   "source": [
    "Can you write a function that will calculate the following sum:\n",
    "\n",
    "$$\n",
    "S = \\sum_{k=1}^N \\frac{1}{\\sqrt{k}},\n",
    "$$\n",
    "\n",
    "for a given input $N$? Can you now use a while loop that will find the value of $N$ where the sum is greater than 50? Can you also print the value of the sum? The answer you get should be 662 and the sum is 50.018."
   ]
  },
  {
   "cell_type": "code",
   "execution_count": 8,
   "metadata": {},
   "outputs": [],
   "source": [
    "function [y] = sumsq(N)\n",
    "    % Find the sum\n",
    "end"
   ]
  },
  {
   "cell_type": "code",
   "execution_count": null,
   "metadata": {},
   "outputs": [],
   "source": [
    "while %what will go here?\n",
    "    % Call the function sumsq\n",
    "end"
   ]
  },
  {
   "cell_type": "markdown",
   "metadata": {},
   "source": [
    "Inputs and outputs are generally arrays: Consider a function that calculates $A\\times A^{T}$ (a matrix times its transpose):"
   ]
  },
  {
   "cell_type": "code",
   "execution_count": 36,
   "metadata": {},
   "outputs": [],
   "source": [
    "function [B] = sq(A)\n",
    "    B = A*A';\n",
    "end"
   ]
  },
  {
   "cell_type": "code",
   "execution_count": 37,
   "metadata": {},
   "outputs": [
    {
     "name": "stdout",
     "output_type": "stream",
     "text": [
      "Y =\n",
      "\n",
      "    3    6\n",
      "    6   12\n",
      "\n"
     ]
    }
   ],
   "source": [
    "X = [1 1 1; 2 2 2];\n",
    "Y = sq(X)"
   ]
  },
  {
   "cell_type": "markdown",
   "metadata": {},
   "source": [
    "Its output is another array."
   ]
  },
  {
   "cell_type": "markdown",
   "metadata": {},
   "source": [
    "Functions are useful for streamlining code and if you know you are going to use a specific operation many times. The choice is up to you on how frequently you use them."
   ]
  },
  {
   "cell_type": "markdown",
   "metadata": {},
   "source": [
    "<a id='Good'></a>"
   ]
  },
  {
   "cell_type": "markdown",
   "metadata": {},
   "source": [
    "### 5.3 Good Coding Practices"
   ]
  },
  {
   "cell_type": "markdown",
   "metadata": {},
   "source": [
    "Now that we are writing more complicated code, it is useful to pause here and discuss good coding practices. When you have written a piece of code, leave it for a while and come back to it, it can look like nonsense, and might be very hard for you to decipher the purpose of that piece of code. To make your life easier it is better to spend a bit of time to follow these guidlines so that when you come back to your code it is clear what is going on:"
   ]
  },
  {
   "cell_type": "markdown",
   "metadata": {},
   "source": [
    "__1. Comments and Documentation__\n",
    "\n",
    "You can leave comments for whoever is going to read your code. This is incredibly good practice. If there's only one thing you do on this list, comment on your code. You may have noticed that throughout these notebooks I have left comments that hopefully help show you what is going on. You can leave comments on one line using the __%__ sign and on many lines if they are inside __%{__ and __%}__ as shown below:"
   ]
  },
  {
   "cell_type": "code",
   "execution_count": 53,
   "metadata": {},
   "outputs": [
    {
     "name": "stdout",
     "output_type": "stream",
     "text": [
      "The sum of the first 1000 integers is 500500\n"
     ]
    }
   ],
   "source": [
    "%{\n",
    "Calculates the sum of the first n integers (won't work for negative integers or non integers)\n",
    "s - the value of the sum, it is iterated inside the for loop. (make sure it is initialised at s = 0)\n",
    "n - final integer\n",
    "i - an index for the for loop.\n",
    "%}\n",
    "n = 1000;\n",
    "s = 0;                %initialising s\n",
    "for i = 1:n\n",
    "    s = s+i;         \n",
    "end\n",
    "fprintf('The sum of the first %0.f integers is %0.f\\n',n,s)"
   ]
  },
  {
   "cell_type": "markdown",
   "metadata": {},
   "source": [
    "It is imperative that you leave comments for whoever may be reading your code so that they know what is going on. It is good practice to leave a note at the top of any long code to explain the intent of the code, the use of the variables and any possible hiccups that you have met along the way. __In your assessments for this module you are expected to leave these types of comments throughout your code__"
   ]
  },
  {
   "cell_type": "markdown",
   "metadata": {},
   "source": [
    "__2. Indentation__\n",
    "\n",
    "We have seen if statements and loops and we have nested them inside one another. One way to keep track of the loops is __indentation__. Every time we have a new control statement, everything inside is indented by a push of the tab button on your keyboard like so:"
   ]
  },
  {
   "cell_type": "code",
   "execution_count": 66,
   "metadata": {},
   "outputs": [
    {
     "name": "stdout",
     "output_type": "stream",
     "text": [
      "c =  26\n"
     ]
    }
   ],
   "source": [
    "%{\n",
    "This calculates the number of elements in a given array that is greater than 10.\n",
    "In this instance the given array is a magic 6x6 square:\n",
    "https://en.wikipedia.org/wiki/Magic_square for more info\n",
    "\n",
    "The nested for loops will loop the column then the row, the order it will check is:\n",
    "A(1,1),A(1,2),A(1,3)..,A(1,6),A(2,1)...etc\n",
    "\n",
    "A - the input matrix (can be arbitary)\n",
    "m,n - the number of rows (m) and columns (n) of A\n",
    "count - Keeps count of the number elements of A greater than 10.\n",
    "\n",
    "%}\n",
    "A = magic(6);\n",
    "count = 0;             % Initialises the count.\n",
    "[m n] = size(A);\n",
    "for i = 1:m\n",
    "    for j = 1:n\n",
    "        if A(i,j)>10\n",
    "            count = count + 1;\n",
    "        end\n",
    "    end\n",
    "end\n",
    "c"
   ]
  },
  {
   "cell_type": "markdown",
   "metadata": {},
   "source": [
    "The indentation here shows you the structure of the code and what statements are nested where."
   ]
  },
  {
   "cell_type": "markdown",
   "metadata": {},
   "source": [
    "__3. Appropriate Names__\n",
    "This may seem obvious, but it will save you a lot of searching if you have appropriately named your file. Sadly too often files are saved as:\n",
    "\n",
    "Untitled.m, Untitled2.m, NewUntitled.m, FinalUntitled.m, FinalFinalUntitled. UntitledChanged.m etc.\n",
    "\n",
    "All of these titles are meaningless, tells you nothing about the file and there's no obvious order to them. Instead use names that you will find helpful later on, for example in the tutorial sheets, any new script that is asked of you has the prefix of the tutorial with it.\n",
    "\n",
    "If you have plenty of files, what might be useful is a document in your folder (maybe a notepad file) that gives a short description of what each file does so that they are easy to find."
   ]
  },
  {
   "cell_type": "markdown",
   "metadata": {},
   "source": [
    "__4. Consistency with your variables__\n",
    "\n",
    "Generally for your own sanity assign the same type of variables to the same letters in all your code, so even if your comments don't make sense you have some idea what each variable is doing. For example I generally use:\n",
    "\n",
    "$i,j,k,l$ to use in loop iteration\n",
    "\n",
    "$m, n$ as integers\n",
    "\n",
    "$x, y, z, w$ as real numbers\n",
    "\n",
    "$A, B, X, Y$ any captial letters as arrays"
   ]
  },
  {
   "cell_type": "markdown",
   "metadata": {},
   "source": [
    "<a id='Debug'></a>"
   ]
  },
  {
   "cell_type": "markdown",
   "metadata": {},
   "source": [
    "### 5.4 Debugging Code"
   ]
  },
  {
   "cell_type": "markdown",
   "metadata": {},
   "source": [
    "Code is very rarely correct the first time and when it goes wrong it can go __VERY__ wrong, your result might be an array full of zeros when you are expecting a single number, there are thousands of ways in which simple code can be wrong and you can spend __hours__ attempting to correct it, in the process you could very easily make it worse. What are good ways to eliminate the amount of time you spend correcting your code?"
   ]
  },
  {
   "cell_type": "markdown",
   "metadata": {},
   "source": [
    "<a id='Prevent'></a>"
   ]
  },
  {
   "cell_type": "markdown",
   "metadata": {},
   "source": [
    "#### 5.4.1 Preventative Measures:"
   ]
  },
  {
   "cell_type": "markdown",
   "metadata": {},
   "source": [
    "Ways to prevent spending hours of your time debugging code:\n",
    "\n",
    "__1.  Plan your code__\n",
    "\n",
    " It may be tempting to run head first into a problem that you think you know how to solve but there could easily be  complications that you have overlooked. Before your start it is always best to write out a brief structure to your code and think about what can go wrong.\n",
    "    \n",
    "__2. Start small__\n",
    "\n",
    "If your code is going to perform 1000 iterations with lots of nested for loops and you are unsure about the length of time it will take for the program to run. Start with only a few iterations, see if it provides answers you are expecting. Check if the innnermost loop is looping properly and giving the answers you expect. Can you start with smaller and easier numbers? For example if you are writing code that is meant to solve say 6 simultaneous equations with 6 unknowns, can you start with two equations with two unknowns?\n",
    "\n",
    "__3. Run Everything__\n",
    "\n",
    "Every time you change your code or add something to it, make sure there is some way to check it is running correctly (this might mean you have to comment a few things out, see below). This will make it easier to pinpoint where something has gone wrong when it inevitable does. If there are bits of code that you can guarantee are running correctly then it narrows down your search.\n",
    "\n",
    "\n",
    "__4. Never delete, only comment__\n",
    "\n",
    "The useful function of being able to leave comments for yourself is that you can also get Matlab to ignore bits of your code, simply put a __%__ sign at the beginning of any line and Matlab will treat it as a comment and ignore it. This is great if you are not sure about your approach and want to try something different, rather than deleting whole lines of code that might still be useful move it to the bottom of your script and comment it out. Once you know your code is running properly you might be able to get rid of it. This will keep you from regretting deletion of code that might still be useful.\n",
    "    \n",
    "__5. Make sure your maths is sound__\n",
    "\n",
    "In scientific computing one can get two types of errors. Errors due to a bug in your code or an error because your maths is incorrect. When you get results you are not expecting, it is nearly impossible to tell whether it is due to your code or your mathematics. You should always check your maths before starting on the computer and try to eliminate the second type of error. Otherwise you can spend __hours__ debugging your code before your realise your mathematics was wrong.\n",
    "    \n",
    "__6. Keep leaving comments for yourself__\n",
    "\n",
    "Give yourself as much help as possible, leave comments for yourself.\n",
    "\n",
    "\n",
    "All of this will seem like it slows down your coding and is a little unnecessary but these will all save your sanity from debugging hundreds of lines of code. Always expect something to go wrong and do your best to mitigate it."
   ]
  },
  {
   "cell_type": "markdown",
   "metadata": {},
   "source": [
    "<a id='Wrong'></a>"
   ]
  },
  {
   "cell_type": "markdown",
   "metadata": {},
   "source": [
    "#### 5.4.2 When things eventually do go wrong\n",
    "\n",
    "__1. Write it out (you become Matlab)__\n",
    "\n",
    "If you are getting answers that are not making sense, then perform the code you have written yourself, you become matlab and run your code. This will hopefully highlight where you have gone wrong because you will be able to pinpoint the difference between what you expect and what you are getting.\n",
    "    \n",
    "__2. Write every number to the screen__\n",
    "\n",
    "Pretty similar to above print out every time a number changes and compare it to what you expect it to be, this will show you where the code is going wrong.\n",
    "    \n",
    "__3. Use the Breakpoints in Matlab__\n",
    "\n",
    "Matlab will allow you to run only parts of your code using breakpoints. Matlab will run up to the next breakpoint where it will pause. Any errors encountered will be shown in the command line. This will very quickly pinpoint where the error has occured.\n",
    "\n",
    "__4. Read the errors__\n",
    "\n",
    "Even though Matlab errors can seem nonsensical and hard to understand, there is some meaning hidden in there. For example you might see:\n",
    "    \n",
    "'Undefined near line 1 column 1' generally this means that you are using a variable that has no determined value\n",
    "    \n",
    "'Dimensions don't match' You are attempting to manipulate arrays in a way that Matlab does not understand.\n",
    "    \n",
    "Matlab will also try to give you the position of the errors, so you might see something like '... near line 4 column 11' Have a look there.\n",
    "    \n",
    "__5. Have you understood how the function works?__\n",
    "\n",
    "Maybe you are using them incorrectly. Try the help function."
   ]
  }
 ],
 "metadata": {
  "kernelspec": {
   "display_name": "Octave",
   "language": "octave",
   "name": "octave"
  },
  "language_info": {
   "file_extension": ".m",
   "help_links": [
    {
     "text": "GNU Octave",
     "url": "https://www.gnu.org/software/octave/support.html"
    },
    {
     "text": "Octave Kernel",
     "url": "https://github.com/Calysto/octave_kernel"
    },
    {
     "text": "MetaKernel Magics",
     "url": "https://github.com/calysto/metakernel/blob/master/metakernel/magics/README.md"
    }
   ],
   "mimetype": "text/x-octave",
   "name": "octave",
   "version": "4.0.0"
  }
 },
 "nbformat": 4,
 "nbformat_minor": 2
}
