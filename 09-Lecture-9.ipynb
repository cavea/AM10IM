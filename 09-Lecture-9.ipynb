{
 "cells": [
  {
   "cell_type": "markdown",
   "metadata": {},
   "source": [
    "# AM10IM - Introduction to Matlab"
   ]
  },
  {
   "cell_type": "markdown",
   "metadata": {},
   "source": [
    "## Lecture 9 - Reading and Writing to files"
   ]
  },
  {
   "cell_type": "markdown",
   "metadata": {},
   "source": [
    "Table of Contents\n",
    "-  [9.1 Writing to Files](#Write)\n",
    "-  [9.2 Reading Files](#Read)"
   ]
  },
  {
   "cell_type": "markdown",
   "metadata": {},
   "source": [
    "<a id='Write'></a>"
   ]
  },
  {
   "cell_type": "markdown",
   "metadata": {},
   "source": [
    "### 9.1 Writing to Files"
   ]
  },
  {
   "cell_type": "markdown",
   "metadata": {},
   "source": [
    "At the moment, we can view our results on a command line and plot and save graphs, but what if we wanted to create a document that stores our results? What if it took a really long time to get our results and we don't want to keep recreating the results every time we want to manipulate them? Or what if we want to use the results in a different software program? One can write files to a document, to do this one must first open a file using the command fopen."
   ]
  },
  {
   "cell_type": "code",
   "execution_count": 4,
   "metadata": {},
   "outputs": [
    {
     "name": "stdout",
     "output_type": "stream",
     "text": [
      "fid =  5\n"
     ]
    }
   ],
   "source": [
    "fid = fopen('MyDoc.txt','w')\n",
    "%            ^doc name   ^ permission"
   ]
  },
  {
   "cell_type": "markdown",
   "metadata": {},
   "source": [
    "So we must give the function a name of a file and tell it that we give it permission to write, this is what the 'w' stands for. The variable 'fid' is assigned a file ID which is used for telling matlab where we are writing."
   ]
  },
  {
   "cell_type": "markdown",
   "metadata": {},
   "source": [
    "Once we have opened a document to Matlab (notice that it doesn't have to be an existing document, Matlab is happy to create new files) we can write to them using fprintf:"
   ]
  },
  {
   "cell_type": "code",
   "execution_count": 8,
   "metadata": {},
   "outputs": [],
   "source": [
    "fid = fopen('MyDoc.txt','w');\n",
    "fprintf(fid,'TEXT');\n",
    "fclose(fid);"
   ]
  },
  {
   "cell_type": "markdown",
   "metadata": {},
   "source": [
    "Whenever we are finished with a file, we __must__ close it using __fclose__."
   ]
  },
  {
   "cell_type": "markdown",
   "metadata": {},
   "source": [
    "If we want to write something more complicated we have to think about formating:"
   ]
  },
  {
   "cell_type": "code",
   "execution_count": 57,
   "metadata": {},
   "outputs": [],
   "source": [
    "% Let us write x^2 for x = 1, 100 to MyDoc.txt. There should be two columns, the first is x, the second x.^2\n",
    "% The for loop prints each line individually into MyDoc.txt\n",
    "\n",
    "x = 1:100;\n",
    "y = x.^2;\n",
    "fid = fopen('MyDoc.txt','w');\n",
    "fprintf(fid,'%5.0f \\t %5.0f \\r\\n',x,y) %<-fprintf has another input,fid, which tells it where to print\n",
    "%{\n",
    "    The %5.0f tells us the format:\n",
    "    f-it is a number\n",
    "    5-how many spaces are used\n",
    "    .0-how many positions after the decimal point is printed\n",
    "    \\t writes a 'tab'\n",
    "    \\r\\n is for Windows Machines, it is equivalent to \\n when you use fprintf to the command line\n",
    "    Notice it happily prints each element of x and y.\n",
    "%}\n",
    "fclose(fid); %<--- Must close the file otherwise it won't write to it."
   ]
  },
  {
   "cell_type": "markdown",
   "metadata": {},
   "source": [
    "If we want to write strings:"
   ]
  },
  {
   "cell_type": "code",
   "execution_count": 22,
   "metadata": {},
   "outputs": [],
   "source": [
    "x = 'The quick brown fox jumped over the lazy dog';\n",
    "fid = fopen('MyDoc2.txt','w');\n",
    "fprintf(fid,'%s',x); %<-- \"s\" says that is is a string, much like \"f\" says it's a number\n",
    "fclose(fid);"
   ]
  },
  {
   "cell_type": "markdown",
   "metadata": {},
   "source": [
    "Formatting is important, you must know what you are printing. The percent sign in fprintf says to put the variable that comes after the text here. The letters and numbers after describes the type of variable it is (string or number) and the number of spaces to use."
   ]
  },
  {
   "cell_type": "code",
   "execution_count": 46,
   "metadata": {},
   "outputs": [
    {
     "name": "stdout",
     "output_type": "stream",
     "text": [
      "here is a letter     x \n",
      "here is a number 0.100000 \n",
      "here is another number 0.2\n",
      "One more number     3.1415926536\n"
     ]
    }
   ],
   "source": [
    "fprintf('here is a letter %5s \\n','x');\n",
    "%{\n",
    "%5s means to put the string 'x' here and take up five spaces.\n",
    "%}\n",
    "fprintf('here is a number %f \\n',0.1)\n",
    "%{\n",
    "%f means to put the number 0.1 here (standard format)\n",
    "%}\n",
    "fprintf('here is another number %.1f\\n',0.2)\n",
    "%{\n",
    "%.1f means it is number and print only one position after the decimal point\n",
    "%}\n",
    "fprintf('One more number %16.10f\\n',pi) % print pi with 16 positions and 10 decimal points\n",
    "%                         ^ This number is good for dealing with columns, go back and take it out of x and x.^2 above\n",
    "%                           and see what the difference is on the last line in MyDoc.txt"
   ]
  },
  {
   "cell_type": "markdown",
   "metadata": {},
   "source": [
    "For more info on formatting and fprintf:\n",
    "\n",
    "https://uk.mathworks.com/help/matlab/matlab_prog/formatting-strings.html\n",
    "\n",
    "https://uk.mathworks.com/help/matlab/ref/fprintf.html"
   ]
  },
  {
   "cell_type": "markdown",
   "metadata": {},
   "source": [
    "<a id='Read'></a>"
   ]
  },
  {
   "cell_type": "markdown",
   "metadata": {},
   "source": [
    "### 9.2 Reading Files and fscanf"
   ]
  },
  {
   "cell_type": "markdown",
   "metadata": {},
   "source": [
    "What if we have data that we want to use? We again use fopen, but the permission is now to 'r' for read and we use __fscanf__"
   ]
  },
  {
   "cell_type": "code",
   "execution_count": 62,
   "metadata": {},
   "outputs": [
    {
     "name": "stdout",
     "output_type": "stream",
     "text": [
      "z1 =\n",
      "\n",
      "   0.407693\n",
      "   0.119752\n",
      "   0.337310\n",
      "   0.181879\n",
      "   0.094701\n",
      "   0.116741\n",
      "   0.765854\n",
      "   0.276043\n",
      "   0.613300\n",
      "   0.350152\n",
      "\n"
     ]
    }
   ],
   "source": [
    "z = rand(10,1);\n",
    "fid = fopen('MyDocRand.txt','w');\n",
    "fprintf(fid,'%f \\r\\n',z);\n",
    "fclose(fid);\n",
    "% Creating a file to read\n",
    "fid = fopen('MyDocRand.txt','r');%<--now it is 'r' for read rather than write\n",
    "z1 = fscanf(fid,'%f') %<--- we use the same formatting ideas.\n",
    "fclose(fid);"
   ]
  },
  {
   "cell_type": "markdown",
   "metadata": {},
   "source": [
    "fscanf is a little more complicated when it comes to formatting. If we have columns that we wish to read:"
   ]
  },
  {
   "cell_type": "code",
   "execution_count": 88,
   "metadata": {},
   "outputs": [
    {
     "name": "stdout",
     "output_type": "stream",
     "text": [
      "z =\n",
      "\n",
      "   0.620826   0.321835\n",
      "   0.864217   0.536078\n",
      "   0.969584   0.420814\n",
      "   0.418808   0.420230\n",
      "   0.727806   0.627073\n",
      "   0.380282   0.819826\n",
      "   0.548168   0.989149\n",
      "   0.378625   0.017483\n",
      "   0.362022   0.948928\n",
      "   0.295223   0.901875\n",
      "\n",
      "zR1 =\n",
      "\n",
      "   0.620826   0.380282\n",
      "   0.321835   0.819826\n",
      "   0.864217   0.548168\n",
      "   0.536078   0.989149\n",
      "   0.969584   0.378625\n",
      "   0.420814   0.017483\n",
      "   0.418808   0.362022\n",
      "   0.420230   0.948928\n",
      "   0.727806   0.295223\n",
      "   0.627073   0.901875\n",
      "\n",
      "zR2 =\n",
      "\n",
      "   0.620826\n",
      "   0.321835\n",
      "   0.864217\n",
      "   0.536078\n",
      "   0.969584\n",
      "   0.420814\n",
      "   0.418808\n",
      "   0.420230\n",
      "   0.727806\n",
      "   0.627073\n",
      "   0.380282\n",
      "   0.819826\n",
      "   0.548168\n",
      "   0.989149\n",
      "   0.378625\n",
      "   0.017483\n",
      "   0.362022\n",
      "   0.948928\n",
      "   0.295223\n",
      "   0.901875\n",
      "\n",
      "zR3 =\n",
      "\n",
      " Columns 1 through 7:\n",
      "\n",
      "   0.620826   0.864217   0.969584   0.418808   0.727806   0.380282   0.548168\n",
      "   0.321835   0.536078   0.420814   0.420230   0.627073   0.819826   0.989149\n",
      "\n",
      " Columns 8 through 10:\n",
      "\n",
      "   0.378625   0.362022   0.295223\n",
      "   0.017483   0.948928   0.901875\n",
      "\n",
      "error: fscanf: invalid size specification\n"
     ]
    }
   ],
   "source": [
    "z = rand(10,2)\n",
    "fid = fopen('MyDocCol.txt','w'); %creating some data to read\n",
    "fprintf(fid,'%f %f \\r\\n',z'); %fprintf here prints the first column, then the next in order, which is why z transpose is used\n",
    "fclose(fid);                    %compare z below to what is written in MyDocCol when you switch z->z'\n",
    "\n",
    "fid = fopen('MyDocCol.txt','r');\n",
    "zR1 = fscanf(fid,'%f',[10 2])\n",
    "fclose(fid);\n",
    "%{\n",
    "fscanf says to treat everything as a number, the middle input is now a FORMAT SPECIFICATION\n",
    "the last field tells us the size of the data, 10 rows and 2 columns.\n",
    "If no size is given, it reads all the data into one column, which you can see in zR2\n",
    "%}\n",
    "fid = fopen('MyDocCol.txt','r');\n",
    "zR2 = fscanf(fid,'%f')\n",
    "fclose(fid);\n",
    "% If we don't know how many rows there are we can use inf:\n",
    "fid = fopen('MyDocCol.txt','r');\n",
    "zR3 = fscanf(fid,'%f',[2 inf])\n",
    "fclose(fid);\n",
    "% BUT [inf 2], does not work.\n",
    "fid = fopen('MyDocCol.txt','r');\n",
    "zR4 = fscanf(fid,'%f',[inf 2])"
   ]
  },
  {
   "cell_type": "markdown",
   "metadata": {},
   "source": [
    "When we want to scan in text we use a different format specification:"
   ]
  },
  {
   "cell_type": "code",
   "execution_count": 16,
   "metadata": {},
   "outputs": [
    {
     "name": "stdout",
     "output_type": "stream",
     "text": [
      "A1 = Thequickbrownfoxjumpedoverthelazydog\n",
      "A2 = The quick brown fox jumped over the lazy dog\n"
     ]
    }
   ],
   "source": [
    "fid = fopen('MyText.txt','w'); %Creating the file to write\n",
    "fprintf(fid,'The quick brown fox jumped over the lazy dog'); % Writing text to file\n",
    "fclose(fid);\n",
    "fid = fopen('MyText.txt','r'); %Reading the text\n",
    "A1 = fscanf(fid,'%s')%<-- %s reads all the text into one element ignoring all the white spaces (returns as well)\n",
    "fclose(fid);\n",
    "fid = fopen('MyText.txt','r');\n",
    "A2 = fscanf(fid,'%c')%<-- %c reads all the text into one element including all the white spaces\n",
    "fclose(fid);"
   ]
  },
  {
   "cell_type": "markdown",
   "metadata": {},
   "source": [
    "For more info on fscanf with different and more complicated formatting settings see: \n",
    "\n",
    "https://uk.mathworks.com/help/matlab/ref/fscanf.html"
   ]
  },
  {
   "cell_type": "markdown",
   "metadata": {},
   "source": []
  }
 ],
 "metadata": {
  "kernelspec": {
   "display_name": "Octave",
   "language": "octave",
   "name": "octave"
  },
  "language_info": {
   "file_extension": ".m",
   "help_links": [
    {
     "text": "GNU Octave",
     "url": "https://www.gnu.org/software/octave/support.html"
    },
    {
     "text": "Octave Kernel",
     "url": "https://github.com/Calysto/octave_kernel"
    },
    {
     "text": "MetaKernel Magics",
     "url": "https://github.com/calysto/metakernel/blob/master/metakernel/magics/README.md"
    }
   ],
   "mimetype": "text/x-octave",
   "name": "octave",
   "version": "4.0.0"
  }
 },
 "nbformat": 4,
 "nbformat_minor": 2
}
