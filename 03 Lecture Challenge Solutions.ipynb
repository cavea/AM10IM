{
 "cells": [
  {
   "cell_type": "markdown",
   "metadata": {},
   "source": [
    "# AM10IM - Introduction to Matlab"
   ]
  },
  {
   "cell_type": "markdown",
   "metadata": {},
   "source": [
    "## Lecture Challenge 3 - Solutions"
   ]
  },
  {
   "cell_type": "markdown",
   "metadata": {},
   "source": [
    "This challenge is all about array manipulation and logical expressions. Even though there is lots of data, we've done all of this in our lectures."
   ]
  },
  {
   "cell_type": "markdown",
   "metadata": {},
   "source": [
    "Here is all the data on the exoplanets:"
   ]
  },
  {
   "cell_type": "code",
   "execution_count": 37,
   "metadata": {},
   "outputs": [],
   "source": [
    "EXO = [1.3 1.1 0.65 234 11.186 4.22;\n",
    "3.8 1.5 0.88 277 28.143 23.62;\n",
    "2.3 1.34 0.70 233 112.3053 1291.6;\n",
    "4.7 1.50 1.11 265 384.8 1402;\n",
    "4.3 1.6 0.60 223 17.9 13.8;\n",
    "2.7 1.4 0.49 213 86.8 769;\n",
    "4.8 1.6 0.43 205 48.6 13;\n",
    "2.8 1.41 0.39 244 267.291 1200;\n",
    "4.7 1.17 0.29 188 129.9459 561;\n",
    "2.89 1.5 1.06 206 18.650 12.36;\n",
    "0.30 0.78 1.04 258 4.05 39;\n",
    "0.77 0.91 0.67 230 6.1 39;\n",
    "0.93 1.046 0.38 200 9.2 39;\n",
    "1.15 1.15 0.26 182 12.4 39;\n",
    "6.6 1.43 0.46 230 25 40;\n",
    "6 1.60 1.17 304 259.365 2491.83;];"
   ]
  },
  {
   "cell_type": "code",
   "execution_count": 2,
   "metadata": {},
   "outputs": [],
   "source": [
    "%Don't forget that semi-colon inside the square bracket indicates a new line, outside it means\n",
    "%don't show the data to the command line."
   ]
  },
  {
   "cell_type": "markdown",
   "metadata": {},
   "source": [
    "The columns are:"
   ]
  },
  {
   "cell_type": "code",
   "execution_count": 7,
   "metadata": {},
   "outputs": [],
   "source": [
    "%{\n",
    "Mass (in units of Earth's mass)\n",
    "Radius (in units of Earth's radius)\n",
    "Flux (in units of Earth's flux)\n",
    "Equilibrium Temperature (in Kelvin)\n",
    "Period of one orbit of the star (in days)\n",
    "Distance from Earth (in light years)\n",
    "%}"
   ]
  },
  {
   "cell_type": "markdown",
   "metadata": {},
   "source": [
    "__Challenge 1__ The third row is the data for the planet Kepler-442b, can you show just that row?"
   ]
  },
  {
   "cell_type": "markdown",
   "metadata": {},
   "source": [
    "Solution:"
   ]
  },
  {
   "cell_type": "code",
   "execution_count": 38,
   "metadata": {},
   "outputs": [
    {
     "name": "stdout",
     "output_type": "stream",
     "text": [
      "K442b =\n",
      "\n",
      "   2.3000e+00   1.3400e+00   7.0000e-01   2.3300e+02   1.1231e+02   1.2916e+03\n",
      "\n"
     ]
    }
   ],
   "source": [
    "K442b = EXO(3,:)"
   ]
  },
  {
   "cell_type": "markdown",
   "metadata": {},
   "source": [
    "__Challenge 2__ The flux of a planet is likely to influence its equilibrium temperature, Can you plot the exoplanets flux against its temperature?"
   ]
  },
  {
   "cell_type": "markdown",
   "metadata": {},
   "source": [
    "Here we want to plot the flux of the planet (3rd column) against its temperature (4th column)."
   ]
  },
  {
   "cell_type": "code",
   "execution_count": 39,
   "metadata": {},
   "outputs": [
    {
     "data": {
      "image/png": "[encoded data removed]",
      "text/plain": [
       "<IPython.core.display.Image object>"
      ]
     },
     "metadata": {},
     "output_type": "display_data"
    }
   ],
   "source": [
    "x = EXO(:,3); % x is the third column of EXO\n",
    "y = EXO(:,4); % y is the fourth column of EXO, both are vectors of equal length\n",
    "plot(x,y,'*') % * is used because we wanted a scatter plot of data."
   ]
  },
  {
   "cell_type": "markdown",
   "metadata": {},
   "source": [
    "To add the Earth we can create two new scalars and add it to the plot:"
   ]
  },
  {
   "cell_type": "code",
   "execution_count": 40,
   "metadata": {},
   "outputs": [],
   "source": [
    "xe = 1.0; %The Earth's flux\n",
    "ye = 255; %The Earth's temperature"
   ]
  },
  {
   "cell_type": "code",
   "execution_count": 41,
   "metadata": {},
   "outputs": [
    {
     "data": {
      "image/png": "[encoded data removed]",
      "text/plain": [
       "<IPython.core.display.Image object>"
      ]
     },
     "metadata": {},
     "output_type": "display_data"
    }
   ],
   "source": [
    "plot(x,y,'*',xe,ye,'*r') %This will plot x vs y and on the same plot the point xe vs ye in red"
   ]
  },
  {
   "cell_type": "markdown",
   "metadata": {},
   "source": [
    "__Challenge 3__ One important data point is the strength of gravity on the surface of the exoplanet. Using the formula \n",
    "\n",
    "\n",
    "$$\n",
    "G_{rel} = \\frac{M_{rel}}{R_{rel}^2}\n",
    "$$\n",
    "\n",
    "\n",
    "for the relative strength of gravity (compared to the Earth) can you find the relative gravitational strength of each exoplanet, add it as another column to the data EXO and plot it?"
   ]
  },
  {
   "cell_type": "markdown",
   "metadata": {},
   "source": [
    "First we'll create the vector and then add it on to the end of EXO:"
   ]
  },
  {
   "cell_type": "code",
   "execution_count": 42,
   "metadata": {},
   "outputs": [
    {
     "name": "stdout",
     "output_type": "stream",
     "text": [
      "GEXO =\n",
      "\n",
      "   1.07438\n",
      "   1.68889\n",
      "   1.28091\n",
      "   2.08889\n",
      "   1.67969\n",
      "   1.37755\n",
      "   1.87500\n",
      "   1.40838\n",
      "   3.43341\n",
      "   1.28444\n",
      "   0.49310\n",
      "   0.92984\n",
      "   0.85000\n",
      "   0.86957\n",
      "   3.22754\n",
      "   2.34375\n",
      "\n"
     ]
    }
   ],
   "source": [
    "GEXO = EXO(:,1)./(EXO(:,2).^2) \n",
    "%{\n",
    "Matlab understands that each element of the first column is divided by its\n",
    "corresponding element in the second column squared.\n",
    "%}"
   ]
  },
  {
   "cell_type": "code",
   "execution_count": 43,
   "metadata": {},
   "outputs": [
    {
     "name": "stdout",
     "output_type": "stream",
     "text": [
      "EXO =\n",
      "\n",
      " Columns 1 through 6:\n",
      "\n",
      "   1.3000e+00   1.1000e+00   6.5000e-01   2.3400e+02   1.1186e+01   4.2200e+00\n",
      "   3.8000e+00   1.5000e+00   8.8000e-01   2.7700e+02   2.8143e+01   2.3620e+01\n",
      "   2.3000e+00   1.3400e+00   7.0000e-01   2.3300e+02   1.1231e+02   1.2916e+03\n",
      "   4.7000e+00   1.5000e+00   1.1100e+00   2.6500e+02   3.8480e+02   1.4020e+03\n",
      "   4.3000e+00   1.6000e+00   6.0000e-01   2.2300e+02   1.7900e+01   1.3800e+01\n",
      "   2.7000e+00   1.4000e+00   4.9000e-01   2.1300e+02   8.6800e+01   7.6900e+02\n",
      "   4.8000e+00   1.6000e+00   4.3000e-01   2.0500e+02   4.8600e+01   1.3000e+01\n",
      "   2.8000e+00   1.4100e+00   3.9000e-01   2.4400e+02   2.6729e+02   1.2000e+03\n",
      "   4.7000e+00   1.1700e+00   2.9000e-01   1.8800e+02   1.2995e+02   5.6100e+02\n",
      "   2.8900e+00   1.5000e+00   1.0600e+00   2.0600e+02   1.8650e+01   1.2360e+01\n",
      "   3.0000e-01   7.8000e-01   1.0400e+00   2.5800e+02   4.0500e+00   3.9000e+01\n",
      "   7.7000e-01   9.1000e-01   6.7000e-01   2.3000e+02   6.1000e+00   3.9000e+01\n",
      "   9.3000e-01   1.0460e+00   3.8000e-01   2.0000e+02   9.2000e+00   3.9000e+01\n",
      "   1.1500e+00   1.1500e+00   2.6000e-01   1.8200e+02   1.2400e+01   3.9000e+01\n",
      "   6.6000e+00   1.4300e+00   4.6000e-01   2.3000e+02   2.5000e+01   4.0000e+01\n",
      "   6.0000e+00   1.6000e+00   1.1700e+00   3.0400e+02   2.5937e+02   2.4918e+03\n",
      "\n",
      " Column 7:\n",
      "\n",
      "   1.0744e+00\n",
      "   1.6889e+00\n",
      "   1.2809e+00\n",
      "   2.0889e+00\n",
      "   1.6797e+00\n",
      "   1.3776e+00\n",
      "   1.8750e+00\n",
      "   1.4084e+00\n",
      "   3.4334e+00\n",
      "   1.2844e+00\n",
      "   4.9310e-01\n",
      "   9.2984e-01\n",
      "   8.5000e-01\n",
      "   8.6957e-01\n",
      "   3.2275e+00\n",
      "   2.3437e+00\n",
      "\n"
     ]
    },
    {
     "data": {
      "image/png": "[encoded data removed]",
      "text/plain": [
       "<IPython.core.display.Image object>"
      ]
     },
     "metadata": {},
     "output_type": "display_data"
    }
   ],
   "source": [
    "EXO = [EXO GEXO] % Adds the gravity column onto the end of EXO\n",
    "plot(GEXO,'*') % Plots the different values of the gravitational field strength (the row label is the x-axis)"
   ]
  },
  {
   "cell_type": "markdown",
   "metadata": {},
   "source": [
    "__Challenge 4__ It is unlikely that we will be able to travel great distances to these exoplanets, can you create a new array that excludes exoplanets greater than 50 light years?"
   ]
  },
  {
   "cell_type": "markdown",
   "metadata": {},
   "source": [
    "We have to use logical expressions to eliminate specific rows, the distance is the sixth column in light years."
   ]
  },
  {
   "cell_type": "code",
   "execution_count": 44,
   "metadata": {},
   "outputs": [
    {
     "name": "stdout",
     "output_type": "stream",
     "text": [
      "b =\n",
      "\n",
      "   1\n",
      "   1\n",
      "   0\n",
      "   0\n",
      "   1\n",
      "   0\n",
      "   1\n",
      "   0\n",
      "   0\n",
      "   1\n",
      "   1\n",
      "   1\n",
      "   1\n",
      "   1\n",
      "   1\n",
      "   0\n",
      "\n"
     ]
    }
   ],
   "source": [
    "b=EXO(:,6)<50 % Gives us which planets are less than fifty light years."
   ]
  },
  {
   "cell_type": "markdown",
   "metadata": {},
   "source": [
    "This will be our label for the __rows__ we keep:"
   ]
  },
  {
   "cell_type": "code",
   "execution_count": 45,
   "metadata": {},
   "outputs": [
    {
     "name": "stdout",
     "output_type": "stream",
     "text": [
      "EXO50 =\n",
      "\n",
      " Columns 1 through 6:\n",
      "\n",
      "     1.30000     1.10000     0.65000   234.00000    11.18600     4.22000\n",
      "     3.80000     1.50000     0.88000   277.00000    28.14300    23.62000\n",
      "     4.30000     1.60000     0.60000   223.00000    17.90000    13.80000\n",
      "     4.80000     1.60000     0.43000   205.00000    48.60000    13.00000\n",
      "     2.89000     1.50000     1.06000   206.00000    18.65000    12.36000\n",
      "     0.30000     0.78000     1.04000   258.00000     4.05000    39.00000\n",
      "     0.77000     0.91000     0.67000   230.00000     6.10000    39.00000\n",
      "     0.93000     1.04600     0.38000   200.00000     9.20000    39.00000\n",
      "     1.15000     1.15000     0.26000   182.00000    12.40000    39.00000\n",
      "     6.60000     1.43000     0.46000   230.00000    25.00000    40.00000\n",
      "\n",
      " Column 7:\n",
      "\n",
      "     1.07438\n",
      "     1.68889\n",
      "     1.67969\n",
      "     1.87500\n",
      "     1.28444\n",
      "     0.49310\n",
      "     0.92984\n",
      "     0.85000\n",
      "     0.86957\n",
      "     3.22754\n",
      "\n"
     ]
    }
   ],
   "source": [
    "EXO50 = EXO(b,:)"
   ]
  },
  {
   "cell_type": "markdown",
   "metadata": {},
   "source": [
    "__Challenge 5__ Ok, so let's work out the most optimum planet. Can you find the following expression for each planet and add it to the end of the array EXO1.\n",
    "\n",
    "$$\n",
    "\\text{Optimum} = \\lvert G_{rel}-1\\rvert + \\lvert \\text{Flux}_{rel}-1\\rvert + \\frac{\\lvert\\text{Temp} - 255\\rvert}{255} + \\frac{\\lvert\\text{Period} - 365\\rvert}{365}\n",
    "$$\n",
    "\n",
    "Now plot that last column and show the data for the most optimum planet."
   ]
  },
  {
   "cell_type": "markdown",
   "metadata": {},
   "source": [
    "We need to use the abs(x) function."
   ]
  },
  {
   "cell_type": "code",
   "execution_count": 48,
   "metadata": {},
   "outputs": [
    {
     "name": "stdout",
     "output_type": "stream",
     "text": [
      "Opt =\n",
      "\n",
      "   1.4761\n",
      "   1.8181\n",
      "   2.1561\n",
      "   2.5079\n",
      "   1.4855\n",
      "   1.5476\n",
      "   1.4815\n",
      "   1.9605\n",
      "   2.1227\n",
      "   3.7971\n",
      "\n"
     ]
    },
    {
     "data": {
      "image/png": "[encoded data removed]",
      "text/plain": [
       "<IPython.core.display.Image object>"
      ]
     },
     "metadata": {},
     "output_type": "display_data"
    }
   ],
   "source": [
    "G = EXO50(:,7);\n",
    "F = EXO50(:,3);\n",
    "T = EXO50(:,4);\n",
    "P = EXO50(:,5);\n",
    "Opt = abs(G-1)+abs(F-1)+abs(T-255)./255+abs(P-365)./365\n",
    "plot(Opt,'*')"
   ]
  },
  {
   "cell_type": "markdown",
   "metadata": {},
   "source": [
    "To find the most optimum planet we can use min(x):"
   ]
  },
  {
   "cell_type": "code",
   "execution_count": 49,
   "metadata": {},
   "outputs": [
    {
     "name": "stdout",
     "output_type": "stream",
     "text": [
      "a =  1.4761\n",
      "b =  1\n"
     ]
    }
   ],
   "source": [
    "[a b] = min(Opt) %a is the minimum value, b is the position of the minimum value"
   ]
  },
  {
   "cell_type": "markdown",
   "metadata": {},
   "source": [
    "The first planet is the most optimum!"
   ]
  }
 ],
 "metadata": {
  "kernelspec": {
   "display_name": "Octave",
   "language": "octave",
   "name": "octave"
  },
  "language_info": {
   "file_extension": ".m",
   "help_links": [
    {
     "text": "GNU Octave",
     "url": "https://www.gnu.org/software/octave/support.html"
    },
    {
     "text": "Octave Kernel",
     "url": "https://github.com/Calysto/octave_kernel"
    },
    {
     "text": "MetaKernel Magics",
     "url": "https://github.com/calysto/metakernel/blob/master/metakernel/magics/README.md"
    }
   ],
   "mimetype": "text/x-octave",
   "name": "octave",
   "version": "4.0.0"
  }
 },
 "nbformat": 4,
 "nbformat_minor": 2
}
