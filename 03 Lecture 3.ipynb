{
 "cells": [
  {
   "cell_type": "markdown",
   "metadata": {},
   "source": [
    "# AM10IM - Introduction to Matlab"
   ]
  },
  {
   "cell_type": "markdown",
   "metadata": {},
   "source": [
    "## Lecture 3 - Logical Expressions and Array Manipulation"
   ]
  },
  {
   "cell_type": "markdown",
   "metadata": {},
   "source": [
    "Table of Contents\n",
    "-  [3.1 Summary](#Summary)\n",
    "-  [3.2 Logical Expressions and Booleans](#Boo)\n",
    "-  [3.3 Array Manipulation](#Array)\n",
    "    -  [3.3.1 Extracting Elements](#Extract)\n",
    "    -  [3.3.2 Logical Indexing](#Logic)"
   ]
  },
  {
   "cell_type": "markdown",
   "metadata": {},
   "source": [
    "<a id='Summary'></a>"
   ]
  },
  {
   "cell_type": "markdown",
   "metadata": {},
   "source": [
    "### 3.1 Summary"
   ]
  },
  {
   "cell_type": "markdown",
   "metadata": {},
   "source": [
    "So far we have discussed usage of the command line, introduced scripts, thought about if statements and used arrays. This lecture we are going to look more into the logical expressions that go into if statements and also see that we have a huge amount of control over arrays."
   ]
  },
  {
   "cell_type": "markdown",
   "metadata": {},
   "source": [
    "<a id='Boo'></a>"
   ]
  },
  {
   "cell_type": "markdown",
   "metadata": {},
   "source": [
    "### 3.2 Logical Expressions and Booleans"
   ]
  },
  {
   "cell_type": "markdown",
   "metadata": {},
   "source": [
    "We started looking into __logical expressions__ when we introduced if statements, but they are worth thinking about them in their own right. Logical expressions can take on only two values: TRUE (1) or FALSE (0). The variables that are assigned to logical expressions are called __Booleans__. In the example below '5>3' is a logical expression and 'b1' is the boolean."
   ]
  },
  {
   "cell_type": "code",
   "execution_count": 9,
   "metadata": {},
   "outputs": [
    {
     "name": "stdout",
     "output_type": "stream",
     "text": [
      "b1 =  1\n",
      "b2 = 0\n",
      "b3 = 0\n",
      "b4 =  1\n"
     ]
    }
   ],
   "source": [
    "b1 = (5>3) % b1 is 1 as this expression is true\n",
    "b2 = (3>5) % b2 is 0 as this expression is false.\n",
    "b3 = (5==3) % b3 is 0 as this expression is false.\n",
    "b4 = (5 != 3) % b4 is 1 as this expression is true (5 is not equal to 3)"
   ]
  },
  {
   "cell_type": "markdown",
   "metadata": {},
   "source": [
    "If we need two statements to be true than we use the AND (&& or &) operator, if we need one of the two statements to be true we can use the OR ( || or |) operator. __Every__ if statement uses these logical operators and expresssions:"
   ]
  },
  {
   "cell_type": "code",
   "execution_count": null,
   "metadata": {},
   "outputs": [],
   "source": [
    "if (logical expression) \n",
    "    % Code      This code is performed if the above logical expression is true.\n",
    "elseif (logical expression)     \n",
    "    % Code      This code is performed if the directly above logical expression is true.\n",
    "end\n",
    "\n"
   ]
  },
  {
   "cell_type": "markdown",
   "metadata": {},
   "source": [
    "It is better if the logical expressions happen exclusively (but it's not necessary, it depends on your code):"
   ]
  },
  {
   "cell_type": "code",
   "execution_count": 2,
   "metadata": {},
   "outputs": [
    {
     "name": "stdout",
     "output_type": "stream",
     "text": [
      "5.0 is greater than 3 \n"
     ]
    }
   ],
   "source": [
    "x=5;\n",
    "if (x>3)\n",
    "    fprintf('%.1f is greater than 3 \\n',x)\n",
    "elseif (x>2)\n",
    "    fprintf('%.1f is greater than 2 \\n',x)\n",
    "end"
   ]
  },
  {
   "cell_type": "markdown",
   "metadata": {},
   "source": [
    "Why has the above code only printed '5 is greater than 3' and not also '5 is greater than 2'? Will it ever print 'x is greater than 2'?"
   ]
  },
  {
   "cell_type": "markdown",
   "metadata": {},
   "source": [
    "<a id='Array'></a>"
   ]
  },
  {
   "cell_type": "markdown",
   "metadata": {},
   "source": [
    "### 3.3 Array Manipulation"
   ]
  },
  {
   "cell_type": "markdown",
   "metadata": {},
   "source": [
    "<a id='Extract'></a>"
   ]
  },
  {
   "cell_type": "markdown",
   "metadata": {},
   "source": [
    "#### 3.3.1 Extracting Elements"
   ]
  },
  {
   "cell_type": "markdown",
   "metadata": {},
   "source": [
    "We have also learnt that arrays are easily manipulated in Matlab. We see that we can multiply arrays together through matrix multiplication or element multiplication:"
   ]
  },
  {
   "cell_type": "code",
   "execution_count": 30,
   "metadata": {},
   "outputs": [
    {
     "name": "stdout",
     "output_type": "stream",
     "text": [
      "B =\n",
      "\n",
      "   4   0   4\n",
      "   0   8   0\n",
      "   4   0   4\n",
      "\n",
      "C =\n",
      "\n",
      "   0   4   0\n",
      "   4   0   4\n",
      "   0   4   0\n",
      "\n"
     ]
    }
   ],
   "source": [
    "A = [0 2 0; 2 0 2; 0 2 0];\n",
    "B = A*A\n",
    "C = A.*A"
   ]
  },
  {
   "cell_type": "markdown",
   "metadata": {},
   "source": [
    "We can extract elements from data. If I wanted the element from the 1st row and third column:"
   ]
  },
  {
   "cell_type": "code",
   "execution_count": 33,
   "metadata": {},
   "outputs": [
    {
     "name": "stdout",
     "output_type": "stream",
     "text": [
      "D =\n",
      "\n",
      "   1   2   3\n",
      "   4   5   6\n",
      "   7   8   9\n",
      "\n",
      "ans =  3\n"
     ]
    }
   ],
   "source": [
    "D = [1 2 3; 4 5 6; 7 8 9]\n",
    "D(1,3)"
   ]
  },
  {
   "cell_type": "markdown",
   "metadata": {},
   "source": [
    "We can extract whole rows or columns:"
   ]
  },
  {
   "cell_type": "code",
   "execution_count": 37,
   "metadata": {},
   "outputs": [
    {
     "name": "stdout",
     "output_type": "stream",
     "text": [
      "v1 =\n",
      "\n",
      "   3\n",
      "   6\n",
      "   9\n",
      "\n",
      "v2 =\n",
      "\n",
      "   4   5   6\n",
      "\n"
     ]
    }
   ],
   "source": [
    "v1 = D(:,3) % v1 is a column vector that is equal to the third column of D\n",
    "v2 = D(2,:) % v2 is a row vector that is equal to the second row of D"
   ]
  },
  {
   "cell_type": "markdown",
   "metadata": {},
   "source": [
    "And we can extract smaller arrays:"
   ]
  },
  {
   "cell_type": "code",
   "execution_count": 40,
   "metadata": {},
   "outputs": [
    {
     "name": "stdout",
     "output_type": "stream",
     "text": [
      "v3 =\n",
      "\n",
      "   1   2\n",
      "   4   5\n",
      "   7   8\n",
      "\n",
      "v4 =\n",
      "\n",
      "   4   5\n",
      "   7   8\n",
      "\n"
     ]
    }
   ],
   "source": [
    "v3 = D(:,1:2) % v3 is an array that holds the first two columns of D\n",
    "v4 = D(2:3,1:2) % v4 is an array that holds the second and third row of the first and second column of D"
   ]
  },
  {
   "cell_type": "markdown",
   "metadata": {},
   "source": [
    "Hopefully you are noticing a logic to the notation:"
   ]
  },
  {
   "cell_type": "code",
   "execution_count": null,
   "metadata": {},
   "outputs": [],
   "source": [
    "Array(rows, columns)\n",
    ": % means all (either rows or columns)\n",
    "num1:num2 % means rows or columns between num1 and num2 (inclusive)"
   ]
  },
  {
   "cell_type": "markdown",
   "metadata": {},
   "source": [
    "We can also put arrays together:"
   ]
  },
  {
   "cell_type": "code",
   "execution_count": 48,
   "metadata": {},
   "outputs": [
    {
     "name": "stdout",
     "output_type": "stream",
     "text": [
      "F =\n",
      "\n",
      "   0   2   0   4   0   4\n",
      "   2   0   2   0   8   0\n",
      "   0   2   0   4   0   4\n",
      "   0   4   0   1   2   3\n",
      "   4   0   4   4   5   6\n",
      "   0   4   0   7   8   9\n",
      "\n"
     ]
    }
   ],
   "source": [
    "F = [A B;C D] % But remember the dimensions must match: F = [A B; C] is meaningless, either [A;C] or [A B] works"
   ]
  },
  {
   "cell_type": "markdown",
   "metadata": {},
   "source": [
    "<a id='Logic'></a>"
   ]
  },
  {
   "cell_type": "markdown",
   "metadata": {},
   "source": [
    "#### 3.3.2 Logical Indexing"
   ]
  },
  {
   "cell_type": "markdown",
   "metadata": {},
   "source": [
    "We can combine these two ideas: logical expressions and array manipulation with logical indexing. Suppose we wish to find all the elements in an array that obey a logical expression. This is best illustrated with an example."
   ]
  },
  {
   "cell_type": "markdown",
   "metadata": {},
   "source": [
    "Consider a set of results from twenty students in a first year mathematics course:"
   ]
  },
  {
   "cell_type": "code",
   "execution_count": 4,
   "metadata": {},
   "outputs": [],
   "source": [
    "%[AM10IM AM10FC AM10TM AM10MT AM10VA AM10AS Mean Mark]\n",
    "R =[72   62   63   75   84   69   71\n",
    "   32   44   56   40   42   38   42\n",
    "   45   41   48   51   43   38   44\n",
    "   32   35   32   45   33   40   36\n",
    "   52   46   49   52   54   46   50\n",
    "   61   56   49   56   55   45   54\n",
    "   55   52   54   55   50   51   53\n",
    "   60   71   78   74   70   64   69\n",
    "   80   76   79   79   74   74   77\n",
    "   51   49   57   58   33   56   51\n",
    "   45   46   45   45   45   46   45];"
   ]
  },
  {
   "cell_type": "markdown",
   "metadata": {},
   "source": [
    "Where each row corresponds to a student's result in the above courses.\n",
    "\n",
    "We can ask where students have acheived firsts, 2:1s, seconds, passes and fails in their courses:"
   ]
  },
  {
   "cell_type": "code",
   "execution_count": 11,
   "metadata": {},
   "outputs": [],
   "source": [
    "R1b = R(:,1:6) >= 70;\n",
    "R21b = (R(:,1:6) >= 60) & (R(:,1:6) < 70); %where students have acheived 2:1\n",
    "R22b = (R(:,1:6) >= 50) & (R(:,1:6) < 60);% 2:2\n",
    "R3b =  (R(:,1:6) >= 40) & (R(:,1:6) < 50); %Pass\n",
    "RFb = (R(:,1:6)<40); % Fail"
   ]
  },
  {
   "cell_type": "markdown",
   "metadata": {},
   "source": [
    "We can also view only those who have acheived a first for their overall mark:"
   ]
  },
  {
   "cell_type": "code",
   "execution_count": 22,
   "metadata": {},
   "outputs": [
    {
     "name": "stdout",
     "output_type": "stream",
     "text": [
      "R1 =\n",
      "\n",
      "   72   62   63   75   84   69   71\n",
      "   80   76   79   79   74   74   77\n",
      "\n"
     ]
    }
   ],
   "source": [
    "R1 = R(R(:,7)>=70,:)"
   ]
  },
  {
   "cell_type": "markdown",
   "metadata": {},
   "source": [
    "Unpacking this code:"
   ]
  },
  {
   "cell_type": "code",
   "execution_count": 24,
   "metadata": {},
   "outputs": [
    {
     "name": "stdout",
     "output_type": "stream",
     "text": [
      "ans =\n",
      "\n",
      "   1\n",
      "   0\n",
      "   0\n",
      "   0\n",
      "   0\n",
      "   0\n",
      "   0\n",
      "   0\n",
      "   1\n",
      "   0\n",
      "   0\n",
      "\n"
     ]
    }
   ],
   "source": [
    "R(:,7)>=70"
   ]
  },
  {
   "cell_type": "markdown",
   "metadata": {},
   "source": [
    "This says look through all of the final column (the averages) and find where the numbers are greater or equal to 70. It is labelling all the rows that correspond to an overall mark greater than or equal to 70."
   ]
  },
  {
   "cell_type": "code",
   "execution_count": 36,
   "metadata": {},
   "outputs": [
    {
     "name": "stdout",
     "output_type": "stream",
     "text": [
      "R1 =\n",
      "\n",
      "   72   62   63   75   84   69   71\n",
      "   80   76   79   79   74   74   77\n",
      "\n"
     ]
    }
   ],
   "source": [
    "R1 = R(R(:,7)>=70,:)\n",
    "%R22 = R(b,:)\n",
    "%R22(R22<40);\n",
    "%R22b = R22<40\n"
   ]
  },
  {
   "cell_type": "markdown",
   "metadata": {},
   "source": [
    "Here we have the normal notation of R(row,column) like before but with the logical expression in the row part it is telling matlab to pick out the rows where R(:,7)>70 is true (the first and the ninth row). The second part is just a colon and so is telling matlab the R1 should contain all the columns of these 70+ students. How would you change this for selecting those in the different grade boundaries?"
   ]
  },
  {
   "cell_type": "markdown",
   "metadata": {},
   "source": [
    "Can you work out what the following code is showing?"
   ]
  },
  {
   "cell_type": "code",
   "execution_count": 37,
   "metadata": {},
   "outputs": [
    {
     "name": "stdout",
     "output_type": "stream",
     "text": [
      "R22F =\n",
      "\n",
      "   51   49   57   58   33   56   51\n",
      "\n"
     ]
    }
   ],
   "source": [
    "b1 = R(:,7)<60 & R(:,7)>=50;\n",
    "R22 = R(b,:);\n",
    "b2 = R22(:,1)<40 | R22(:,2)<40 | R22(:,3)<40 | R22(:,4)<40 | R22(:,5)<40 | R22(:,6)<40;\n",
    "R22F = R22(b2,:)"
   ]
  }
 ],
 "metadata": {
  "kernelspec": {
   "display_name": "Octave",
   "language": "octave",
   "name": "octave"
  },
  "language_info": {
   "file_extension": ".m",
   "help_links": [
    {
     "text": "GNU Octave",
     "url": "https://www.gnu.org/software/octave/support.html"
    },
    {
     "text": "Octave Kernel",
     "url": "https://github.com/Calysto/octave_kernel"
    },
    {
     "text": "MetaKernel Magics",
     "url": "https://github.com/calysto/metakernel/blob/master/metakernel/magics/README.md"
    }
   ],
   "mimetype": "text/x-octave",
   "name": "octave",
   "version": "4.0.0"
  }
 },
 "nbformat": 4,
 "nbformat_minor": 2
}
