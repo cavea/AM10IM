{
 "cells": [
  {
   "cell_type": "markdown",
   "metadata": {},
   "source": [
    "# AM10IM - Introduction to Matlab"
   ]
  },
  {
   "cell_type": "markdown",
   "metadata": {},
   "source": [
    "## Lecture Challenge 7 Solutions"
   ]
  },
  {
   "cell_type": "markdown",
   "metadata": {},
   "source": [
    "__Challenge 1__ : Can you write a piece of Matlab code that will __find the 10001st prime number__?"
   ]
  },
  {
   "cell_type": "markdown",
   "metadata": {},
   "source": [
    "There are __many__ ways to do this. One way is to use the Matlab function 'Nthprime(10001)'! and it's one line. This is my solution as I wasn't aware Nthprime(N) exists."
   ]
  },
  {
   "cell_type": "code",
   "execution_count": 4,
   "metadata": {},
   "outputs": [
    {
     "name": "stdout",
     "output_type": "stream",
     "text": [
      "Elapsed time is 284.267 seconds.\n",
      "j =  104743\n"
     ]
    }
   ],
   "source": [
    "%{\n",
    "Challenge 2:\n",
    "We shall find the nth prime:\n",
    "\n",
    "The while loop:\n",
    "    Iterates j=j+1 so will check every number until i=10001\n",
    "    i = i+isprime(j) will add one to i every time j is a prime, once\n",
    "    it reaches 10001 we stop. It will add zero if j is not a prime\n",
    "    The final j will be the 10001st prime\n",
    "%}\n",
    "clear all\n",
    "n = 10001;   % The prime we want\n",
    "i = 0;     % initialising\n",
    "j = 0;     % initialising\n",
    "tic        % simply setting a timer so that we know how long it takes\n",
    "while i<n\n",
    "  j = j+1;\n",
    "  i = i + isprime(j);\n",
    "end\n",
    "toc       % stops the timer and displays to the screen\n",
    "j         % simply displays the final j, the 10001st prime"
   ]
  },
  {
   "cell_type": "markdown",
   "metadata": {},
   "source": [
    "Another solution is to use if statments in the while loop."
   ]
  },
  {
   "cell_type": "markdown",
   "metadata": {},
   "source": [
    "__Challenge 2__: Can you plot the prime counting function $P(m)$ for the first 100 integers? The prime counting function $P\\left(m\\right)$ counts the number of prime numbers less than or equal to the integer $m$. You should be plotting a vector that looks like:\n",
    "\n",
    "\\begin{align}\n",
    "\\begin{pmatrix}\n",
    "1 & 0 \\\\\n",
    "2 & 1 \\\\\n",
    "3 & 2 \\\\\n",
    "4 & 2 \\\\\n",
    "5 & 3 \\\\\n",
    "\\vdots & \\vdots\n",
    "\\end{pmatrix}\n",
    "\\end{align}\n",
    "As there are zero primes less than or equal to 1; one prime less than or equal to two; two primes (3 and 2) that are less than or equal to 3; 2 primes that are less than or equal to 4; 3 primes (2, 3, 5) less than or equal to 5 etc."
   ]
  },
  {
   "cell_type": "code",
   "execution_count": 2,
   "metadata": {},
   "outputs": [
    {
     "name": "stdout",
     "output_type": "stream",
     "text": [
      "Elapsed time is 0.0496359 seconds.\n"
     ]
    },
    {
     "data": {
      "image/png": "[encoded data removed]",
      "text/plain": [
       "<IPython.core.display.Image object>"
      ]
     },
     "metadata": {},
     "output_type": "display_data"
    }
   ],
   "source": [
    "%{\n",
    "Challenge 2:\n",
    "Shows the prime counting function P for the first n integers:\n",
    "The prime counting function evaluated at 'i' gives the number of primes\n",
    "less than or equal to 'i'.\n",
    "\n",
    "The while loop:\n",
    "    - iterates j until stated in 'n'\n",
    "    - Requires j=j+1 so that it will terminate.\n",
    "    - i = i+isprime(j) will add one to the number of primes if i is prime\n",
    "    - s = [s; j i] i is the number of primes less than or equal to j\n",
    "                   This vector s will be two columns of size n, the first\n",
    "                   column is 1,..,n the second will be the number primes\n",
    "                   less than or equal to i.\n",
    "\n",
    "n - the integer we go up to, the challenge asks for n = 100\n",
    "j - will iterate the while loop, it will run from 1,..,n\n",
    "i - will keep count of the number of primes less than or equal to j.\n",
    "s - will store j and i in a 2xn vector\n",
    "x - x axis for the plot\n",
    "y - y axis for the plot\n",
    "%}\n",
    "n = 100;   % The highest integer\n",
    "i = 0;     % initialising\n",
    "j = 0;     % initialising\n",
    "s = [];    % initialising 's' as the empty array\n",
    "tic        % simply setting a timer so that we know how long it takes\n",
    "while j<n\n",
    "  j = j+1;\n",
    "  i = i + isprime(j);\n",
    "  s = [s; j i];\n",
    "end\n",
    "toc       % stops the timer\n",
    "x = s(:,1);\n",
    "y = s(:,2);\n",
    "plot(x,y,'*')\n",
    "title('Prime Counting Function between 1 and 100')\n",
    "xlabel('x')\n",
    "ylabel('P(x)')"
   ]
  },
  {
   "cell_type": "code",
   "execution_count": null,
   "metadata": {},
   "outputs": [],
   "source": []
  }
 ],
 "metadata": {
  "kernelspec": {
   "display_name": "Octave",
   "language": "octave",
   "name": "octave"
  },
  "language_info": {
   "file_extension": ".m",
   "help_links": [
    {
     "text": "GNU Octave",
     "url": "https://www.gnu.org/software/octave/support.html"
    },
    {
     "text": "Octave Kernel",
     "url": "https://github.com/Calysto/octave_kernel"
    },
    {
     "text": "MetaKernel Magics",
     "url": "https://github.com/calysto/metakernel/blob/master/metakernel/magics/README.md"
    }
   ],
   "mimetype": "text/x-octave",
   "name": "octave",
   "version": "4.0.0"
  }
 },
 "nbformat": 4,
 "nbformat_minor": 2
}
