{
 "cells": [
  {
   "cell_type": "markdown",
   "metadata": {},
   "source": [
    "# AM10IM - Introduction to Matlab"
   ]
  },
  {
   "cell_type": "markdown",
   "metadata": {},
   "source": [
    "## Lecture Challenge 2 Solutions (Hard Mode)"
   ]
  },
  {
   "cell_type": "markdown",
   "metadata": {},
   "source": [
    "This challenge is essentially the same as the other Lecture Challenge 2 but with added mathematics."
   ]
  },
  {
   "cell_type": "markdown",
   "metadata": {},
   "source": [
    "### Women's Heptathlon Point System"
   ]
  },
  {
   "cell_type": "markdown",
   "metadata": {},
   "source": [
    "We have the conversion of times/ lengths and heights in the Heptathlon even to points:\n",
    "\n",
    "For running events (200m, 800m and 100m hurdles)\n",
    "\n",
    "$$\n",
    "P = a \\cdot\\left(b-T\\right)^{c}.\n",
    "$$\n",
    "\n",
    "For jumping and throwing events (high jump and long jump)\n",
    "\n",
    "$$\n",
    "P = a \\cdot\\left(M-b\\right)^{c}.\n",
    "$$\n",
    "\n",
    "For throwing events (shot put and javelin)\n",
    "\n",
    "$$\n",
    "P = a \\cdot\\left(D-b\\right)^{c}.\n",
    "$$\n",
    "\n",
    "Here, $P$ are the number of points scored, $T$ is competitor's time in __seconds__, $M$ is the height or length in __centimetres__ and $D$ is the length in __metres__. The numbers $a, b, c$ are constants that are different for each event (see the arrays below and https://en.wikipedia.org/wiki/Heptathlon#Points_system)"
   ]
  },
  {
   "cell_type": "code",
   "execution_count": 37,
   "metadata": {},
   "outputs": [],
   "source": [
    "%[100mH HJ SP 200m LJ JT 800m]\n",
    "a = [9.23 1.85 56.0 4.99 0.19 16.0 0.12];\n",
    "b = [26.7 75.0 1.50 42.5 210 3.8 254];\n",
    "c = [1.84 1.35 1.05 1.81 1.41 1.04 1.88];"
   ]
  },
  {
   "cell_type": "markdown",
   "metadata": {},
   "source": [
    "With the results for the three competitors:"
   ]
  },
  {
   "cell_type": "code",
   "execution_count": 38,
   "metadata": {},
   "outputs": [],
   "source": [
    "%[100mH HJ SP 200m LJ JT 800m]\n",
    "JE = [12.54 186 14.28 22.83 648 47.49 128.7]; %Mistake: I've changed the data for HJ and LJ to be in cm rather than m\n",
    "LS = [13.26 183 14.77 24.77 630 51.73 130.5]; %for the three athletes\n",
    "AS = [14.00 192 17.31 25.43 625 51.13 140.6];"
   ]
  },
  {
   "cell_type": "markdown",
   "metadata": {},
   "source": [
    "__Challenge 1__ Can you calculate the points for each athlete? (To select a specifc element of a vector use a(number), eg to select the second number of a, use a(2))"
   ]
  },
  {
   "cell_type": "code",
   "execution_count": 39,
   "metadata": {},
   "outputs": [
    {
     "name": "stdout",
     "output_type": "stream",
     "text": [
      "JEP =\n",
      "\n",
      "   1211.04   1067.48    812.92   1096.19\n",
      "\n"
     ]
    }
   ],
   "source": [
    "JEP(1) = a(1).*(b(1)-JE(1)).^c(1);\n",
    "JEP(2) = a(2).*(JE(2)-b(2)).^c(2);\n",
    "JEP(3) = a(3).*(JE(3)-b(3)).^c(3);\n",
    "JEP(4) = a(4).*(b(4)-JE(4)).^c(4)\n",
    "%and so on."
   ]
  },
  {
   "cell_type": "markdown",
   "metadata": {},
   "source": [
    "An easier way to do this is to use for loops, and notice that the 200m 800m and 100mH (1st, 4th and 7th column) points  is calculated slightly differently."
   ]
  },
  {
   "cell_type": "code",
   "execution_count": 40,
   "metadata": {},
   "outputs": [
    {
     "name": "stdout",
     "output_type": "stream",
     "text": [
      "LSP =  6754.6\n",
      "ASP =  6693.9\n",
      "JEP =  7063.3\n"
     ]
    }
   ],
   "source": [
    "JEP = 0;\n",
    "LSP = 0;\n",
    "ASP = 0;\n",
    "for i = 1:7\n",
    "    if (i == 1) || (i == 4) || (i == 7)\n",
    "        JEP = JEP + a(i)*(b(i)-JE(i)).^c(i);\n",
    "        LSP = LSP + a(i)*(b(i)-LS(i)).^c(i);\n",
    "        ASP = ASP + a(i)*(b(i)-AS(i)).^c(i);\n",
    "    else\n",
    "        JEP = JEP + a(i)*(JE(i)-b(i)).^c(i);\n",
    "        LSP = LSP + a(i)*(LS(i)-b(i)).^c(i);\n",
    "        ASP = ASP + a(i)*(AS(i)-b(i)).^c(i);\n",
    "    end\n",
    "end\n",
    "LSP\n",
    "ASP\n",
    "JEP"
   ]
  },
  {
   "cell_type": "markdown",
   "metadata": {},
   "source": [
    "Alternatively we could have combined the athletes' results into one array:"
   ]
  },
  {
   "cell_type": "code",
   "execution_count": 44,
   "metadata": {},
   "outputs": [],
   "source": [
    "R = [JE;LS;AS];"
   ]
  },
  {
   "cell_type": "code",
   "execution_count": 45,
   "metadata": {},
   "outputs": [
    {
     "name": "stdout",
     "output_type": "stream",
     "text": [
      "RP =\n",
      "\n",
      "   1211.04   1067.48    812.92   1096.19   1007.47    813.05   1055.19\n",
      "   1100.16   1028.71    845.67    908.37    949.59    895.27   1026.87\n",
      "    991.29   1146.10   1016.40    848.09    933.69    883.61    874.69\n",
      "\n"
     ]
    }
   ],
   "source": [
    "clear RP\n",
    "for i = 1:7\n",
    "    if (i == 1)|| (i==4) ||(i==7)\n",
    "        for j = 1:3\n",
    "            RP(j,i) = a(i)*(b(i)-R(j,i)).^c(i);\n",
    "        end\n",
    "    else\n",
    "        for j = 1:3\n",
    "            RP(j,i) = a(i)*(R(j,i)-b(i)).^c(i);\n",
    "        end\n",
    "    end\n",
    "end\n",
    "RP %Will just show us points for each result"
   ]
  },
  {
   "cell_type": "markdown",
   "metadata": {},
   "source": [
    "Provides the points rewarded for each athlete for each event. The first row is Jessica Ennis, second row is Lilli Schwarzkopf and third is Austra Skujyte"
   ]
  },
  {
   "cell_type": "markdown",
   "metadata": {},
   "source": [
    "To sum them we can use the function sum:"
   ]
  },
  {
   "cell_type": "code",
   "execution_count": 46,
   "metadata": {},
   "outputs": [
    {
     "name": "stdout",
     "output_type": "stream",
     "text": [
      "RP =\n",
      "\n",
      "   1211.04   1067.48    812.92   1096.19   1007.47    813.05   1055.19   7063.33\n",
      "   1100.16   1028.71    845.67    908.37    949.59    895.27   1026.87   6754.64\n",
      "    991.29   1146.10   1016.40    848.09    933.69    883.61    874.69   6693.88\n",
      "\n"
     ]
    }
   ],
   "source": [
    "for i=1:3\n",
    "    RT(i) = sum(RP(i,:)); % adds up the i'th row\n",
    "end\n",
    "RP = [RP RT'] % Puts the total onto the end as a column vector (notice it had to be transposed)"
   ]
  },
  {
   "cell_type": "markdown",
   "metadata": {},
   "source": [
    "__Challenge 2__ Now can you give them their ranking?"
   ]
  },
  {
   "cell_type": "code",
   "execution_count": 52,
   "metadata": {},
   "outputs": [
    {
     "name": "stdout",
     "output_type": "stream",
     "text": [
      "x =\n",
      "\n",
      "   7063.3\n",
      "   6754.6\n",
      "   6693.9\n",
      "\n",
      "I =\n",
      "\n",
      "   1\n",
      "   2\n",
      "   3\n",
      "\n",
      "JE is position 1 \n",
      "LS is position 2 \n",
      "AS is position 3 \n"
     ]
    }
   ],
   "source": [
    "[x I] = sort(RP(:,end),'descend') %Works the same was as in Lecture Challenge 2\n",
    "for i = 1:3\n",
    "    if I(i) == 1\n",
    "        fprintf('JE is position %.0f \\n',i)\n",
    "    elseif I(i) ==2\n",
    "        fprintf('LS is position %.0f \\n',i)\n",
    "    else\n",
    "        fprintf('AS is position %.0f \\n',i)\n",
    "    end\n",
    "end"
   ]
  }
 ],
 "metadata": {
  "kernelspec": {
   "display_name": "Octave",
   "language": "octave",
   "name": "octave"
  },
  "language_info": {
   "file_extension": ".m",
   "help_links": [
    {
     "text": "GNU Octave",
     "url": "https://www.gnu.org/software/octave/support.html"
    },
    {
     "text": "Octave Kernel",
     "url": "https://github.com/Calysto/octave_kernel"
    },
    {
     "text": "MetaKernel Magics",
     "url": "https://github.com/calysto/metakernel/blob/master/metakernel/magics/README.md"
    }
   ],
   "mimetype": "text/x-octave",
   "name": "octave",
   "version": "4.0.0"
  }
 },
 "nbformat": 4,
 "nbformat_minor": 2
}
