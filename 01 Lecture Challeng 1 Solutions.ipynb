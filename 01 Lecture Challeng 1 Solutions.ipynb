{
 "cells": [
  {
   "cell_type": "markdown",
   "metadata": {},
   "source": [
    "# AM10IM - Introduction to Matlab"
   ]
  },
  {
   "cell_type": "markdown",
   "metadata": {},
   "source": [
    "## Lecture Challenge 1 Solutions"
   ]
  },
  {
   "cell_type": "markdown",
   "metadata": {},
   "source": [
    "What you will find as you continue your Matlab journey is that there are thousands of different ways of getting to the solution. There are no 'right' ways of getting to a solution, some methods are more efficient or elegant than others but if your code gets to the same solution and there are huge factors of difference in timing, then it doesn't really matter.\n",
    "\n",
    "I am sure some of you have had a go at the MatLab Cody and you will see that there are lots of solutions to each of the questions.\n",
    "\n",
    "In fact just recently I spent a bit of time trying to sum all the primes lower than two million using Matlab (Project Euler problem 10). My code went from taking days to give an answer, to minutes once I got it faster but it turns out I could have written it in one line and it spit out the answer instantly:"
   ]
  },
  {
   "cell_type": "code",
   "execution_count": 3,
   "metadata": {},
   "outputs": [
    {
     "name": "stdout",
     "output_type": "stream",
     "text": [
      "ans =  142913828922\n"
     ]
    }
   ],
   "source": [
    "format long\n",
    "sum(primes(2000000))"
   ]
  },
  {
   "cell_type": "markdown",
   "metadata": {},
   "source": [
    "Sadly, you will have similar experiences with Matlab. But this all part of learning how to code. Here I am going to present a few different ways to get to the answer."
   ]
  },
  {
   "cell_type": "markdown",
   "metadata": {},
   "source": [
    "__Challenge 1__ Can you round 'b' to the nearest 100"
   ]
  },
  {
   "cell_type": "code",
   "execution_count": 10,
   "metadata": {},
   "outputs": [
    {
     "name": "stdout",
     "output_type": "stream",
     "text": [
      "ans =  1300\n"
     ]
    }
   ],
   "source": [
    "% Challenge 1\n",
    "b = 1268;\n",
    "100*round(b/100)"
   ]
  },
  {
   "cell_type": "markdown",
   "metadata": {},
   "source": [
    "If we want to round to the nearest 0.1 we have to replace 100 by 0.1:"
   ]
  },
  {
   "cell_type": "code",
   "execution_count": 2,
   "metadata": {},
   "outputs": [
    {
     "name": "stdout",
     "output_type": "stream",
     "text": [
      "ans =  3.1000\n"
     ]
    }
   ],
   "source": [
    "b = pi;\n",
    "0.1*round(b/0.1)"
   ]
  },
  {
   "cell_type": "markdown",
   "metadata": {},
   "source": [
    "__Challenge 2__ Can you change it to find the nearest multiple of 3 to 'b'? Or nearest multiple of any number to b?"
   ]
  },
  {
   "cell_type": "markdown",
   "metadata": {},
   "source": [
    "In Challenge 1 we are finding the nearest multiple of 100 to b, so intuitively we can replace the number 100 with 3. Can you see how this working? Try breaking down the code for each bit."
   ]
  },
  {
   "cell_type": "code",
   "execution_count": 4,
   "metadata": {},
   "outputs": [
    {
     "name": "stdout",
     "output_type": "stream",
     "text": [
      "b =  100\n",
      "ans =  99\n"
     ]
    }
   ],
   "source": [
    "b=100\n",
    "3*round(b/3)"
   ]
  },
  {
   "cell_type": "markdown",
   "metadata": {},
   "source": [
    "Then for any number:"
   ]
  },
  {
   "cell_type": "code",
   "execution_count": 6,
   "metadata": {},
   "outputs": [
    {
     "name": "stdout",
     "output_type": "stream",
     "text": [
      "ans =  108\n"
     ]
    }
   ],
   "source": [
    "b=101;\n",
    "a = 36;\n",
    "a*round(b/a)"
   ]
  },
  {
   "cell_type": "markdown",
   "metadata": {},
   "source": [
    "__Challenge 3__ Using the 'floor function' can you find how many times a 'b' goes into another number and find its remainder. "
   ]
  },
  {
   "cell_type": "markdown",
   "metadata": {},
   "source": [
    "This one we can do in many ways, sticking with the theme of round(X):"
   ]
  },
  {
   "cell_type": "code",
   "execution_count": 11,
   "metadata": {},
   "outputs": [
    {
     "name": "stdout",
     "output_type": "stream",
     "text": [
      "ans =  2\n",
      "ans =  29\n"
     ]
    }
   ],
   "source": [
    "floor(b/a) %Gives the number of times 'a' goes into 'b'\n",
    "b-a*floor(b/a) % Gives the remainder."
   ]
  },
  {
   "cell_type": "markdown",
   "metadata": {},
   "source": [
    "However since our first lecture we've seen the mod function:"
   ]
  },
  {
   "cell_type": "code",
   "execution_count": 17,
   "metadata": {},
   "outputs": [
    {
     "name": "stdout",
     "output_type": "stream",
     "text": [
      "ans =  29\n",
      "ans =  29\n"
     ]
    }
   ],
   "source": [
    "mod(b,a)\n",
    "rem(b,a) %remainder function performs a similar role\n",
    "%(difference with negative) numbers"
   ]
  },
  {
   "cell_type": "markdown",
   "metadata": {},
   "source": [
    "__Challenge 4__: Given a number, can you make the computer determie whether it is odd or even? Given input f, let m return 0 if it is odd and 1 if it is even."
   ]
  },
  {
   "cell_type": "markdown",
   "metadata": {},
   "source": [
    "Again there are many solutions (generally the more complex a problem the more solutions there are)"
   ]
  },
  {
   "cell_type": "code",
   "execution_count": 25,
   "metadata": {},
   "outputs": [
    {
     "name": "stdout",
     "output_type": "stream",
     "text": [
      "f =  16\n",
      "m =  1\n"
     ]
    }
   ],
   "source": [
    "f=16\n",
    "m = 1-(f - 2*floor(f/2))"
   ]
  },
  {
   "cell_type": "markdown",
   "metadata": {},
   "source": [
    "Another is to use the mod function again:"
   ]
  },
  {
   "cell_type": "code",
   "execution_count": 26,
   "metadata": {},
   "outputs": [
    {
     "name": "stdout",
     "output_type": "stream",
     "text": [
      "m =  1\n"
     ]
    }
   ],
   "source": [
    "m = 1-mod(f,2)"
   ]
  },
  {
   "cell_type": "markdown",
   "metadata": {},
   "source": [
    "In the second lecture we introduced if statements:"
   ]
  },
  {
   "cell_type": "code",
   "execution_count": 27,
   "metadata": {},
   "outputs": [
    {
     "name": "stdout",
     "output_type": "stream",
     "text": [
      "m =  1\n"
     ]
    }
   ],
   "source": [
    "if mod(f,2)==0\n",
    "    m = 1\n",
    "else\n",
    "    m=0\n",
    "end"
   ]
  },
  {
   "cell_type": "markdown",
   "metadata": {},
   "source": [
    "Hopefully you can see that there are many different ways to approach problems."
   ]
  }
 ],
 "metadata": {
  "kernelspec": {
   "display_name": "Octave",
   "language": "octave",
   "name": "octave"
  },
  "language_info": {
   "file_extension": ".m",
   "help_links": [
    {
     "text": "GNU Octave",
     "url": "https://www.gnu.org/software/octave/support.html"
    },
    {
     "text": "Octave Kernel",
     "url": "https://github.com/Calysto/octave_kernel"
    },
    {
     "text": "MetaKernel Magics",
     "url": "https://github.com/calysto/metakernel/blob/master/metakernel/magics/README.md"
    }
   ],
   "mimetype": "text/x-octave",
   "name": "octave",
   "version": "4.0.0"
  }
 },
 "nbformat": 4,
 "nbformat_minor": 2
}
