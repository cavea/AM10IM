{
 "cells": [
  {
   "cell_type": "markdown",
   "metadata": {},
   "source": [
    "# AM10IM - Introduction to Matlab"
   ]
  },
  {
   "cell_type": "markdown",
   "metadata": {},
   "source": [
    "## Lecture Challenge 6 Solutions"
   ]
  },
  {
   "cell_type": "markdown",
   "metadata": {},
   "source": [
    "If there are 23 people in a room, it is more likely than not that at least two of these people share a birthday. This is highly counterintuitive. There are 365 days in a year, surely it is more likely that all twenty three people have separate birthdays!"
   ]
  },
  {
   "cell_type": "markdown",
   "metadata": {},
   "source": [
    "__Challenge 1__: Given $N$ people in a room, and assuming that each person's birthday occurs on a random, uniformly distributed day of the year, can you approximate the probability that at least two people share a birthday? (You may ignore the date 29th February).\n",
    "\n",
    "__Hint__: This question is asking you to approximate the probability that $N$ people __do not__ have separate birthdays."
   ]
  },
  {
   "cell_type": "markdown",
   "metadata": {},
   "source": [
    "One of the hardest parts of doing these questions is knowing where to start."
   ]
  },
  {
   "cell_type": "markdown",
   "metadata": {},
   "source": [
    "We want to be able to see if there are any repeated birthdays in a set of $N$ randomly generated birthdays."
   ]
  },
  {
   "cell_type": "markdown",
   "metadata": {},
   "source": [
    "Which means we need to be able to generate $N$ birthdays and be able to __compare__ them."
   ]
  },
  {
   "cell_type": "markdown",
   "metadata": {},
   "source": [
    "If we can repeat all this $M$ times, count the number of times that there is a repeated birthday and divide by $M$, we can estimate the probability."
   ]
  },
  {
   "cell_type": "markdown",
   "metadata": {},
   "source": [
    "Sounds like we are going need for loops because we are repeating a lot of steps and if statements because we need to see if birthdays are equal to each other."
   ]
  },
  {
   "cell_type": "markdown",
   "metadata": {},
   "source": [
    "We also need to generate birthdays randomly. That is, generating $N$ random integers between 1 and 365. There are plenty of ways of doing this:"
   ]
  },
  {
   "cell_type": "code",
   "execution_count": 5,
   "metadata": {},
   "outputs": [
    {
     "name": "stdout",
     "output_type": "stream",
     "text": [
      "bday =\n",
      "\n",
      "   219   221   299   184   218   279    72   113    89   214\n",
      "\n"
     ]
    }
   ],
   "source": [
    "clear all\n",
    "N = 10;      %We will generate 10 random numbers between 1 and 365  \n",
    "for i = 1:N\n",
    "   bday(i) = ceil(365*rand);\n",
    "end\n",
    "bday"
   ]
  },
  {
   "cell_type": "markdown",
   "metadata": {},
   "source": [
    "The $365\\times rand$ provides a random number between 0 and 365 (but not a random integer), and the function 'ceil' will round the numbers __up__ to the next integer (which will make 365 possible and not 0, providing a random integer between 1 and 365)"
   ]
  },
  {
   "cell_type": "markdown",
   "metadata": {},
   "source": [
    "We could also use:"
   ]
  },
  {
   "cell_type": "code",
   "execution_count": 12,
   "metadata": {},
   "outputs": [
    {
     "name": "stdout",
     "output_type": "stream",
     "text": [
      "bday =\n",
      "\n",
      "   361   124   142    64   353   255   254   362   272   147\n",
      "\n"
     ]
    }
   ],
   "source": [
    "clear all\n",
    "N = 10;\n",
    "bday=randi(365,1,N)"
   ]
  },
  {
   "cell_type": "markdown",
   "metadata": {},
   "source": [
    "Which generates $1\\times N$ array of random integers between 1 and 365. You may not have seen this function 'randi' before, but the idea is maybe you can search for 'random numbers matlab' and it will give you an idea of what is possible."
   ]
  },
  {
   "cell_type": "markdown",
   "metadata": {},
   "source": [
    "Now that we can generate random numbers we want to be able to compare them to see if __any__ repeat. We don't necessarily have to compare all of the numbers, just compare them __until__ any of them repeat."
   ]
  },
  {
   "cell_type": "code",
   "execution_count": 22,
   "metadata": {},
   "outputs": [
    {
     "name": "stdout",
     "output_type": "stream",
     "text": [
      "bday =\n",
      "\n",
      " Columns 1 through 13:\n",
      "\n",
      "    70    47    52   117   260    62   217   165   240   188     6    96   195\n",
      "\n",
      " Columns 14 through 26:\n",
      "\n",
      "    79   325   297   351    89   348    23   193    78   236   355   348   176\n",
      "\n",
      " Columns 27 through 39:\n",
      "\n",
      "   207    91   325   209    67    59    75   211   289   106   320   298   192\n",
      "\n",
      " Column 40:\n",
      "\n",
      "   193\n",
      "\n",
      "repeat =  1\n"
     ]
    }
   ],
   "source": [
    "clear all\n",
    "N = 40;\n",
    "bday = randi(365,1,N);\n",
    "i = 0;\n",
    "repeat = 0;\n",
    "while (repeat == 0) && (i<N)  % Both repeat =/= 0 and i<N must hold for the while loop to run.\n",
    "    i = i+1;                  % If we didn't have the i<N condition and there are no repeats the while loop doesn't end\n",
    "    for j = i+1:N\n",
    "        if bday(i) == bday(j)%We compare bday(i) with bday(j) and when i=N, we've compared them all, the while loop stops\n",
    "            repeat = 1;      % If at any time there is a repeated element, repeat = 1 and the while loop stops.\n",
    "        end\n",
    "    end\n",
    "end\n",
    "bday\n",
    "repeat\n",
    "%{\n",
    "The variable repeat will only ever be 0 or 1 even if all the randomly generated birthdays are the same\n",
    "as we stop the while loop the moment we find a pair.\n",
    "%}"
   ]
  },
  {
   "cell_type": "markdown",
   "metadata": {},
   "source": [
    "There are other methods, alternatively one can use a combination of the function 'length' and 'unique'"
   ]
  },
  {
   "cell_type": "code",
   "execution_count": 23,
   "metadata": {},
   "outputs": [
    {
     "name": "stdout",
     "output_type": "stream",
     "text": [
      "ans =  8\n"
     ]
    }
   ],
   "source": [
    "a = [1 2 3 3 6 7 8 10];\n",
    "length(a)  % tells you the length of a vector"
   ]
  },
  {
   "cell_type": "code",
   "execution_count": 24,
   "metadata": {},
   "outputs": [
    {
     "name": "stdout",
     "output_type": "stream",
     "text": [
      "ans =\n",
      "\n",
      "    1    2    3    6    7    8   10\n",
      "\n"
     ]
    }
   ],
   "source": [
    "a = [1 2 3 3 6 7 8 10];\n",
    "unique(a)  %gives you the unique elements of a vector"
   ]
  },
  {
   "cell_type": "markdown",
   "metadata": {},
   "source": [
    "And so if the length of bday is longer than the length of unique(bday), there must be repeats:"
   ]
  },
  {
   "cell_type": "code",
   "execution_count": 50,
   "metadata": {},
   "outputs": [
    {
     "name": "stdout",
     "output_type": "stream",
     "text": [
      "bday =\n",
      "\n",
      " Columns 1 through 13:\n",
      "\n",
      "   177   328   237   284   244   273   272   355    25   166   246   246    90\n",
      "\n",
      " Columns 14 through 26:\n",
      "\n",
      "   248    91   225   325   185   264   282   290   340   348   287   142   312\n",
      "\n",
      " Columns 27 through 30:\n",
      "\n",
      "     2    73   160   318\n",
      "\n",
      "repeat =  1\n"
     ]
    }
   ],
   "source": [
    "clear all\n",
    "N = 30;\n",
    "bday = randi(365,1,N);\n",
    "b = length(bday)-length(unique(bday)); %Checks the difference in length between bday and unique bday\n",
    "repeat = 0;\n",
    "if b ~= 0\n",
    "    repeat = 1; %if the length is different, then repat = 1\n",
    "end\n",
    "bday\n",
    "repeat\n",
    "%{\n",
    "This gets the same result as the code above it\n",
    "%}"
   ]
  },
  {
   "cell_type": "markdown",
   "metadata": {},
   "source": [
    "Now we can generate $N$ random numbers between 1 and 365 and check if there are any repeats. To make life easier we can turn this into a function which we will call:"
   ]
  },
  {
   "cell_type": "code",
   "execution_count": 56,
   "metadata": {},
   "outputs": [],
   "source": [
    "function r = repeat(N)     %This function will generate N random numbers between 1 and 365 and output 1 if there are\n",
    "    bday = randi(365,1,N); %repeats and 0 if there are not\n",
    "    b = length(bday)-length(unique(bday)); \n",
    "    r = 0;\n",
    "    if b ~= 0\n",
    "        r = 1;\n",
    "    end\n",
    "end\n",
    "% This is the same code as above but as a function"
   ]
  },
  {
   "cell_type": "markdown",
   "metadata": {},
   "source": [
    "If we keep generating $N$ random numbers between 1 and 365 and everytime there is a repeated element, we add one to some count we can get a probability of the number of times that there is a repeated number."
   ]
  },
  {
   "cell_type": "code",
   "execution_count": 54,
   "metadata": {},
   "outputs": [
    {
     "name": "stdout",
     "output_type": "stream",
     "text": [
      "count =  47\n"
     ]
    }
   ],
   "source": [
    "N = 23;\n",
    "M = 100; \n",
    "count = 0;\n",
    "for i = 1:M\n",
    "    c = repeat(N);% We generate 23 birthdays, 100 times. Each time, we check for repeats\n",
    "    if c ~= 0\n",
    "        count = count+1;     % Everytime there is a repeated birthday count is increased by one.\n",
    "    end                      % This will count how many out of M=100 that there is a repeated birthday\n",
    "end;\n",
    "count"
   ]
  },
  {
   "cell_type": "markdown",
   "metadata": {},
   "source": [
    "This tells us that out of 100 sets of 23 birthdays, 47 sets have a repeated birthday, giving us an approximation of \n",
    "\n",
    "$$\n",
    "P \\approx \\frac{47}{100} = 0.45\n",
    "$$"
   ]
  },
  {
   "cell_type": "markdown",
   "metadata": {},
   "source": [
    "If we go to larger M, we get a better approximation:"
   ]
  },
  {
   "cell_type": "code",
   "execution_count": 55,
   "metadata": {},
   "outputs": [
    {
     "name": "stdout",
     "output_type": "stream",
     "text": [
      "count =  5100\n",
      "P =  0.51000\n"
     ]
    }
   ],
   "source": [
    "N = 23;\n",
    "M = 10000;\n",
    "count = 0;\n",
    "for i = 1:M\n",
    "    c = repeat(N);\n",
    "    if c ~= 0\n",
    "        count = count+1;     \n",
    "    end                     \n",
    "end;\n",
    "count\n",
    "P = count./M\n",
    "%{\n",
    "Same code as before but with M = 10000\n",
    "%}"
   ]
  },
  {
   "cell_type": "markdown",
   "metadata": {},
   "source": [
    "With 23 random birthdays, over half the time, there will be a shared birthday. We can now obviously change $N$ to be any number we want."
   ]
  },
  {
   "cell_type": "markdown",
   "metadata": {},
   "source": [
    "__Challenge 2__: This probability is something you can calculate analytically:\n",
    "\n",
    "\\begin{align}\n",
    "P\\left(\\text{not separate}\\right) =& 1 - P\\left(\\text{separate}\\right) \\\\\n",
    "P\\left(\\text{separate}\\right) =& \\left(1-\\frac{1}{365}\\right)\\left(1 - \\frac{2}{365}\\right)\\cdots\\left(1-\\frac{N-1}{365}\\right)\n",
    "\\end{align}\n",
    "\n",
    "Can you compare your approximations to the analytic solution?"
   ]
  },
  {
   "cell_type": "markdown",
   "metadata": {},
   "source": [
    "We need to be able to calculate the above expression and we can compare our approximations. To calculate our above expression we're going to need a for loop:"
   ]
  },
  {
   "cell_type": "code",
   "execution_count": 58,
   "metadata": {},
   "outputs": [
    {
     "name": "stdout",
     "output_type": "stream",
     "text": [
      "P =  0.50730\n"
     ]
    }
   ],
   "source": [
    "N = 23;\n",
    "P = 1;\n",
    "for i = 1:N-1\n",
    "    P = P.*(1-i./365); %This will calculate the product\n",
    "end\n",
    "P = 1-P                %This gives the actual probability"
   ]
  },
  {
   "cell_type": "markdown",
   "metadata": {},
   "source": [
    "If we place it in a fuction with an input $N$ we can compare the two:"
   ]
  },
  {
   "cell_type": "code",
   "execution_count": 59,
   "metadata": {},
   "outputs": [],
   "source": [
    "function P = Pexact(N)\n",
    "    P = 1;\n",
    "    for i = 1:N-1\n",
    "        P = P.*(1-i./365); %This will calculate the product\n",
    "    end\n",
    "    P = 1-P;\n",
    "end"
   ]
  },
  {
   "cell_type": "markdown",
   "metadata": {},
   "source": [
    "And then a script that will compare the two:"
   ]
  },
  {
   "cell_type": "code",
   "execution_count": 61,
   "metadata": {},
   "outputs": [
    {
     "name": "stdout",
     "output_type": "stream",
     "text": [
      "count =  519\n",
      "P =  0.51900\n",
      "Exact =  0.50730\n"
     ]
    }
   ],
   "source": [
    "N = 23;\n",
    "M = 1000;\n",
    "count = 0;\n",
    "for i = 1:M\n",
    "    c = repeat(N);\n",
    "    if c ~= 0\n",
    "        count = count+1;     \n",
    "    end                     \n",
    "end;\n",
    "count\n",
    "P = count./M\n",
    "% The code from above\n",
    "Exact = Pexact(N)"
   ]
  },
  {
   "cell_type": "markdown",
   "metadata": {},
   "source": [
    "Not a bad approximation, we can go to higher $M$ for a more accurate approximation"
   ]
  },
  {
   "cell_type": "markdown",
   "metadata": {},
   "source": [
    "### Some remarks"
   ]
  },
  {
   "cell_type": "markdown",
   "metadata": {},
   "source": [
    "So this task __seems__ pretty daunting, but there is nothing really new here, we've done for loops, if statements and functions, these were the key elements. The idea is that you do not need to learn all the different Matlab functions that exist and how they, but you need to be aware of what is there and what can be useful. The reason that we are doing these questions is because the hardest part is normally thinking about where to start and what you need. This just takes practice. It is not enough to simply look at this code and be able to reproduce but can you understand it and use the experience to work on the other problems that we will go through?"
   ]
  }
 ],
 "metadata": {
  "kernelspec": {
   "display_name": "Octave",
   "language": "octave",
   "name": "octave"
  },
  "language_info": {
   "file_extension": ".m",
   "help_links": [
    {
     "text": "GNU Octave",
     "url": "https://www.gnu.org/software/octave/support.html"
    },
    {
     "text": "Octave Kernel",
     "url": "https://github.com/Calysto/octave_kernel"
    },
    {
     "text": "MetaKernel Magics",
     "url": "https://github.com/calysto/metakernel/blob/master/metakernel/magics/README.md"
    }
   ],
   "mimetype": "text/x-octave",
   "name": "octave",
   "version": "4.0.0"
  }
 },
 "nbformat": 4,
 "nbformat_minor": 2
}
