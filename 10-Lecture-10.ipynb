{
 "cells": [
  {
   "cell_type": "markdown",
   "metadata": {},
   "source": [
    "# AM10IM - Introduction to Matlab"
   ]
  },
  {
   "cell_type": "markdown",
   "metadata": {},
   "source": [
    "## Lecture 10 - Linear Systems"
   ]
  },
  {
   "cell_type": "markdown",
   "metadata": {},
   "source": [
    "Consider the set of simultaneous equations:\n",
    "\n",
    "\\begin{align*}\n",
    "2x + y =& 0 \\\\\n",
    "2x + 3y =& 4\n",
    "\\end{align*}\n",
    "\n",
    "It has the solution $x = -1$, $y = 2$. Normally you'd have to add or take away some multiple of one equation from another. When you start dealing with three it starts getting very complicated.\n",
    "\n",
    "Not anymore! If we write this equation in matrix form:\n",
    "\n",
    "\\begin{align*}\n",
    "\\begin{pmatrix}\n",
    "2 & 1 \\\\ 2 & -3\n",
    "\\end{pmatrix}\n",
    "\\begin{pmatrix}\n",
    "x \\\\ y\n",
    "\\end{pmatrix} =& \n",
    "\\begin{pmatrix}\n",
    "0 \\\\ 4\n",
    "\\end{pmatrix} \\\\\n",
    "\\mathbf{A}\\cdot\\mathbf{x} =& \\mathbf {b}\n",
    "\\end{align*}\n",
    "Matlab can solve these linear systems automatically using the backslash command:"
   ]
  },
  {
   "cell_type": "code",
   "execution_count": 26,
   "metadata": {},
   "outputs": [
    {
     "name": "stdout",
     "output_type": "stream",
     "text": [
      "A =\n",
      "\n",
      "   2   1\n",
      "   2   3\n",
      "\n",
      "b =\n",
      "\n",
      "   0\n",
      "   4\n",
      "\n",
      "x =\n",
      "\n",
      "  -1\n",
      "   2\n",
      "\n"
     ]
    }
   ],
   "source": [
    "A = [2 1; 2 3]\n",
    "b = [0 4]'\n",
    "x = A\\b"
   ]
  },
  {
   "cell_type": "markdown",
   "metadata": {},
   "source": [
    "Which is great when your systems start to get huge! Consider the following linear system:"
   ]
  },
  {
   "cell_type": "markdown",
   "metadata": {},
   "source": [
    "\\begin{align}\n",
    "x + y -2z + w + 3u - v  =& 4\\\\\n",
    "2x - y +z + 2w + u - 3v =& 20\\\\\n",
    "x + 3y - 3z-w + 2u + v =& -15 \\\\\n",
    "5x + 2y - z - w + 2u +v =& -3 \\\\\n",
    "-3x - y + 2z + 3w + u + 3v =& 16 \\\\\n",
    "4x + 3y + z -6w - 3u - 2v =& -27\n",
    "\\end{align}\n",
    "\n",
    "Pretty tough by hand, but matlab will solve it straight away:"
   ]
  },
  {
   "cell_type": "code",
   "execution_count": 37,
   "metadata": {},
   "outputs": [
    {
     "name": "stdout",
     "output_type": "stream",
     "text": [
      "A =\n",
      "\n",
      "   1   1  -2   1   3  -1\n",
      "   2  -1   1   2   1  -3\n",
      "   1   3  -3  -1   2   1\n",
      "   5   2  -1  -1   2   1\n",
      "  -3  -1   2   3   1   3\n",
      "   4   3   1  -6  -3  -2\n",
      "\n",
      "b =\n",
      "\n",
      "    4\n",
      "   20\n",
      "  -15\n",
      "   -3\n",
      "   16\n",
      "  -27\n",
      "\n",
      "x =\n",
      "\n",
      "   1.00000\n",
      "  -2.00000\n",
      "   3.00000\n",
      "   4.00000\n",
      "   2.00000\n",
      "  -1.00000\n",
      "\n"
     ]
    }
   ],
   "source": [
    "A = [1 1 -2 1 3 -1;\n",
    "     2 -1 1 2 1 -3;\n",
    "     1 3 -3 -1 2 1;\n",
    "     5 2 -1 -1 2 1;\n",
    "     -3 -1 2 3 1 3;\n",
    "     4 3 1 -6 -3 -2]\n",
    "b = [4 20 -15 -3 16 -27]'\n",
    "x = A\\b"
   ]
  },
  {
   "cell_type": "markdown",
   "metadata": {},
   "source": [
    "Notice that $\\mathbf{b}$ must be a __column__ vector"
   ]
  },
  {
   "cell_type": "markdown",
   "metadata": {},
   "source": [
    "We can invert matrices:"
   ]
  },
  {
   "cell_type": "code",
   "execution_count": 38,
   "metadata": {},
   "outputs": [
    {
     "name": "stdout",
     "output_type": "stream",
     "text": [
      "ans =\n",
      "\n",
      "  -0.3028169   0.1549296   0.0845070   0.1971831  -0.1056338  -0.0985915\n",
      "  -0.5492958   0.5446009   0.8122066  -0.2159624   0.2347418   0.1079812\n",
      "   0.3309859  -0.0375587  -0.2629108  -0.0023474   0.3286385   0.2511737\n",
      "  -0.9154930   0.6854460   0.7981221  -0.0821596   0.0023474  -0.2089202\n",
      "   1.0915493  -0.5352113  -0.7464789   0.0915493   0.1830986   0.2042254\n",
      "  -0.1549296  -0.1455399  -0.0187793   0.1784038   0.0234742  -0.0892019\n",
      "\n"
     ]
    }
   ],
   "source": [
    "inv(A)"
   ]
  },
  {
   "cell_type": "markdown",
   "metadata": {},
   "source": [
    "And we can find their determinants:"
   ]
  },
  {
   "cell_type": "code",
   "execution_count": 39,
   "metadata": {},
   "outputs": [
    {
     "name": "stdout",
     "output_type": "stream",
     "text": [
      "ans = -852.00\n"
     ]
    }
   ],
   "source": [
    "det(A)"
   ]
  }
 ],
 "metadata": {
  "kernelspec": {
   "display_name": "Octave",
   "language": "octave",
   "name": "octave"
  },
  "language_info": {
   "file_extension": ".m",
   "help_links": [
    {
     "text": "GNU Octave",
     "url": "https://www.gnu.org/software/octave/support.html"
    },
    {
     "text": "Octave Kernel",
     "url": "https://github.com/Calysto/octave_kernel"
    },
    {
     "text": "MetaKernel Magics",
     "url": "https://github.com/calysto/metakernel/blob/master/metakernel/magics/README.md"
    }
   ],
   "mimetype": "text/x-octave",
   "name": "octave",
   "version": "4.0.0"
  }
 },
 "nbformat": 4,
 "nbformat_minor": 2
}
