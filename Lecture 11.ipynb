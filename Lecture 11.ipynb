{
 "cells": [
  {
   "cell_type": "markdown",
   "metadata": {},
   "source": [
    "# AM10IM - Introduction to Matlab"
   ]
  },
  {
   "cell_type": "markdown",
   "metadata": {},
   "source": [
    "## Lecture 11 - Revision and tips."
   ]
  },
  {
   "cell_type": "markdown",
   "metadata": {},
   "source": [
    "### 11.1 General Revision tips"
   ]
  },
  {
   "cell_type": "markdown",
   "metadata": {},
   "source": [
    "Revision for this exam is not going to be like the other maths exams you are doing in January. Perhaps for your other maths exams a lot of you will study by learning the main concepts, learning proofs (perhaps by heart without fully understanding them) and perform the standard problems that you have seen and are expecting. A lot of you may even resort to just cramming without understanding.\n",
    "\n",
    "This exam will be different. There are no standard problems and there are no standard proofs. We have techniques, and you can only learn techniques through understanding them. Cramming them and trying to remember them through simple recall cannot work. If you have incorrectly memorised code (which you probably will) and the code doesn't work you are stuck trying to understand with no help, in an exam environment.\n",
    "\n",
    "The __best__ way one can prepare for this exam is to __understand__ the concepts that we have introduced in this course and __attempt__ as many problems as possible. Nothing will prepare you more than attempting problems that you don't have an answer to.\n",
    "\n",
    "The lecture notes and lecture challenges are very useful but it will be very tempting to look at the solutions before you have properly attempted it.\n",
    "\n",
    "My revision tips are:\n",
    "1.  Do not learn code, understand it. With understanding comes the ability to use it.\n",
    "2.  Practice.\n",
    "\n",
    "There are plent of resources on blackboard, not just the lecture challenges and tutorials. If you want to practice fundamental coding, the Matlab Onramp course available through the blackboard link 'Online Matlab Courses' is a good place to start. For more significant problems one can try the Matlab Cody and then Project Euler, both are links on the learning resources page."
   ]
  },
  {
   "cell_type": "markdown",
   "metadata": {},
   "source": [
    "### 11.2 Revision Checklist."
   ]
  },
  {
   "cell_type": "markdown",
   "metadata": {},
   "source": [
    "The key concepts that we covered in this course are, but not limited to:\n",
    "\n",
    "-  Use of the command window: can you run scripts, call functions (pre-defined and user defined) do basic mathematical operations.\n",
    "\n",
    "  -  Important commands:  round(X), ceil(X), mod(a,b)\n",
    "  \n",
    "\n",
    "-  Arrays: Can you create a row vector, a column vector, can you transpose an array? Can you specify separate elements? Can you specifiy separate columns or rows? Can you create vectors with equally spaced elements?\n",
    "\n",
    "  -  Important commands: The difference between '$\\mbox{*}$' and '$\\mbox{.*}$' commands with arrays. [array multiplication and element-wise multiplication]. Also important: size(X), length(X), \n",
    "  \n",
    "\n",
    "-  Functions: Function names must be the same as what they are saved as. Annonymous functions are created using the handle @.\n",
    "\n",
    "\n",
    "-  Plot: Two equally sized vectors in plot(X,Y). fplot plots a __function__ (normal or annonymous) over a given domain.\n",
    "\n",
    "\n",
    "-  Logical expressions and Booleans: greater than, less than, equal to, not equal to. Can you use logical expressions to index arrays? \n",
    "\n",
    "\n",
    "-  If statements. Do you understand the structure? Do you know when to use if, elseif and else? Do you know when to use nested if statements? Part of the key to understanding if statements is understanding the logical expression that must be met for it to occur.\n",
    "\n",
    "   -  We did a lot of work on prime numbers with inbuilt functions like isprime(X), primes(N).\n",
    "\n",
    "\n",
    "-  For loops. Do you understand the structure? Do you know how to do a summation with for loops? Do you know how to count with for loops? Do you know why they have to be initialsised? Can you use them with if statements? Do you know when to use nested foor loops? Can you create arrays with for loops?\n",
    "\n",
    "\n",
    "-  Strings. Can you specify different elements? Can you remove spaces? Can you change a specific letter in a string to something else? Can you put two strings together?\n",
    "\n",
    "   -  Important commands: ispace(A),strcmp('text','text')\n",
    " \n",
    " \n",
    "-  Reading and Writing to files. Can you use fopen, do you understand the different permissions that one must use? Can you use fprintf when writing to a file (it's different to normal printing to the command line, can you use fscanf when reading a file, with the different format specifications?\n",
    "\n",
    "\n",
    "-  Linear Systems. Can you find the deteminant of a matrix? Can you solve a set of linear, simultaneous equations?\n",
    "  \n",
    "   -  Important equations: det(X), A\\b."
   ]
  },
  {
   "cell_type": "markdown",
   "metadata": {},
   "source": [
    "#### The above list is not a definitive list, it is simply there to __aid__ your revision."
   ]
  },
  {
   "cell_type": "markdown",
   "metadata": {},
   "source": [
    "### 11.3 Exam Information."
   ]
  },
  {
   "cell_type": "markdown",
   "metadata": {},
   "source": [
    "Finally some information about your exam:"
   ]
  },
  {
   "cell_type": "markdown",
   "metadata": {},
   "source": [
    "-  You will not have access to the internet during the exam, nor will you have access to your normal H drive (where you have saved all of your MATLAB work. There will be a clear folder to save all your work in. The computer you will have been assigned will already have you logged in.\n",
    "\n",
    "\n",
    "-  You will have to answer 3 out of 4 questions, of which the best 3 will be marked.\n",
    "\n",
    "\n",
    "-  You will have access to the 'help', 'doc' and 'lookfor' commands, so __get used to using them__ they will be your only aid during the exam.\n",
    "\n",
    "\n",
    "-  You will be marked on how well you answer the question, how well the code runs and the clarity of your code (make sure to comment throughout your code)."
   ]
  }
 ],
 "metadata": {
  "kernelspec": {
   "display_name": "Octave",
   "language": "octave",
   "name": "octave"
  },
  "language_info": {
   "file_extension": ".m",
   "help_links": [
    {
     "text": "GNU Octave",
     "url": "https://www.gnu.org/software/octave/support.html"
    },
    {
     "text": "Octave Kernel",
     "url": "https://github.com/Calysto/octave_kernel"
    },
    {
     "text": "MetaKernel Magics",
     "url": "https://github.com/calysto/metakernel/blob/master/metakernel/magics/README.md"
    }
   ],
   "mimetype": "text/x-octave",
   "name": "octave",
   "version": "4.0.0"
  }
 },
 "nbformat": 4,
 "nbformat_minor": 2
}
