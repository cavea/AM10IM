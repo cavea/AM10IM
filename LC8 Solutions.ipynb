{
 "cells": [
  {
   "cell_type": "markdown",
   "metadata": {},
   "source": [
    "# AM10IM - Introduction to Matlab"
   ]
  },
  {
   "cell_type": "markdown",
   "metadata": {},
   "source": [
    "## Lecture Challenge 8 Solutions"
   ]
  },
  {
   "cell_type": "markdown",
   "metadata": {},
   "source": [
    "__Challenge 1__: Given the below DNA string can you return four integers that counting the respective number of times that the symbols 'A', 'C', 'G', and 'T' occur in $s$."
   ]
  },
  {
   "cell_type": "code",
   "execution_count": 1,
   "metadata": {},
   "outputs": [],
   "source": [
    "s = 'AGCTTTTCATTCTGACTGCAACGGGCAATATGTCTCTGTGTGGATTAAAAAAAGAGTGTCTGATAGCAGC';\n"
   ]
  },
  {
   "cell_type": "code",
   "execution_count": 9,
   "metadata": {},
   "outputs": [
    {
     "name": "stdout",
     "output_type": "stream",
     "text": [
      "The number of Adenine bases: 20 \n",
      "The number of Guanine bases: 17 \n",
      "The number of Cytosine bases: 12 \n",
      "The number of Thymine bases: 21 \n"
     ]
    }
   ],
   "source": [
    "n = length(s); %This will tell us how many times the for loop will run for.\n",
    "suma = 0;\n",
    "sumg = 0;      % These will sum a,c,g and t\n",
    "sumc = 0;\n",
    "sumt = 0;\n",
    "for i = 1:n\n",
    "    suma = suma + strcmp(s(i),'A'); %This will add 1 if s(i)='A' and 0 if it does not.\n",
    "    sumg = sumg + strcmp(s(i),'G');\n",
    "    sumc = sumc + strcmp(s(i),'C');\n",
    "    sumt = sumt + strcmp(s(i),'T');\n",
    "end\n",
    "fprintf('The number of Adenine bases: %.0f \\n', suma)\n",
    "fprintf('The number of Guanine bases: %.0f \\n', sumg)\n",
    "fprintf('The number of Cytosine bases: %.0f \\n', sumc)\n",
    "fprintf('The number of Thymine bases: %.0f \\n', sumt)"
   ]
  },
  {
   "cell_type": "markdown",
   "metadata": {},
   "source": [
    "One could also use if statements inside the for loop:"
   ]
  },
  {
   "cell_type": "code",
   "execution_count": 16,
   "metadata": {},
   "outputs": [
    {
     "name": "stdout",
     "output_type": "stream",
     "text": [
      "The number of Adenine bases: 20 \n",
      "The number of Guanine bases: 17 \n",
      "The number of Cytosine bases: 12 \n",
      "The number of Thymine bases: 21 \n"
     ]
    }
   ],
   "source": [
    "suma = 0;\n",
    "sumg = 0;\n",
    "sumc = 0;\n",
    "sumt = 0;\n",
    "for i = 1:n\n",
    "    if s(i) == 'A'\n",
    "        suma = suma + 1;\n",
    "    elseif s(i) == 'G'\n",
    "        sumg = sumg + 1;\n",
    "    elseif s(i) == 'C'\n",
    "        sumc = sumc + 1;\n",
    "    else          %Why isn't this another elseif statement?\n",
    "        sumt = sumt + 1;\n",
    "    end\n",
    "end\n",
    "fprintf('The number of Adenine bases: %.0f \\n', suma)\n",
    "fprintf('The number of Guanine bases: %.0f \\n', sumg)\n",
    "fprintf('The number of Cytosine bases: %.0f \\n', sumc)\n",
    "fprintf('The number of Thymine bases: %.0f \\n', sumt)"
   ]
  },
  {
   "cell_type": "markdown",
   "metadata": {},
   "source": [
    "__Challenge 2:__  In DNA strings, symbols 'A' and 'T' are complements of each other, as are 'C' and 'G'.\n",
    "\n",
    "The reverse complement of a DNA string $s$ is formed by reversing the symbols of $s$, then taking the complement of each symbol (e.g., the reverse complement of \"GTCA\" is \"TGAC\"). Given the above $s$, can you find its reverse complement?"
   ]
  },
  {
   "cell_type": "code",
   "execution_count": 45,
   "metadata": {},
   "outputs": [
    {
     "name": "stdout",
     "output_type": "stream",
     "text": [
      "The reverse complement of s is:\n",
      " GCTGCTATCAGACACTCTTTTTTTAATCCACACAGAGACATATTGCCCGTTGCAGTCAGAATGAAAAGCT\n"
     ]
    }
   ],
   "source": [
    "for i = 1:n\n",
    "    if s(i) == 'A'\n",
    "        rev(n-i+1) = 'T';     % The n-i+1 ensures that the complement is reversed.\n",
    "    elseif s(i) == 'G'\n",
    "        rev(n-i+1) = 'C';\n",
    "    elseif s(i) == 'C'\n",
    "        rev(n-i+1) = 'G';\n",
    "    else\n",
    "        rev(n-i+1) = 'A';\n",
    "    end\n",
    "end\n",
    "fprintf('The reverse complement of s is:\\n %s\\n',rev)"
   ]
  },
  {
   "cell_type": "markdown",
   "metadata": {},
   "source": [
    "__Challenge 3__: The GC-content of a DNA string is given by the percentage of symbols in the string that are 'C' or 'G'. For example, the GC-content of \"AGCTATAG\" is 37.5%. Find the GC-content of the above $s$"
   ]
  },
  {
   "cell_type": "code",
   "execution_count": 60,
   "metadata": {},
   "outputs": [
    {
     "name": "stdout",
     "output_type": "stream",
     "text": [
      "The GC content of s is 41.4% \n"
     ]
    }
   ],
   "source": [
    "GC = 0;\n",
    "for i = 1:n\n",
    "    GC = GC + strcmp(s(i),'G')+strcmp(s(i),'C');\n",
    "end\n",
    "content = (GC./n)*100;\n",
    "fprintf('The GC content of s is %.1f%% \\n',content) %The double percent sign prints a single percent sign"
   ]
  },
  {
   "cell_type": "code",
   "execution_count": null,
   "metadata": {},
   "outputs": [],
   "source": []
  }
 ],
 "metadata": {
  "kernelspec": {
   "display_name": "Octave",
   "language": "octave",
   "name": "octave"
  },
  "language_info": {
   "file_extension": ".m",
   "help_links": [
    {
     "text": "GNU Octave",
     "url": "https://www.gnu.org/software/octave/support.html"
    },
    {
     "text": "Octave Kernel",
     "url": "https://github.com/Calysto/octave_kernel"
    },
    {
     "text": "MetaKernel Magics",
     "url": "https://github.com/calysto/metakernel/blob/master/metakernel/magics/README.md"
    }
   ],
   "mimetype": "text/x-octave",
   "name": "octave",
   "version": "4.0.0"
  }
 },
 "nbformat": 4,
 "nbformat_minor": 2
}
