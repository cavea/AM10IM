{
 "cells": [
  {
   "cell_type": "markdown",
   "metadata": {},
   "source": [
    "# AM10IM - Introduction to Matlab"
   ]
  },
  {
   "cell_type": "markdown",
   "metadata": {},
   "source": [
    "## Lecture Challenge 3 - Exoplanets!"
   ]
  },
  {
   "cell_type": "markdown",
   "metadata": {},
   "source": [
    "This challenge may seem pretty intense, however it is nothing more than the array manipulation and the logical expressions that we have dealt with in the last lecture."
   ]
  },
  {
   "cell_type": "markdown",
   "metadata": {},
   "source": [
    "There are 3823 confirmed exoplanets (planets outside our solar system), with loads of interesting properties that make them all worthy of study. But the real question is 'which ones are habitable?' Below is a list of data that are possible habitable planets."
   ]
  },
  {
   "cell_type": "code",
   "execution_count": 22,
   "metadata": {},
   "outputs": [],
   "source": [
    "EXO = [1.3 1.1 0.65 234 11.186 4.22;\n",
    "3.8 1.5 0.88 277 28.143 23.62;\n",
    "2.3 1.34 0.70 233 112.3053 1291.6;\n",
    "4.7 1.50 1.11 265 384.8 1402;\n",
    "4.3 1.6 0.60 223 17.9 13.8;\n",
    "2.7 1.4 0.49 213 86.8 769;\n",
    "4.8 1.6 0.43 205 48.6 13;\n",
    "2.8 1.41 0.39 244 267.291 1200;\n",
    "4.7 1.17 0.29 188 129.9459 561;\n",
    "2.89 1.5 1.06 206 18.650 12.36;\n",
    "0.30 0.78 1.04 258 4.05 39;\n",
    "0.77 0.91 0.67 230 6.1 39;\n",
    "0.93 1.046 0.38 200 9.2 39;\n",
    "1.15 1.15 0.26 182 12.4 39;\n",
    "6.6 1.43 0.46 230 25 40;\n",
    "6 1.60 1.17 304 259.365 2491.83;];"
   ]
  },
  {
   "cell_type": "markdown",
   "metadata": {},
   "source": [
    "These are clearly just numbers in a large array, but the label of each __column__ is:"
   ]
  },
  {
   "cell_type": "code",
   "execution_count": null,
   "metadata": {},
   "outputs": [],
   "source": [
    "%{Mass (in units of Earth's mass)\n",
    "Radius (in units of Earth's radius)\n",
    "Flux (in units of Earth's flux)\n",
    "Equilibrium Temperature (in Kelvin)\n",
    "Period of one orbit of the star (in days)\n",
    "Distance from Earth (in light years)\n",
    "}%"
   ]
  },
  {
   "cell_type": "markdown",
   "metadata": {},
   "source": [
    "Something measured in terms of the Earth's value means that say if an object is twice the mass of Earth, its value in the array is 2. Flux is the amount of light received from the star it orbits. Again if something received twice as much light than Earth, the number its number in the array is 2."
   ]
  },
  {
   "cell_type": "markdown",
   "metadata": {},
   "source": [
    "Ok keep your head, its not great seeing loads of numbers, but they are just numbers."
   ]
  },
  {
   "cell_type": "markdown",
   "metadata": {},
   "source": [
    "__Challenge 1__ The third row is the data for the planet Kepler-442b, can you show just that row?"
   ]
  },
  {
   "cell_type": "code",
   "execution_count": null,
   "metadata": {},
   "outputs": [],
   "source": [
    "%% Challenge 1: Show the data for Kepler-442b"
   ]
  },
  {
   "cell_type": "markdown",
   "metadata": {},
   "source": [
    "__Challenge 2__ The flux of a planet is likely to influence its equilibrium temperature, Can you plot the exoplanets flux against its temperature?"
   ]
  },
  {
   "cell_type": "code",
   "execution_count": 13,
   "metadata": {},
   "outputs": [],
   "source": [
    "%% Challenge 2: Plot the flux against temperature.\n"
   ]
  },
  {
   "cell_type": "markdown",
   "metadata": {},
   "source": [
    "Now this is not data that should be joined up! It should be a scatter plot, so you need to get rid of the lines. With plot you can use:"
   ]
  },
  {
   "cell_type": "code",
   "execution_count": null,
   "metadata": {},
   "outputs": [],
   "source": [
    "plot(X1,Y1,'options for X1vY1',X2,Y2,'options for X2vY2')\n",
    "%Plots x1 v y1 and x2 v y2 on the same graph"
   ]
  },
  {
   "cell_type": "markdown",
   "metadata": {},
   "source": [
    "These options tell matlab how you want to present the data:"
   ]
  },
  {
   "cell_type": "code",
   "execution_count": null,
   "metadata": {},
   "outputs": [],
   "source": [
    "'-' %a single line joining every point (default)\n",
    "'--' % a dashed line\n",
    "':' % a dotted line\n",
    "':-' % a dotted and dashed line\n",
    "'*' % every point is a star\n",
    "'s' % every point is a square\n",
    "% One can also change the colour of the graph:\n",
    "'b' %blue\n",
    "'k' %black\n",
    "'r' %red\n",
    "'g' %green\n",
    "'y' %yellow\n",
    "'c' %cyan\n",
    "'m' %magenta.\n",
    "% And of course you can compound them:\n",
    "plot(X1,Y1,'-*k') % plots X1 v Y1 with a black line between the data points that are presented as black squares"
   ]
  },
  {
   "cell_type": "markdown",
   "metadata": {},
   "source": [
    "Can you also plot the point for Earth? The data for Earth is (1.0, 255), Can you highlight it in a different colour?"
   ]
  },
  {
   "cell_type": "markdown",
   "metadata": {},
   "source": [
    "__Challenge 3__ One important data point is the strength of gravity on the surface of the exoplanet. Using the formula \n",
    "\n",
    "\n",
    "$$\n",
    "G_{rel} = \\frac{M_{rel}}{R_{rel}^2}\n",
    "$$\n",
    "\n",
    "\n",
    "for the relative strength of gravity (compared to the Earth) can you find the relative gravitational strength of each exoplanet, add it as another column to the data EXO and plot it?"
   ]
  },
  {
   "cell_type": "code",
   "execution_count": null,
   "metadata": {},
   "outputs": [],
   "source": [
    "%%% Challenge 3 Find the relative gravitational strength of each exoplanet and plot the data.\n",
    "%% [The x-axis here doesn't really matter we just want to look at the different numbers]\n"
   ]
  },
  {
   "cell_type": "markdown",
   "metadata": {},
   "source": [
    "__Challenge 4__ It is unlikely that we will be able to travel great distances to these exoplanets, can you create a new array that excludes exoplanets greater than 50 light years?"
   ]
  },
  {
   "cell_type": "code",
   "execution_count": 1,
   "metadata": {},
   "outputs": [],
   "source": [
    "%%Challenge 4: Create a new array called EXO1 that contains the data for those less than 50 ly away\n"
   ]
  },
  {
   "cell_type": "markdown",
   "metadata": {},
   "source": [
    "__Challenge 5__ Ok, so let's work out the most optimum planet. Can you find the following expression for each planet and add it to the end of the array EXO1.\n",
    "\n",
    "$$\n",
    "\\text{Optimum} = \\lvert G_{rel}-1\\rvert + \\lvert \\text{Flux}_{rel}-1\\rvert + \\frac{\\lvert\\text{Temp} - 255\\rvert}{255} + \\frac{\\lvert\\text{Period} - 365\\rvert}{365}\n",
    "$$\n",
    "\n",
    "Now plot that last column and show the data for the most optimum planet."
   ]
  },
  {
   "cell_type": "code",
   "execution_count": 2,
   "metadata": {},
   "outputs": [],
   "source": [
    "%% Challenge 5 find the optimum planet, you may find the function abs(x) useful, it calculates the absolute value of x"
   ]
  },
  {
   "cell_type": "markdown",
   "metadata": {},
   "source": [
    "For more info see https://en.wikipedia.org/wiki/List_of_potentially_habitable_exoplanets"
   ]
  }
 ],
 "metadata": {
  "kernelspec": {
   "display_name": "Octave",
   "language": "octave",
   "name": "octave"
  },
  "language_info": {
   "file_extension": ".m",
   "help_links": [
    {
     "text": "GNU Octave",
     "url": "https://www.gnu.org/software/octave/support.html"
    },
    {
     "text": "Octave Kernel",
     "url": "https://github.com/Calysto/octave_kernel"
    },
    {
     "text": "MetaKernel Magics",
     "url": "https://github.com/calysto/metakernel/blob/master/metakernel/magics/README.md"
    }
   ],
   "mimetype": "text/x-octave",
   "name": "octave",
   "version": "4.0.0"
  }
 },
 "nbformat": 4,
 "nbformat_minor": 2
}
