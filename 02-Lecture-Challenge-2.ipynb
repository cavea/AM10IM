{
 "cells": [
  {
   "cell_type": "markdown",
   "metadata": {},
   "source": [
    "# AM10IM - Introduction to Matlab"
   ]
  },
  {
   "cell_type": "markdown",
   "metadata": {},
   "source": [
    "## Lecture Challenge 2 - If statements and arrays"
   ]
  },
  {
   "cell_type": "markdown",
   "metadata": {},
   "source": [
    "We are going to look at the using if statements and arrays using a real world example"
   ]
  },
  {
   "cell_type": "markdown",
   "metadata": {},
   "source": [
    "### Weighted Medal Scores"
   ]
  },
  {
   "cell_type": "markdown",
   "metadata": {},
   "source": [
    "In the Olympics medal tables are usually ranked according to the number of gold medals a team has won. But what if the number of golds are equal? Do you compare silver then bronze? Or do you compare total number of medals? How many bronze medals are equivalent to a gold?"
   ]
  },
  {
   "cell_type": "markdown",
   "metadata": {},
   "source": [
    "We are going to look at different scoring systems and see how each country compared in the 2008 olympics."
   ]
  },
  {
   "cell_type": "code",
   "execution_count": 2,
   "metadata": {},
   "outputs": [],
   "source": [
    "%Country = [G S B]\n",
    "US = [36 39 37]; %USA medals\n",
    "GB = [19 13 19]; %Great Britain\n",
    "CH = [48 22 30]; %China\n",
    "RU = [24 13 23]; %Russia"
   ]
  },
  {
   "cell_type": "code",
   "execution_count": 3,
   "metadata": {},
   "outputs": [],
   "source": [
    "%Weighting [G S B]\n",
    "W1 = [3 2 1]; % Simple point system\n",
    "W2 = [4 2 1]; % New York Times point system\n",
    "W3 = [5 3 1]; % 1908 London point system"
   ]
  },
  {
   "cell_type": "markdown",
   "metadata": {},
   "source": [
    "__Challenge 1__ Using these different weights, can you find the score for each country for each different point system?\n",
    "(It might be helpful to first evaluate the medals and the weighting as the notebook hasn't evaluated any code when you open it)"
   ]
  },
  {
   "cell_type": "code",
   "execution_count": 4,
   "metadata": {},
   "outputs": [
    {
     "name": "stdout",
     "output_type": "stream",
     "text": [
      "error: operator *: nonconformant arguments (op1 is 1x3, op2 is 1x3)\n"
     ]
    }
   ],
   "source": [
    "%%Challenge 1\n",
    "%You may find * useful, as it will calculate the dot product\n",
    "%but MatLab can't handle the multiplication of two row vectors.\n",
    "%What needs to change?\n",
    "US1 = US*W1\n",
    "\n"
   ]
  },
  {
   "cell_type": "markdown",
   "metadata": {},
   "source": [
    "__Challenge 2__ Using If statements, can you find which team came first and which team came last in each point system?"
   ]
  },
  {
   "cell_type": "code",
   "execution_count": null,
   "metadata": {},
   "outputs": [],
   "source": [
    "%% Challenge 2\n",
    "%% If you want many logical expressions to be true, MatLab can use\n",
    "%% the &&(AND) expression:\n",
    "if (US1 > CH1) && (US1 > RU1) % etc\n",
    "    %% code\n",
    "end\n"
   ]
  },
  {
   "cell_type": "markdown",
   "metadata": {},
   "source": [
    "__Challenge 3__ Can you now __rank__ the teams in order of highest to lowest points in each point system?"
   ]
  },
  {
   "cell_type": "code",
   "execution_count": null,
   "metadata": {},
   "outputs": [],
   "source": [
    "%% Challenge 3\n",
    "%% You can NEST if statements!\n",
    "\n",
    "if (US1 > CH1) && (US1 > RU1) % etc\n",
    "    USR1 = 1 %% US Ranking according to first point system\n",
    "    if (CH1 > RU1) && (CH1 >GB ) % etc\n",
    "        CHR1 = 2\n",
    "    elseif (GB1 > CH1) && (GB1 > RU1)\n",
    "    .\n",
    "    .\n",
    "    .\n",
    "    end\n",
    "end\n",
    "\n",
    "\n"
   ]
  },
  {
   "cell_type": "code",
   "execution_count": 14,
   "metadata": {},
   "outputs": [
    {
     "name": "stdout",
     "output_type": "stream",
     "text": [
      "Both are 0 \n"
     ]
    }
   ],
   "source": [
    "% You can nest if statements inside other if statements\n",
    "% if you require it. They will only 'switch on' if the if statement\n",
    "% it is nested inside is 'switched on'\n",
    "\n",
    "%Consider testing whether a and b are one or zero. Can you follow\n",
    "% the logic of this if statement?\n",
    "a = 0;\n",
    "b = 0;\n",
    "\n",
    "if (a==1)\n",
    "    if (b==1)\n",
    "        fprintf('Both a and b are 1 \\n')\n",
    "    else\n",
    "        fprintf('Only a is 1 \\n')\n",
    "    end\n",
    "elseif (a==0)\n",
    "    if (b==1)\n",
    "        fprintf('Only b is 1 \\n')\n",
    "    else\n",
    "        fprintf('Both are 0 \\n')\n",
    "    end\n",
    "end\n",
    "\n",
    "% Notice that to make everything look *nice* I've indented nested\n",
    "% ifs so that I can see what is going on, this is generally pretty\n",
    "% good practice."
   ]
  }
 ],
 "metadata": {
  "kernelspec": {
   "display_name": "Octave",
   "language": "octave",
   "name": "octave"
  },
  "language_info": {
   "file_extension": ".m",
   "help_links": [
    {
     "text": "GNU Octave",
     "url": "https://www.gnu.org/software/octave/support.html"
    },
    {
     "text": "Octave Kernel",
     "url": "https://github.com/Calysto/octave_kernel"
    },
    {
     "text": "MetaKernel Magics",
     "url": "https://github.com/calysto/metakernel/blob/master/metakernel/magics/README.md"
    }
   ],
   "mimetype": "text/x-octave",
   "name": "octave",
   "version": "4.0.0"
  }
 },
 "nbformat": 4,
 "nbformat_minor": 2
}
