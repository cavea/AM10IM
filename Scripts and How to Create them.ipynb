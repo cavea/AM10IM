{
 "cells": [
  {
   "cell_type": "markdown",
   "metadata": {},
   "source": [
    "# AM10IM - Introduction to Matlab"
   ]
  },
  {
   "cell_type": "markdown",
   "metadata": {},
   "source": [
    "## Lecture Supplementary - What are .m files and how to create them"
   ]
  },
  {
   "cell_type": "markdown",
   "metadata": {},
   "source": [
    "After Lecture 2 we are going to be using scripts and functions. They are used in different ways but both are .m files.\n",
    "\n",
    "We create these files by selecting \"New Script\" as seen below. If you are using MatLab online you will be prompted to enter a file name, it must be of the form:\n",
    "\n",
    "_Name.m_\n",
    "\n",
    "If you are using University computers it __MUST__ be saved in you H: drive. You might be able to find it via MyComputer, otherwise it gets deleted once you log off. I recommend creating a MatLab folder in this drive as you will be creating a lot of scripts"
   ]
  },
  {
   "cell_type": "markdown",
   "metadata": {},
   "source": [
    "![img](img/NewFiles.jpg)"
   ]
  },
  {
   "cell_type": "markdown",
   "metadata": {},
   "source": [
    "Scripts will allow us to write longer code which is not easily permitted by the command line. Once you create a script and save it, you are able to __call__ it on the command line. MatLab will then execute the code. Try it, create a script call it _Test.m_ type in: "
   ]
  },
  {
   "cell_type": "code",
   "execution_count": 1,
   "metadata": {},
   "outputs": [
    {
     "name": "stdout",
     "output_type": "stream",
     "text": [
      "k =  3\n"
     ]
    }
   ],
   "source": [
    "k = 1+2"
   ]
  },
  {
   "cell_type": "markdown",
   "metadata": {},
   "source": [
    "Go to the command line and write:"
   ]
  },
  {
   "cell_type": "code",
   "execution_count": null,
   "metadata": {},
   "outputs": [],
   "source": [
    "Test"
   ]
  },
  {
   "cell_type": "markdown",
   "metadata": {},
   "source": [
    "And it should give you k=3. One thing that you must be aware of, as illustrated in the above picture, the command line executes code in a specific folder (see the blue ring). To call the script, you must be in the folder the script is saved in. To change the folder you are currently in you can use the left window. This is why it's good to have a folder called Matlab where you can keep all your scripts so that you are not changing folders all the time"
   ]
  }
 ],
 "metadata": {
  "kernelspec": {
   "display_name": "Octave",
   "language": "octave",
   "name": "octave"
  },
  "language_info": {
   "file_extension": ".m",
   "help_links": [
    {
     "text": "GNU Octave",
     "url": "https://www.gnu.org/software/octave/support.html"
    },
    {
     "text": "Octave Kernel",
     "url": "https://github.com/Calysto/octave_kernel"
    },
    {
     "text": "MetaKernel Magics",
     "url": "https://github.com/calysto/metakernel/blob/master/metakernel/magics/README.md"
    }
   ],
   "mimetype": "text/x-octave",
   "name": "octave",
   "version": "4.0.0"
  }
 },
 "nbformat": 4,
 "nbformat_minor": 2
}
