{
 "cells": [
  {
   "cell_type": "markdown",
   "metadata": {},
   "source": [
    "# AM10IM - Introduction to Matlab"
   ]
  },
  {
   "cell_type": "markdown",
   "metadata": {},
   "source": [
    "## Lecture Challenge 10 - Tridiagonal Matrices"
   ]
  },
  {
   "cell_type": "markdown",
   "metadata": {},
   "source": [
    "The determinant of a matrix is an important quantity, it is the scaling of linear transformations, it is useful for the inversion of matrices. It has implications in calculus, the list can go on. But they are not very predictable. We shall two matrices that seem very similar can have distinctly different determinants."
   ]
  },
  {
   "cell_type": "markdown",
   "metadata": {},
   "source": [
    "Consider the identity matrix which are ones along the main diagonal only:\n",
    "\n",
    "$$\n",
    "\\begin{pmatrix}\n",
    "1 & 0 & 0 &\\cdots \\\\\n",
    "0 & 1 & 0 &\\cdots \\\\\n",
    "0 & 0 & 1 &\\cdots \\\\\n",
    "\\vdots & \\vdots & \\vdots & \\ddots\n",
    "\\end{pmatrix}\n",
    "$$\n",
    "\n",
    "For any set of square matrices.\n",
    "Consider tridiagonal matrices:\n",
    "\n",
    "$$\n",
    "\\begin{pmatrix}\n",
    "1 &\\alpha & 0 & 0& 0 & \\cdots \\\\\n",
    "\\alpha & 1 & \\alpha & 0 & 0 &\\cdots \\\\\n",
    "0 & \\alpha & 1 & \\alpha & 0 &\\cdots \\\\\n",
    "0 & 0 & \\alpha & 1 & \\alpha &\\cdots \\\\\n",
    "\\vdots & \\vdots & \\vdots & \\vdots \n",
    "\\end{pmatrix}\n",
    "$$\n",
    "\n",
    "where along the main diagonal are ones and $\\alpha$ along the diagonals below and above. Let us consider $\\alpha$ to be a small number that we will investigate.\n",
    "\n",
    "__The determinant of all identity matrices, regardless of size is $1$__"
   ]
  },
  {
   "cell_type": "markdown",
   "metadata": {},
   "source": [
    "__Challenge 1__ Create a script that will generate a tridiagonal matrix of size $50\\times 50$, where $\\alpha = 0.1$"
   ]
  },
  {
   "cell_type": "code",
   "execution_count": 1,
   "metadata": {},
   "outputs": [],
   "source": [
    "%% Challenge 1%%"
   ]
  },
  {
   "cell_type": "markdown",
   "metadata": {},
   "source": [
    "__Challenge 2__: Calculate and plot the determinant of tridiagonal matrices from sizes 2 to 50 with $\\alpha = 0.1$"
   ]
  },
  {
   "cell_type": "code",
   "execution_count": 2,
   "metadata": {},
   "outputs": [],
   "source": [
    "%%Challenge 2"
   ]
  },
  {
   "cell_type": "markdown",
   "metadata": {},
   "source": [
    "__Challenge 3__: Now plot on the same graph the determinants for size 2 to 50 with $\\alpha = 0.01,0.02\\cdots 0.1$"
   ]
  },
  {
   "cell_type": "code",
   "execution_count": null,
   "metadata": {},
   "outputs": [],
   "source": []
  }
 ],
 "metadata": {
  "kernelspec": {
   "display_name": "Octave",
   "language": "octave",
   "name": "octave"
  },
  "language_info": {
   "file_extension": ".m",
   "help_links": [
    {
     "text": "GNU Octave",
     "url": "https://www.gnu.org/software/octave/support.html"
    },
    {
     "text": "Octave Kernel",
     "url": "https://github.com/Calysto/octave_kernel"
    },
    {
     "text": "MetaKernel Magics",
     "url": "https://github.com/calysto/metakernel/blob/master/metakernel/magics/README.md"
    }
   ],
   "mimetype": "text/x-octave",
   "name": "octave",
   "version": "4.0.0"
  }
 },
 "nbformat": 4,
 "nbformat_minor": 2
}
