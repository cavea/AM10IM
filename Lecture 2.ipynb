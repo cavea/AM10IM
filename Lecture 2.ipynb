{
 "cells": [
  {
   "cell_type": "markdown",
   "metadata": {},
   "source": [
    "# Introduction to Matlab - AM10IM"
   ]
  },
  {
   "cell_type": "markdown",
   "metadata": {},
   "source": [
    "## Lecture 2 - Arrays, plotting and If statements"
   ]
  },
  {
   "cell_type": "markdown",
   "metadata": {},
   "source": [
    "Table of Contents\n",
    "-  [2.1 Summary](#Summary)\n",
    "-  [2.2 Arrays](#Arrays)\n",
    "-  [2.3 Plotting](#Plotting)\n",
    "    -  [2.3.1 The \"Plot\" function](#Plot)\n",
    "    -  [2.3.2 Annonymous functions](#Anon)\n",
    "-  [2.4 If statements and .m files](#If)"
   ]
  },
  {
   "cell_type": "markdown",
   "metadata": {},
   "source": [
    "<a id='Summary'></a>"
   ]
  },
  {
   "cell_type": "markdown",
   "metadata": {},
   "source": [
    "### 2.1 Summary"
   ]
  },
  {
   "cell_type": "markdown",
   "metadata": {},
   "source": [
    "Last Lecture we introduced Matlab and its command line . Hopefully the things you have taken away are I)that for coding, you have to get in there and get your hands dirty. There's no point simply watching me. II) Tutorials are one of your most valuable resources, time to practice with help on hand. III) Matlab help function is your friend.\n",
    "\n",
    "I hope you've also had a look at the links on Blackboard, downloaded MatLab or accessed the version online and notice that there is a community of fellow MatLab users.\n",
    "\n",
    "Today we're going to focus first on one of the main uses of MatLab, manipulation of matrices and arrays, get onto plotting data and a common control flow statement, the __if statement__."
   ]
  },
  {
   "cell_type": "markdown",
   "metadata": {},
   "source": [
    "<a id='Arrays'></a>"
   ]
  },
  {
   "cell_type": "markdown",
   "metadata": {},
   "source": [
    "### 2.2 Arrays"
   ]
  },
  {
   "cell_type": "markdown",
   "metadata": {},
   "source": [
    "All of matlab variables come as arrays, which means that they can take on multiple elements. The most useful ones for us at the moment are scalars (1 x 1), vectors (1 x many or many x 1) and matrices (many x many). You can specify each element separately"
   ]
  },
  {
   "cell_type": "code",
   "execution_count": 3,
   "metadata": {},
   "outputs": [
    {
     "name": "stdout",
     "output_type": "stream",
     "text": [
      "w =  4\n",
      "x =\n",
      "\n",
      "   1   3   5\n",
      "\n",
      "y =\n",
      "\n",
      "   1\n",
      "   3\n",
      "   5\n",
      "\n",
      "z =\n",
      "\n",
      "    1    3    5\n",
      "    7    9   11\n",
      "\n",
      "ans =  3\n",
      "ans =  5\n"
     ]
    }
   ],
   "source": [
    "w = 4 %Scalar\n",
    "x = [1 3 5] % 1 by 3 ROW vector\n",
    "y = [1; 3; 5] % 3 by 1 COLUMN vector, the semi-colon inside the vector writes to a new line\n",
    "z = [1 3 5; 7 9 11] % 2 by 3 MATRIX, the new line comes after the semi-colon\n",
    "x(2) %The second element of the matrix x\n",
    "z(1,3) % The element in the first row and third column."
   ]
  },
  {
   "cell_type": "markdown",
   "metadata": {},
   "source": [
    "Of course, the elements can be calculations:"
   ]
  },
  {
   "cell_type": "code",
   "execution_count": 4,
   "metadata": {},
   "outputs": [
    {
     "name": "stdout",
     "output_type": "stream",
     "text": [
      "a =\n",
      "\n",
      "   9.86960   0.84147   7.38906\n",
      "\n"
     ]
    }
   ],
   "source": [
    "a = [pi^2 sin(1) exp(2)]"
   ]
  },
  {
   "cell_type": "markdown",
   "metadata": {},
   "source": [
    "If we have a huge array, it can be cumbersome to write manually, however there are shortcuts:"
   ]
  },
  {
   "cell_type": "code",
   "execution_count": 8,
   "metadata": {},
   "outputs": [
    {
     "name": "stdout",
     "output_type": "stream",
     "text": [
      "x =\n",
      "\n",
      "    1    2    3    4    5    6    7    8    9   10\n",
      "\n"
     ]
    }
   ],
   "source": [
    "x = 1:10  % First number:last number\n",
    "\n",
    "% Notice we haven't needed to use the square brackets, however it makes no difference if you do."
   ]
  },
  {
   "cell_type": "markdown",
   "metadata": {},
   "source": [
    "Using the colon we can write the vector with elements 1 to 10 incrementing by 1 each time. \n",
    "\n",
    "We can increment by a different amount each time with a number in the middle:"
   ]
  },
  {
   "cell_type": "code",
   "execution_count": 9,
   "metadata": {},
   "outputs": [
    {
     "name": "stdout",
     "output_type": "stream",
     "text": [
      "y1 =\n",
      "\n",
      "    2    4    6    8   10\n",
      "\n"
     ]
    }
   ],
   "source": [
    "y1 = 2:2:10 % Starting number:increment value:final number, the increment value doesn't have to be an integer or positive."
   ]
  },
  {
   "cell_type": "markdown",
   "metadata": {},
   "source": [
    "and we can write column vectors similary with the \"transpose\" function."
   ]
  },
  {
   "cell_type": "code",
   "execution_count": 10,
   "metadata": {},
   "outputs": [
    {
     "name": "stdout",
     "output_type": "stream",
     "text": [
      "y1 =\n",
      "\n",
      "    2\n",
      "    4\n",
      "    6\n",
      "    8\n",
      "   10\n",
      "\n"
     ]
    }
   ],
   "source": [
    "y1 = (2:2:10)' %% we could have equally written y1 = y1'"
   ]
  },
  {
   "cell_type": "markdown",
   "metadata": {},
   "source": [
    "We can create evenly spaced elements if we know the number of elements that we want and the beginning and end numbers using the function \"linspace\""
   ]
  },
  {
   "cell_type": "code",
   "execution_count": 12,
   "metadata": {},
   "outputs": [
    {
     "name": "stdout",
     "output_type": "stream",
     "text": [
      "z1 =\n",
      "\n",
      "    4    8   12   16   20\n",
      "\n"
     ]
    }
   ],
   "source": [
    "z1 = linspace(4,20,5) %linspace(beginning,end,number of elements)"
   ]
  },
  {
   "cell_type": "markdown",
   "metadata": {},
   "source": [
    "Matlab is created for ease of manipulting arrays:"
   ]
  },
  {
   "cell_type": "code",
   "execution_count": 42,
   "metadata": {},
   "outputs": [
    {
     "name": "stdout",
     "output_type": "stream",
     "text": [
      "z2 =\n",
      "\n",
      "    5    9   13   17   21\n",
      "\n"
     ]
    }
   ],
   "source": [
    "z2 = z1+1 %Adding 1 to every element"
   ]
  },
  {
   "cell_type": "code",
   "execution_count": 43,
   "metadata": {},
   "outputs": [
    {
     "name": "stdout",
     "output_type": "stream",
     "text": [
      "z3 =\n",
      "\n",
      "    8   16   24   32   40\n",
      "\n"
     ]
    }
   ],
   "source": [
    "z3 = 2*z1 % Doubling every element"
   ]
  },
  {
   "cell_type": "markdown",
   "metadata": {},
   "source": [
    "Notice that there are some operations that may run into trouble:"
   ]
  },
  {
   "cell_type": "code",
   "execution_count": 44,
   "metadata": {},
   "outputs": [
    {
     "name": "stdout",
     "output_type": "stream",
     "text": [
      "error: for A^b, A must be a square matrix. Use .^ for elementwise power.\n"
     ]
    }
   ],
   "source": [
    "z4 = z1^2"
   ]
  },
  {
   "cell_type": "markdown",
   "metadata": {},
   "source": [
    "Here Matlab is attempting to perform matrix multiplication, it's attempting to times a matrix by itself but because z is a __vector__ it runs into trouble. To perform an operation on the __elements__ of the array we prefix the operation with \".\":"
   ]
  },
  {
   "cell_type": "code",
   "execution_count": 45,
   "metadata": {},
   "outputs": [
    {
     "name": "stdout",
     "output_type": "stream",
     "text": [
      "z5 =\n",
      "\n",
      "    16    64   144   256   400\n",
      "\n"
     ]
    }
   ],
   "source": [
    "z5 = z1.^2"
   ]
  },
  {
   "cell_type": "markdown",
   "metadata": {},
   "source": [
    "For example the two following commands provide very different answers."
   ]
  },
  {
   "cell_type": "markdown",
   "metadata": {},
   "source": [
    "<a id='Plotting'></a>"
   ]
  },
  {
   "cell_type": "code",
   "execution_count": 15,
   "metadata": {},
   "outputs": [
    {
     "name": "stdout",
     "output_type": "stream",
     "text": [
      "ans =  880\n",
      "ans =\n",
      "\n",
      "    16    64   144   256   400\n",
      "\n"
     ]
    }
   ],
   "source": [
    "z1*z1' % Without the dot\n",
    "z1.*z1 % With the dot"
   ]
  },
  {
   "cell_type": "markdown",
   "metadata": {},
   "source": [
    "The first calculates the dot product between z1 and its transpose. The second squares every element of z1. Try and figure out what the following is calculating and the logic behind it."
   ]
  },
  {
   "cell_type": "code",
   "execution_count": 16,
   "metadata": {},
   "outputs": [
    {
     "name": "stdout",
     "output_type": "stream",
     "text": [
      "ans =\n",
      "\n",
      "    16    32    48    64    80\n",
      "    32    64    96   128   160\n",
      "    48    96   144   192   240\n",
      "    64   128   192   256   320\n",
      "    80   160   240   320   400\n",
      "\n"
     ]
    }
   ],
   "source": [
    "z1.*z1'"
   ]
  },
  {
   "cell_type": "markdown",
   "metadata": {},
   "source": [
    "### 2.3 Plotting"
   ]
  },
  {
   "cell_type": "markdown",
   "metadata": {},
   "source": [
    "<a id='Plot'></a>"
   ]
  },
  {
   "cell_type": "markdown",
   "metadata": {},
   "source": [
    "#### 2.3.1 The \"Plot\" function"
   ]
  },
  {
   "cell_type": "markdown",
   "metadata": {},
   "source": [
    "One quick and obvious use of arrays are in plotting data, using the plot function."
   ]
  },
  {
   "cell_type": "code",
   "execution_count": 19,
   "metadata": {
    "scrolled": false
   },
   "outputs": [
    {
     "data": {
      "image/png": "[encoded data removed]",
      "text/plain": [
       "<IPython.core.display.Image object>"
      ]
     },
     "metadata": {},
     "output_type": "display_data"
    }
   ],
   "source": [
    "z1 = linspace(-5,5,10);\n",
    "z2 = z1.^2;\n",
    "plot(z1,z2) %plot(x values, y values,***options***).\n",
    "% How would it change if z1 and z2 were flipped in the plot function"
   ]
  },
  {
   "cell_type": "markdown",
   "metadata": {},
   "source": [
    "Here, Matlab has plotted the data points of z1 against z2. Notice that it looks too sharp to be a quadratic. That's because Matlab has joined the points together. If we used more points it would look smoother:"
   ]
  },
  {
   "cell_type": "code",
   "execution_count": 78,
   "metadata": {},
   "outputs": [
    {
     "data": {
      "image/png": "[encoded data removed]",
      "text/plain": [
       "<IPython.core.display.Image object>"
      ]
     },
     "metadata": {},
     "output_type": "display_data"
    }
   ],
   "source": [
    "x1 = linspace(-3,3,100);\n",
    "x2 = x1.^3;\n",
    "plot(x1,x2)"
   ]
  },
  {
   "cell_type": "markdown",
   "metadata": {},
   "source": [
    "The function \"plot\" plots two __equally sized__ vectors against each other. This is useful for simply visualising data if we don't know its specific form."
   ]
  },
  {
   "cell_type": "markdown",
   "metadata": {},
   "source": [
    "If however we know the particular function we wish to plot we can create something called an __annonymous function__"
   ]
  },
  {
   "cell_type": "markdown",
   "metadata": {},
   "source": [
    "<a id='Anon'></a>"
   ]
  },
  {
   "cell_type": "markdown",
   "metadata": {},
   "source": [
    "#### 2.3.2 Annonymous Functions"
   ]
  },
  {
   "cell_type": "markdown",
   "metadata": {},
   "source": [
    "Annonymous functions are useful as they can be treated similarly to mathematical functions:"
   ]
  },
  {
   "cell_type": "code",
   "execution_count": 3,
   "metadata": {},
   "outputs": [
    {
     "name": "stdout",
     "output_type": "stream",
     "text": [
      "ans = -1\n"
     ]
    }
   ],
   "source": [
    "f = @(x) cos(x); %% The @(x) determines the functions dependencies.\n",
    "% The syntax is generally\n",
    "% handle = @(arg1,arg2,...) expression\n",
    "f(pi) %% which we can evaluate at specific points."
   ]
  },
  {
   "cell_type": "markdown",
   "metadata": {},
   "source": [
    "Using the function 'fplot' we can plot __annonymous functions__"
   ]
  },
  {
   "cell_type": "code",
   "execution_count": 85,
   "metadata": {},
   "outputs": [
    {
     "data": {
      "image/png": "[encoded data removed]",
      "text/plain": [
       "<IPython.core.display.Image object>"
      ]
     },
     "metadata": {},
     "output_type": "display_data"
    }
   ],
   "source": [
    "fplot(f,[0,2*pi])"
   ]
  },
  {
   "cell_type": "markdown",
   "metadata": {},
   "source": [
    "Notice the difference between \"plot\" and \"fplot\". The function \"plot\" only plots __two vectors__ against each other, which allows a large amount of versatility. The function \"fplot\" plots one (or many) __functions__ together. Also note the difference in notation, in \"fplot\" we only specify the domain region, rather than specific points of the x-axis as in \"plot\". This week's tutorial goes through the different options with plot and fplot including plotting parametric equations."
   ]
  },
  {
   "cell_type": "markdown",
   "metadata": {},
   "source": [
    "<a id='If'></a>"
   ]
  },
  {
   "cell_type": "markdown",
   "metadata": {},
   "source": [
    "### 2.4 If statements and .m files"
   ]
  },
  {
   "cell_type": "markdown",
   "metadata": {},
   "source": [
    "At the moment we have just been using the command line to perform calculations, however if we wish to do anything a little more complex, we seem to be limited by typing one line at a time. However we can use scripts and functions that will allow us to perform more complex tasks. These are .m files, I have provided more detail about them in a seperate notebook showing you how to create them and where to save them on your computer. Essentially they allow us to code. One basic example are if statements."
   ]
  },
  {
   "cell_type": "markdown",
   "metadata": {},
   "source": [
    "Remember in Lecture Challenge 1 I said the computer can make decisions based on certain criteria. In that case I wanted the computer to determine whether a number was odd or even. This could have been acheived with an if statement."
   ]
  },
  {
   "cell_type": "code",
   "execution_count": 3,
   "metadata": {},
   "outputs": [
    {
     "name": "stdout",
     "output_type": "stream",
     "text": [
      "14 is even \n"
     ]
    }
   ],
   "source": [
    "n=14;\n",
    "if mod(n,2) == 0\n",
    "fprintf('%.0f is even \\n',n)\n",
    "else\n",
    "fprintf('%.0f is odd \\n',n)\n",
    "end"
   ]
  },
  {
   "cell_type": "markdown",
   "metadata": {},
   "source": [
    "Let's break down this code:\n",
    "We have an initial 'n' and then our if statement which must follow a certain syntax:"
   ]
  },
  {
   "cell_type": "code",
   "execution_count": null,
   "metadata": {},
   "outputs": [],
   "source": [
    "if % logical expression\n",
    "    % code to execute when the expression is true\n",
    "else\n",
    "    % code to execute when the expression is false.\n",
    "end  % close the if statement"
   ]
  },
  {
   "cell_type": "markdown",
   "metadata": {},
   "source": [
    "In our case the logical expression is "
   ]
  },
  {
   "cell_type": "code",
   "execution_count": null,
   "metadata": {},
   "outputs": [],
   "source": [
    "mod(n,2)==0"
   ]
  },
  {
   "cell_type": "markdown",
   "metadata": {},
   "source": [
    "mod here is a new function the computes the modulo of n and 2"
   ]
  },
  {
   "cell_type": "code",
   "execution_count": 24,
   "metadata": {
    "scrolled": true
   },
   "outputs": [
    {
     "name": "stdout",
     "output_type": "stream",
     "text": [
      "'mod' is a built-in function from the file libinterp/corefcn/data.cc\n",
      "\n",
      " -- Mapping Function: mod (X, Y)\n",
      "     Compute the modulo of X and Y.\n",
      "\n",
      "     Conceptually this is given by\n",
      "\n",
      "          x - y .* floor (x ./ y)\n",
      "\n",
      "     and is written such that the correct modulus is returned for\n",
      "     integer types.  This function handles negative values correctly.\n",
      "     That is, 'mod (-1, 3)' is 2, not -1, as 'rem (-1, 3)' returns.\n",
      "     'mod (X, 0)' returns X.\n",
      "\n",
      "     An error results if the dimensions of the arguments do not agree,\n",
      "     or if either of the arguments is complex.\n",
      "\n",
      "     See also: rem.\n",
      "\n",
      "Additional help for built-in functions and operators is\n",
      "available in the online version of the manual.  Use the command\n",
      "'doc <topic>' to search the manual index.\n",
      "\n",
      "Help and information about Octave is also available on the WWW\n",
      "at http://www.octave.org and via the help@octave.org\n",
      "mailing list.\n"
     ]
    }
   ],
   "source": [
    "help mod"
   ]
  },
  {
   "cell_type": "code",
   "execution_count": 25,
   "metadata": {},
   "outputs": [
    {
     "name": "stdout",
     "output_type": "stream",
     "text": [
      "ans =  1\n",
      "ans = 0\n",
      "ans =  1\n",
      "ans = 0\n",
      "ans =  1\n"
     ]
    }
   ],
   "source": [
    "mod(1,2)\n",
    "mod(2,2)\n",
    "mod(3,2)\n",
    "mod(4,2)\n",
    "mod(5,2)"
   ]
  },
  {
   "cell_type": "markdown",
   "metadata": {},
   "source": [
    "So the statment:"
   ]
  },
  {
   "cell_type": "code",
   "execution_count": null,
   "metadata": {},
   "outputs": [],
   "source": [
    "if mod(n,2)==0"
   ]
  },
  {
   "cell_type": "markdown",
   "metadata": {},
   "source": [
    "Says __if__ the function mod(n,2) is __equal__ to 0 then execute the following code:"
   ]
  },
  {
   "cell_type": "code",
   "execution_count": null,
   "metadata": {},
   "outputs": [],
   "source": [
    "fprintf('%.0f is even \\n',n)\n"
   ]
  },
  {
   "cell_type": "markdown",
   "metadata": {},
   "source": [
    "which we've seen before in tutorial 1. fprintf writes to an output, in this case the command line. It writes whatever is in the quotation marks. Note that % says use the number after the quotation marks and .0f is a specific format to use (try changing the number 0 to something else)"
   ]
  },
  {
   "cell_type": "markdown",
   "metadata": {},
   "source": [
    "If the function mod(n,2) is __not equal__ to 0 then execute the following"
   ]
  },
  {
   "cell_type": "code",
   "execution_count": null,
   "metadata": {},
   "outputs": [],
   "source": [
    "fprintf('%.0f is odd \\n',n) %\\n returns to a new line"
   ]
  },
  {
   "cell_type": "markdown",
   "metadata": {},
   "source": [
    "which states that it must be odd. Notice that we have covered __all__ possibilities here, a number can either be odd or even."
   ]
  },
  {
   "cell_type": "markdown",
   "metadata": {},
   "source": [
    "If we have more than two possibilities we can use \"elseif\" as many times as we'd like"
   ]
  },
  {
   "cell_type": "code",
   "execution_count": 2,
   "metadata": {},
   "outputs": [
    {
     "name": "stdout",
     "output_type": "stream",
     "text": [
      "97 is not a multiple of 3, there is a remainder 1 \n"
     ]
    }
   ],
   "source": [
    "n = 97;\n",
    "if mod(n,3) == 0\n",
    "    fprintf('%.0f is a multiple of 3 \\n',n)\n",
    "elseif mod(n,3) == 1\n",
    "    fprintf('%.0f is not a multiple of 3, there is a remainder 1 \\n', n)\n",
    "else\n",
    "    fprintf('%.0f is not a multiple of 3, there is a remainder 2 \\n', n)\n",
    "end"
   ]
  },
  {
   "cell_type": "markdown",
   "metadata": {},
   "source": [
    "Notice I didn't need to put \"elseif mod(n,3)==2...\", as it was covered by the else. The final else means, everything else that isn't covered by the above logical expressions."
   ]
  },
  {
   "cell_type": "markdown",
   "metadata": {},
   "source": [
    "Did you notice that the code is not:"
   ]
  },
  {
   "cell_type": "code",
   "execution_count": null,
   "metadata": {},
   "outputs": [],
   "source": [
    "if mod(n,3)=0 %?"
   ]
  },
  {
   "cell_type": "markdown",
   "metadata": {},
   "source": [
    "Here we have come across the difference in __assign__ and __equals__. If I use a single equals sign I am assigning a number to a variable. With the __double equals__ sign I am __asking__ if the number is equal to zero. The output will return __1 if it is true__ and __0 if it is false__:"
   ]
  },
  {
   "cell_type": "code",
   "execution_count": 20,
   "metadata": {},
   "outputs": [
    {
     "name": "stdout",
     "output_type": "stream",
     "text": [
      "ans =  1\n",
      "ans = 0\n"
     ]
    }
   ],
   "source": [
    "mod(6,3)==0\n",
    "mod(7,3)==0"
   ]
  },
  {
   "cell_type": "markdown",
   "metadata": {},
   "source": [
    "If statements are an important part of any programming language, and the whole of Lecture Challenge 2 deals with them in  depth, providing different logical expressions for you to get comfortable with.\n",
    "\n",
    "The symbol '==' is a logical expression of which there are MANY. Others that you may recognise include:"
   ]
  },
  {
   "cell_type": "code",
   "execution_count": null,
   "metadata": {},
   "outputs": [],
   "source": [
    ">, <, <=, >= % greater than, less than, less than or equal to, greater than or equal to.\n",
    "!= %Not equal to"
   ]
  },
  {
   "cell_type": "markdown",
   "metadata": {},
   "source": [
    "And others that you may not:"
   ]
  },
  {
   "cell_type": "code",
   "execution_count": null,
   "metadata": {},
   "outputs": [],
   "source": [
    "&&, || % AND, OR"
   ]
  },
  {
   "cell_type": "code",
   "execution_count": 23,
   "metadata": {},
   "outputs": [
    {
     "name": "stdout",
     "output_type": "stream",
     "text": [
      "a = 0\n",
      "b =  1\n"
     ]
    }
   ],
   "source": [
    "a = (mod(6,3)==0) && (mod(7,3)==0) % BOTH statements must be true for a to be 1, otherwise it is zero\n",
    "b = (mod(6,3)==0) || (mod(7,3)==0) % EITHER statement must be true for b to be 1, otherwise it is zero"
   ]
  },
  {
   "cell_type": "markdown",
   "metadata": {},
   "source": [
    "It may seem that the learning curve has steepened. You have and will continue to see a lot of new notation and syntax. The idea is that like learning a new language you have to keep practicing. You will be expected to know how if statements are presented and expressed, how logical expressions work, the format for annonymous functions (which we will continue to use throughout), how to manipulate vectors and matrices with matlab (which we will also continue throughout).\n",
    "\n",
    "__The more you practice the easier it will get__. If something goes wrong you use the help function/ google and also me."
   ]
  }
 ],
 "metadata": {
  "kernelspec": {
   "display_name": "Octave",
   "language": "octave",
   "name": "octave"
  },
  "language_info": {
   "file_extension": ".m",
   "help_links": [
    {
     "text": "GNU Octave",
     "url": "https://www.gnu.org/software/octave/support.html"
    },
    {
     "text": "Octave Kernel",
     "url": "https://github.com/Calysto/octave_kernel"
    },
    {
     "text": "MetaKernel Magics",
     "url": "https://github.com/calysto/metakernel/blob/master/metakernel/magics/README.md"
    }
   ],
   "mimetype": "text/x-octave",
   "name": "octave",
   "version": "4.0.0"
  }
 },
 "nbformat": 4,
 "nbformat_minor": 2
}
