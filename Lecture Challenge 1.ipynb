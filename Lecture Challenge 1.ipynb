{
 "cells": [
  {
   "cell_type": "markdown",
   "metadata": {},
   "source": [
    "# AM10IM - Introduction to Matlab"
   ]
  },
  {
   "cell_type": "markdown",
   "metadata": {},
   "source": [
    "## Lecture Challenge 1 - round(x)"
   ]
  },
  {
   "cell_type": "markdown",
   "metadata": {},
   "source": [
    "In our first lecture we introduced the command line which allows us to compute basic calculations. We also introduced our standard functions that we know, like sin, cos, log, etc. There are other useful functions that aren't quite as obvious, such as the round function:"
   ]
  },
  {
   "cell_type": "code",
   "execution_count": 8,
   "metadata": {
    "scrolled": false
   },
   "outputs": [
    {
     "name": "stdout",
     "output_type": "stream",
     "text": [
      "'round' is a built-in function from the file libinterp/corefcn/mappers.cc\n",
      "\n",
      " -- Mapping Function: round (X)\n",
      "     Return the integer nearest to X.\n",
      "\n",
      "     If X is complex, return 'round (real (X)) + round (imag (X)) * I'.\n",
      "     If there are two nearest integers, return the one further away from\n",
      "     zero.\n",
      "\n",
      "          round ([-2.7, 2.7])\n",
      "               => -3    3\n",
      "\n",
      "     See also: ceil, floor, fix, roundb.\n",
      "\n",
      "Additional help for built-in functions and operators is\n",
      "available in the online version of the manual.  Use the command\n",
      "'doc <topic>' to search the manual index.\n",
      "\n",
      "Help and information about Octave is also available on the WWW\n",
      "at http://www.octave.org and via the help@octave.org\n",
      "mailing list.\n"
     ]
    }
   ],
   "source": [
    "help round"
   ]
  },
  {
   "cell_type": "markdown",
   "metadata": {},
   "source": [
    "This tells us that it rounds to the __nearest integer__ and it can round __complex numbers__ and __vectors__ (and also matrices). It also gives us other functions that are similar. Try it out:"
   ]
  },
  {
   "cell_type": "code",
   "execution_count": null,
   "metadata": {},
   "outputs": [],
   "source": [
    "a = % <---- Enter non integer before the percent sign\n",
    "round(a)"
   ]
  },
  {
   "cell_type": "markdown",
   "metadata": {},
   "source": [
    "However we can use it to round not just to integers, we can round numbers to the nearest 10, 100 etc:"
   ]
  },
  {
   "cell_type": "code",
   "execution_count": 2,
   "metadata": {},
   "outputs": [
    {
     "name": "stdout",
     "output_type": "stream",
     "text": [
      "b =  32\n",
      "n =  30\n"
     ]
    }
   ],
   "source": [
    "b = 32\n",
    "n = 10*round(b/10)"
   ]
  },
  {
   "cell_type": "markdown",
   "metadata": {},
   "source": [
    "Let's unpack this code:"
   ]
  },
  {
   "cell_type": "code",
   "execution_count": 3,
   "metadata": {},
   "outputs": [
    {
     "name": "stdout",
     "output_type": "stream",
     "text": [
      "ans =  3.2000\n"
     ]
    }
   ],
   "source": [
    "b/10 %Division by 10 allows us to round to the nearest integer"
   ]
  },
  {
   "cell_type": "code",
   "execution_count": 4,
   "metadata": {},
   "outputs": [
    {
     "name": "stdout",
     "output_type": "stream",
     "text": [
      "ans =  3\n"
     ]
    }
   ],
   "source": [
    "round(b/10) % which we do"
   ]
  },
  {
   "cell_type": "code",
   "execution_count": 5,
   "metadata": {},
   "outputs": [
    {
     "name": "stdout",
     "output_type": "stream",
     "text": [
      "ans =  30\n"
     ]
    }
   ],
   "source": [
    "10*round(b/10) %And then return to base 10."
   ]
  },
  {
   "cell_type": "markdown",
   "metadata": {},
   "source": [
    "Can you change this code to round to the nearest 100?\n",
    "\n",
    "Can you change it to find the nearest multiple of 3 to \"b\"? or nearest multiple of any number to \"b\"?\n",
    "\n",
    "If you use the \"floor\" function (rounds __down__) can you find how many times \"b\" goes into another number and find its remainder?"
   ]
  },
  {
   "cell_type": "code",
   "execution_count": null,
   "metadata": {},
   "outputs": [],
   "source": [
    "b = 32\n",
    "n = 10*round(b/10)"
   ]
  },
  {
   "cell_type": "markdown",
   "metadata": {},
   "source": [
    "So this function, like all MatLab functions have many uses, and we pick and tailor functions to our needs. We don't just use the round function to round a number. We can also use it to make decisions: \n",
    "\n",
    "__Challenge__: Given a number, can you make the computer decide whether it is odd or even? Given input f, let m return 0 if it is odd, and 1 if it is even."
   ]
  },
  {
   "cell_type": "code",
   "execution_count": null,
   "metadata": {},
   "outputs": [],
   "source": [
    "f = 5\n",
    "m = % Calculations here"
   ]
  }
 ],
 "metadata": {
  "kernelspec": {
   "display_name": "Octave",
   "language": "octave",
   "name": "octave"
  },
  "language_info": {
   "file_extension": ".m",
   "help_links": [
    {
     "text": "GNU Octave",
     "url": "https://www.gnu.org/software/octave/support.html"
    },
    {
     "text": "Octave Kernel",
     "url": "https://github.com/Calysto/octave_kernel"
    },
    {
     "text": "MetaKernel Magics",
     "url": "https://github.com/calysto/metakernel/blob/master/metakernel/magics/README.md"
    }
   ],
   "mimetype": "text/x-octave",
   "name": "octave",
   "version": "4.0.0"
  }
 },
 "nbformat": 4,
 "nbformat_minor": 2
}
