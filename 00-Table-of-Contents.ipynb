{
 "cells": [
  {
   "cell_type": "markdown",
   "metadata": {},
   "source": [
    "# AM10IM - Introduction to Matlab"
   ]
  },
  {
   "cell_type": "markdown",
   "metadata": {},
   "source": [
    "## Table of Content for all Lectures + Lecture Challenges"
   ]
  },
  {
   "cell_type": "markdown",
   "metadata": {},
   "source": [
    "-  [Lecture 1](./01-Lecture-1.ipynb)  We introduce Matlab, Jupyter Notebooks, the command line and the help function\n",
    "\n",
    "    \n",
    "-  [Lecture Challenge 1](./01-Lecture-Challenge-1.ipynb) We do a lot of work with the round function\n",
    "\n",
    "  -  [Lecture Challenge 1 Solutions](./01-Lecture-Challenge-Solutions.ipynb)\n",
    "\n",
    "\n",
    "- [Lecture 2](./02-Lecture-2.ipynb) Arrays, Plot, Annonymous Functions (with fplot), Scripts and if statements\n",
    "\n",
    "\n",
    "- [Lecture Challenge 2](./02-Lecture-Challenge-2.ipynb) Lots of if statements with medal tables\n",
    "\n",
    "  -  [Lecture Challenge 2 Solutions](./02-Lecture-Challenge-Solutions.ipynb)\n",
    "  \n",
    "  \n",
    "- [Lecture Challenge 2 Hard mode](./02-Lecture-Challenge-2-Hard-mode.ipynb) Even more if statements with the heptathlon\n",
    "\n",
    "  -  [Lecture Challenge 2 Solutions Hard mode](./02-Lecture-Challenge-Solutions-Hard-Mode.ipynb)\n",
    "  \n",
    "\n",
    "-  [Lecture 3](./03-Lecture-3.ipynb) Logical Expressions, Booleans and Array Manipulation\n",
    "\n",
    "\n",
    "-  [Lecture Challenge 3](./03-Lecture-Challenge-3.ipynb) Exoplanets and array manipulation\n",
    "\n",
    "  -  [Lecture Challenge 3 Solutions](./03-Lecture-Challenge-Solutions.ipynb)\n",
    "  \n",
    "  \n",
    "-  [Lecture 4](./04-Lecture-4.ipynb)  For loops, while loops and the Collatz Conjecture\n",
    "\n",
    "\n",
    "-  [Lecture Challenge 4](./04-Lecture-Challenge-4.ipynb) More Collatz Conjecture and the Game of Threes\n",
    "\n",
    "  -  [Lecture Challenge 4 Solutions](./04-Lecture-Challenge-Solutions.ipynb)\n",
    "  \n",
    "\n",
    "-  [Lecture 5](./05-Lecture-5.ipynb)  Functions and good coding practices\n",
    "\n",
    "\n",
    "-  [Lecture Challenge 5](./05-Lecture-Challenge-5.ipynb) Estimating Pi with circles and squares and the rand function\n",
    "\n",
    "  -  [Lecture Challenge 5 Solutions](./05-Lecture-Challenge-Solutions.ipynb)\n",
    "  \n",
    "  \n",
    "-  [Lecture Challenge 6](./06-Lecture-Challenge-6.ipynb) The whole lecture was on the Birthday Problem\n",
    "\n",
    "  -  [Lecture Challenge 6 Solutions](./06-Lecture-Challenge-Solutions.ipynb)\n",
    "  \n",
    "  \n",
    "-  [Lecture Challenge 7](./07-Lecture-Challenge-7.ipynb) The whole lecture was on finding the 10001st prime\n",
    "\n",
    "  -  [Lecture Challenge 7 Solutions](./07-Lecture-Challenge-Solutions.ipynb)\n",
    "  \n",
    "  \n",
    "-  [Lecture 8](./08-Lecture-8.ipnyb) Strings and how to use them\n",
    "\n",
    "\n",
    "-  [Lecture Challenge 8](./08-Lecture-Challange-8.ipynb) Manipulating DNA strings\n",
    "\n",
    "  -  [Lecture Challenge 8 Solutions](./07-Lecture-Challenge-Solutions.ipynb)\n",
    "\n",
    "\n",
    "-  [Lecture 9](./09-Lecture-9.ipynb) Reading and Writing to Files\n",
    "\n",
    "\n",
    "-  [Lecture Challenge 9](./09-Lecture-Challenge-9.ipynb) Jane Austen's Pride and Prejudice.\n"
    "\n",
    "  -  [Lecture Challenge 9 Solutions](./09-Lecture-Challenge-Solutions.ipynb)\n",
    "\n",
    "\n",
    "-  [Lecture 10](./10-Lecture-10.ipnyb) Linear Systems\n",
    "\n",
    "\n",
    "-  [Lecture Challenge 10](./10-Lecture-Challenge-10.ipynb) Determinants of Tridiagonal Matrices\n"
    "\n",
    "  -  [Lecture Challenge 10 Solutions](./10-Lecture-Challenge-Solutions.ipynb)\n",
    "\n"
    "\n"
    "-  [Lecture 11](./11-Lecture-11.ipnyb) Revision Tips.\n",
   ]
  },
  {
   "cell_type": "code",
   "execution_count": null,
   "metadata": {},
   "outputs": [],
   "source": []
  }
 ],
 "metadata": {
  "kernelspec": {
   "display_name": "Octave",
   "language": "octave",
   "name": "octave"
  },
  "language_info": {
   "file_extension": ".m",
   "help_links": [
    {
     "text": "GNU Octave",
     "url": "https://www.gnu.org/software/octave/support.html"
    },
    {
     "text": "Octave Kernel",
     "url": "https://github.com/Calysto/octave_kernel"
    },
    {
     "text": "MetaKernel Magics",
     "url": "https://github.com/calysto/metakernel/blob/master/metakernel/magics/README.md"
    }
   ],
   "mimetype": "text/x-octave",
   "name": "octave",
   "version": "4.0.0"
  }
 },
 "nbformat": 4,
 "nbformat_minor": 2
}
