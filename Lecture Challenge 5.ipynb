{
 "cells": [
  {
   "cell_type": "markdown",
   "metadata": {},
   "source": [
    "# AM10IM - Introduction to Matlab"
   ]
  },
  {
   "cell_type": "markdown",
   "metadata": {},
   "source": [
    "## Lecture Challenge 5 - Estimating Pi"
   ]
  },
  {
   "cell_type": "markdown",
   "metadata": {},
   "source": [
    "Hopefully you are starting to see that coding allows us to perform tasks which would otherwise be impossible. You can see this with the Collatz conjecture last week, it would not be possible for us to investigate the behaviour of large number, but with code that is less than twenty lines long the only limit to how high we go is computer speed."
   ]
  },
  {
   "cell_type": "markdown",
   "metadata": {},
   "source": [
    "This Lecture Challenge will hopefully again illustrate this fact that we can now investigate things which would otherwise be impossible. In this case we are going to estimate pi."
   ]
  },
  {
   "cell_type": "markdown",
   "metadata": {},
   "source": [
    "### Area of Circles and Squares"
   ]
  },
  {
   "cell_type": "markdown",
   "metadata": {},
   "source": [
    "Let us consider a square with side length two centred at the origin and circle of radius one, also centred at the origin. This is shown in the figure below. "
   ]
  },
  {
   "cell_type": "markdown",
   "metadata": {},
   "source": [
    "![img](img/pie.png)"
   ]
  },
  {
   "cell_type": "markdown",
   "metadata": {},
   "source": [
    "<img src=\"attachment:img/pie.png\" width=\"400\">"
   ]
  },
  {
   "cell_type": "markdown",
   "metadata": {},
   "source": [
    "The area of the circle is:\n",
    "\n",
    "$$\n",
    "A_{circle} = \\pi \\times 1^2 \\\\\n",
    "  = \\pi\n",
    "$$\n",
    "And the area of the square is:\n",
    "\n",
    "$$\n",
    "A_{square} = 2^2 \\\\\n",
    "= 4\n",
    "$$\n",
    "And the ratio of the two areas are:\n",
    "\n",
    "$$\n",
    "\\frac{A_{circle}}{A_{square}} = \\frac{\\pi}{4}\n",
    "$$"
   ]
  },
  {
   "cell_type": "markdown",
   "metadata": {},
   "source": [
    "If we started throwing random points down inside the square, highlighting when they were inside the circle we'd get a figure that would look like the following:"
   ]
  },
  {
   "cell_type": "markdown",
   "metadata": {},
   "source": [
    "![img](img/pie2.png)"
   ]
  },
  {
   "cell_type": "markdown",
   "metadata": {},
   "source": [
    "Looking at this figure, it seems reasonable to assume that the ratio of the __total__ number of points in the square and the number of points __inside__ the circle should approximate the ratio of the two areas:\n",
    "\n",
    "$$\n",
    "\\frac{N_{inside}}{N_{total}} \\approx \\frac{A_{circle}}{A_{square}} = \\frac{\\pi}{4}\n",
    "$$"
   ]
  },
  {
   "cell_type": "markdown",
   "metadata": {},
   "source": [
    "Which means, simply using random numbers and our knowledge of circles we can approximate $\\pi$:\n",
    "\n",
    "$$\n",
    "4\\cdot \\frac{N_{inside}}{N_{total}} \\approx \\pi\n",
    "$$"
   ]
  },
  {
   "cell_type": "markdown",
   "metadata": {},
   "source": [
    "__Challenge 1__: Generate 1000 random points in that square. Both $x$ and $y$ coordinates must be random and lie between $\\pm 1$. You might want to think about using the function __rand__ which generates a random number between $0$ and $1$"
   ]
  },
  {
   "cell_type": "code",
   "execution_count": null,
   "metadata": {},
   "outputs": [],
   "source": [
    "%Challenge 1\n",
    "for i = 1:1000\n",
    "    x(i) = %Randomly generate an x coordinate inside the above square.\n",
    "    y(i) = %Randomly generate a  y coordinate inside the above square.\n",
    "end"
   ]
  },
  {
   "cell_type": "markdown",
   "metadata": {},
   "source": [
    "__Challenge 2__: Using the knowledge that a point lies inside the circle __if__ its $x$ and $y$ coordinates obey the following inequality:\n",
    "\n",
    "$$\n",
    "x^2 + y^2 < 1\n",
    "$$\n",
    "\n",
    "and the ratio shown above, find an estimate of $\\pi$.\n",
    "\n",
    "__Hint__: The points you have generated can only be either inside or outside of the circle.\n",
    "\n",
    "__Challenge 2+__: With your points can you generate a plot like the above?"
   ]
  },
  {
   "cell_type": "code",
   "execution_count": 1,
   "metadata": {},
   "outputs": [],
   "source": [
    "%%Challenge 2 - generate an estimate of pi.\n",
    "\n"
   ]
  },
  {
   "cell_type": "markdown",
   "metadata": {},
   "source": [
    "__Challenge 3__: Maybe you have tried larger numbers and seen that it doesn't estimate $\\pi$ very well, in fact I find that even with 10000 points the estimate can only really get to $3.1$. What might be better is finding __many__ ratios and find the average ratio. Generate 100 estimates of $\\pi$ by performing your for loop above 100 times and find the average and its standard deviation. You may find the functions mean(x) and std(x) for the average and standard deviation of a vector x helpful\n",
    "\n",
    "Plot the estimates in a histogram. (In these notebooks use the function hist(x) and in Matlab use the function histogram(x) to plot a histogram of the vector x)\n",
    "\n",
    "Be wary that it may take your computer a couple of minutes to perform $100\\times1000$ tasks."
   ]
  },
  {
   "cell_type": "code",
   "execution_count": null,
   "metadata": {},
   "outputs": [],
   "source": [
    "for j = 1:100\n",
    "    % Some necessary code\n",
    "    for i = 1:1000\n",
    "        %Something that will look like your previous code\n",
    "    end\n",
    "end"
   ]
  }
 ],
 "metadata": {
  "kernelspec": {
   "display_name": "Octave",
   "language": "octave",
   "name": "octave"
  },
  "language_info": {
   "file_extension": ".m",
   "help_links": [
    {
     "text": "GNU Octave",
     "url": "https://www.gnu.org/software/octave/support.html"
    },
    {
     "text": "Octave Kernel",
     "url": "https://github.com/Calysto/octave_kernel"
    },
    {
     "text": "MetaKernel Magics",
     "url": "https://github.com/calysto/metakernel/blob/master/metakernel/magics/README.md"
    }
   ],
   "mimetype": "text/x-octave",
   "name": "octave",
   "version": "4.0.0"
  }
 },
 "nbformat": 4,
 "nbformat_minor": 2
}
