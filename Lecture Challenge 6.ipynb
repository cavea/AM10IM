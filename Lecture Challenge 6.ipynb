{
 "cells": [
  {
   "cell_type": "markdown",
   "metadata": {},
   "source": [
    "# AM10IM - Introduction to Matlab"
   ]
  },
  {
   "cell_type": "markdown",
   "metadata": {},
   "source": [
    "## Lecture Challenge 6 - The Birthday Problem"
   ]
  },
  {
   "cell_type": "markdown",
   "metadata": {},
   "source": [
    "If there are 23 people in a room, it is more likely than not that at least two of these people share a birthday. This is highly counterintuitive. There are 365 days in a year, surely it is more likely that all twenty three people have separate birthdays!"
   ]
  },
  {
   "cell_type": "markdown",
   "metadata": {},
   "source": [
    "__Challenge 1__: Given $N$ people in a room, and assuming that each person's birthday occurs on a random, uniformly distributed day of the year, can you approximate the probability that at least two people share a birthday? (You may ignore the date 29th February).\n",
    "\n",
    "__Hint__: This question is asking you to approximate the probability that $N$ people __do not__ have separate birthdays."
   ]
  },
  {
   "cell_type": "markdown",
   "metadata": {},
   "source": [
    "__Challenge 2__: This probability is something you can calculate analytically:\n",
    "\n",
    "\\begin{align}\n",
    "P\\left(\\text{not separate}\\right) =& 1 - P\\left(\\text{separate}\\right) \\\\\n",
    "P\\left(\\text{separate}\\right) =& \\left(1-\\frac{1}{365}\\right)\\left(1 - \\frac{2}{365}\\right)\\cdots\\left(1-\\frac{N-1}{365}\\right)\n",
    "\\end{align}\n",
    "\n",
    "Can you compare your approximations to the analytic solution?"
   ]
  }
 ],
 "metadata": {
  "kernelspec": {
   "display_name": "Octave",
   "language": "octave",
   "name": "octave"
  },
  "language_info": {
   "file_extension": ".m",
   "help_links": [
    {
     "text": "GNU Octave",
     "url": "https://www.gnu.org/software/octave/support.html"
    },
    {
     "text": "Octave Kernel",
     "url": "https://github.com/Calysto/octave_kernel"
    },
    {
     "text": "MetaKernel Magics",
     "url": "https://github.com/calysto/metakernel/blob/master/metakernel/magics/README.md"
    }
   ],
   "mimetype": "text/x-octave",
   "name": "octave",
   "version": "4.0.0"
  }
 },
 "nbformat": 4,
 "nbformat_minor": 2
}
