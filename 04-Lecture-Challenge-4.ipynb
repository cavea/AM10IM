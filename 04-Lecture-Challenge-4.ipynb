{
 "cells": [
  {
   "cell_type": "markdown",
   "metadata": {},
   "source": [
    "# AM10IM - Introduction to Matlab"
   ]
  },
  {
   "cell_type": "markdown",
   "metadata": {},
   "source": [
    "## Lecture Challenge 4 - The Collatz conjecture and other games"
   ]
  },
  {
   "cell_type": "markdown",
   "metadata": {},
   "source": [
    "The code used in lectures to compare stopping times for the first n integers was:"
   ]
  },
  {
   "cell_type": "code",
   "execution_count": 4,
   "metadata": {
    "scrolled": false
   },
   "outputs": [
    {
     "data": {
      "image/png": "[encoded data removed]",
      "text/plain": [
       "<IPython.core.display.Image object>"
      ]
     },
     "metadata": {},
     "output_type": "display_data"
    }
   ],
   "source": [
    "clear all\n",
    "n = 10;       % comparing the first n integers.\n",
    "t = [];         % We will be storing the stopping time as a vector t, this notation means it's currently a 0x0 array\n",
    "for j = 1:n\n",
    "    z = j;          %Above we input z. Now we are going to run it over every positive integer  \n",
    "    i = 0;          %i is going to be counting how many steps it takes which we need to reset for every integer\n",
    "    while(z ~= 1)   %which is why i=0 is inside the for loop\n",
    "        if (mod(z,2)==0)     \n",
    "            z = z./2;         \n",
    "        else                 % Collatz code \n",
    "            z = 3.*z+1;       \n",
    "        end\n",
    "    i = i+1;\n",
    "    end\n",
    "    t = [t i];               % here this will store the count in t. t will be a vector that becomes size nx1\n",
    "end\n",
    "plot(t,'*');"
   ]
  },
  {
   "cell_type": "markdown",
   "metadata": {},
   "source": [
    "__Challenge 1__: Can you ammend it so that it will also plot the maximum number that each integer reaches? For example the number 27 reaches 9232. The number 28 reaches 52. You may find the MatLab function max(x) useful"
   ]
  },
  {
   "cell_type": "code",
   "execution_count": 2,
   "metadata": {
    "scrolled": true
   },
   "outputs": [
    {
     "name": "stdout",
     "output_type": "stream",
     "text": [
      "'max' is a built-in function from the file libinterp/corefcn/max.cc\n",
      "\n",
      " -- Built-in Function: max (X)\n",
      " -- Built-in Function: max (X, [], DIM)\n",
      " -- Built-in Function: [W, IW] = max (X)\n",
      " -- Built-in Function: max (X, Y)\n",
      "     Find maximum values in the array X.\n",
      "\n",
      "     For a vector argument, return the maximum value.  For a matrix\n",
      "     argument, return a row vector with the maximum value of each\n",
      "     column.  For a multi-dimensional array, 'max' operates along the\n",
      "     first non-singleton dimension.\n",
      "\n",
      "     If the optional third argument DIM is present then operate along\n",
      "     this dimension.  In this case the second argument is ignored and\n",
      "     should be set to the empty matrix.\n",
      "\n",
      "     For two matrices (or a matrix and a scalar), return the pairwise\n",
      "     maximum.\n",
      "\n",
      "     Thus,\n",
      "\n",
      "          max (max (X))\n",
      "\n",
      "     returns the largest element of the 2-D matrix X, and\n",
      "\n",
      "          max (2:5, pi)\n",
      "              =>  3.1416  3.1416  4.0000  5.0000\n",
      "\n",
      "     compares each element of the range '2:5' with 'pi', and returns a\n",
      "     row vector of the maximum values.\n",
      "\n",
      "     For complex arguments, the magnitude of the elements are used for\n",
      "     comparison.  If the magnitudes are identical, then the results are\n",
      "     ordered by phase angle in the range (-pi, pi].  Hence,\n",
      "\n",
      "          max ([-1 i 1 -i])\n",
      "              => -1\n",
      "\n",
      "     because all entries have magnitude 1, but -1 has the largest phase\n",
      "     angle with value pi.\n",
      "\n",
      "     If called with one input and two output arguments, 'max' also\n",
      "     returns the first index of the maximum value(s).  Thus,\n",
      "\n",
      "          [x, ix] = max ([1, 3, 5, 2, 5])\n",
      "              =>  x = 5\n",
      "                  ix = 3\n",
      "\n",
      "     See also: min, cummax, cummin.\n",
      "\n",
      "Additional help for built-in functions and operators is\n",
      "available in the online version of the manual.  Use the command\n",
      "'doc <topic>' to search the manual index.\n",
      "\n",
      "Help and information about Octave is also available on the WWW\n",
      "at http://www.octave.org and via the help@octave.org\n",
      "mailing list.\n"
     ]
    }
   ],
   "source": [
    "help max"
   ]
  },
  {
   "cell_type": "markdown",
   "metadata": {},
   "source": [
    "__Challenge 2__ Can you plot the stopping time of the numbers with a stopping time larger than all smaller initial starting values?"
   ]
  },
  {
   "cell_type": "markdown",
   "metadata": {},
   "source": [
    "The first few numbers of this sequence should be:\n",
    "\n",
    "initial value(stopping time)\n",
    "\n",
    "1(0), 2(1), 3(7), 6(8), 7(16), 9(19), 18(20), 25(23)"
   ]
  },
  {
   "cell_type": "markdown",
   "metadata": {},
   "source": [
    "__Challenge 3__ Consider the following game of threes. Pick a positive integer. If it is divisble by three, divide by three. If it is not either add or subract 1 (whichever makes it divisible by three). Repeat. Can you compare the stopping times for all the integers from 1 to 1000?"
   ]
  }
 ],
 "metadata": {
  "kernelspec": {
   "display_name": "Octave",
   "language": "octave",
   "name": "octave"
  },
  "language_info": {
   "file_extension": ".m",
   "help_links": [
    {
     "text": "GNU Octave",
     "url": "https://www.gnu.org/software/octave/support.html"
    },
    {
     "text": "Octave Kernel",
     "url": "https://github.com/Calysto/octave_kernel"
    },
    {
     "text": "MetaKernel Magics",
     "url": "https://github.com/calysto/metakernel/blob/master/metakernel/magics/README.md"
    }
   ],
   "mimetype": "text/x-octave",
   "name": "octave",
   "version": "4.0.0"
  }
 },
 "nbformat": 4,
 "nbformat_minor": 2
}
