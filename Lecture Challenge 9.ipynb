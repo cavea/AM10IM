{
 "cells": [
  {
   "cell_type": "markdown",
   "metadata": {},
   "source": [
    "# AM10IM - Introduction to Matlab"
   ]
  },
  {
   "cell_type": "markdown",
   "metadata": {},
   "source": [
    "## Lecture Challenge 9 - Analysing Texts"
   ]
  },
  {
   "cell_type": "markdown",
   "metadata": {},
   "source": [
    "One of the interesting fields of research that has opened up due to the boom in the speed and memory of computers is analysing large texts. This lecture challenge is best done through matlab rather than these notes and the text below is also available to download from Blackboard."
   ]
  },
  {
   "cell_type": "markdown",
   "metadata": {},
   "source": [
    "__Challenge 1__: In the learning resources part of Blackboard, you will find a text file called 'PrideAndPrejudiceC18.txt'. It is also on these notebooks. This is the eighteenth chapter of Jane Austen's Pride and Prejudice, the whole book can be found here: https://www.gutenberg.org/files/1342/1342-h/1342-h.htm#link2HCH0050. Load it into a string called 'text', make sure to include the spaces."
   ]
  },
  {
   "cell_type": "code",
   "execution_count": 1,
   "metadata": {},
   "outputs": [],
   "source": [
    "% Challenge 1:"
   ]
  },
  {
   "cell_type": "markdown",
   "metadata": {},
   "source": [
    "__Challenge 2__: Can you find the number of times the words 'Darcy', 'Elizabeth', 'Wickham' and 'Bingley' are mentioned? (These are some of the important characters of the novel).\n",
    "\n",
    "You might find the function strcmp('text1','text2') useful as it compares two strings together, it returns 1 if they are the same and 0 if they are not:\n",
    "\n",
    "__Challenge 2.1__: The character Elizabeth is also referred to as 'Lizzy' and 'Eliza', can you add these to the number of mentions for Elizabeth."
   ]
  },
  {
   "cell_type": "code",
   "execution_count": 2,
   "metadata": {},
   "outputs": [
    {
     "name": "stdout",
     "output_type": "stream",
     "text": [
      "a =  1\n",
      "b = 0\n"
     ]
    }
   ],
   "source": [
    "a = strcmp('text','text')\n",
    "b = strcmp('text','textt') % Notice that strings don't have to be the same length."
   ]
  },
  {
   "cell_type": "code",
   "execution_count": 3,
   "metadata": {},
   "outputs": [],
   "source": [
    "% Challenge 2:"
   ]
  },
  {
   "cell_type": "markdown",
   "metadata": {},
   "source": [
    "__Challenge 3__: Can you plot the positions at which they are mentioned in the chapter? (You might have to think about how you are going to plot a single vector as normally you use two in the function plot.) Can you save the positions into seperate files called 'DarcyPos.txt', 'ElizabethPos.txt', 'WickhamPos.txt' and 'BingleyPos.txt'."
   ]
  },
  {
   "cell_type": "code",
   "execution_count": 4,
   "metadata": {},
   "outputs": [],
   "source": [
    "% Challenge 3:"
   ]
  },
  {
   "cell_type": "code",
   "execution_count": null,
   "metadata": {},
   "outputs": [],
   "source": []
  }
 ],
 "metadata": {
  "kernelspec": {
   "display_name": "Octave",
   "language": "octave",
   "name": "octave"
  },
  "language_info": {
   "file_extension": ".m",
   "help_links": [
    {
     "text": "GNU Octave",
     "url": "https://www.gnu.org/software/octave/support.html"
    },
    {
     "text": "Octave Kernel",
     "url": "https://github.com/Calysto/octave_kernel"
    },
    {
     "text": "MetaKernel Magics",
     "url": "https://github.com/calysto/metakernel/blob/master/metakernel/magics/README.md"
    }
   ],
   "mimetype": "text/x-octave",
   "name": "octave",
   "version": "4.0.0"
  }
 },
 "nbformat": 4,
 "nbformat_minor": 2
}
