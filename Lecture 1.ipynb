{
 "cells": [
  {
   "cell_type": "markdown",
   "metadata": {},
   "source": [
    "# Introduction to Matlab - AM10IM"
   ]
  },
  {
   "cell_type": "markdown",
   "metadata": {},
   "source": [
    "## Lecture 1 - Housekeeping, Jupyter Notebooks and Simple Commands"
   ]
  },
  {
   "cell_type": "markdown",
   "metadata": {},
   "source": [
    "Table of Contents:\n",
    "\n",
    "-  [1.1 Housekeeping](#Housekeeping)\n",
    "-  [1.2 What on Earth is this?](#Earth)\n",
    "-  [1.3 Introduction to Matlab](#Intro)\n",
    "    -  [1.3.1 What is Matlab?](#What)\n",
    "    -  [1.3.2 Why am I learning this, this is a maths degree?!](#Why)\n",
    "    -  [1.3.3 But why Matlab?](#WhyM)\n",
    "    -  [1.3.4 Are there any resources?](#Resources)\n",
    "-  [1.4 The Command Line](#Command)"
   ]
  },
  {
   "cell_type": "markdown",
   "metadata": {},
   "source": [
    "<a id='Housekeeping'></a>"
   ]
  },
  {
   "cell_type": "markdown",
   "metadata": {},
   "source": [
    "### 1.1 Housekeeping"
   ]
  },
  {
   "cell_type": "markdown",
   "metadata": {},
   "source": [
    "Straight off the bat, let us do some quick housekeeping before our proper introduction. This is a ten credit module which means we have three contact hours a week:\n",
    "\n",
    "Tuesdays 12-1 MB517 (Lecture)\n",
    "\n",
    "Thursdays 11-1 MB370/372 (Laboratory - the chance to apply what we have learnt)\n",
    "\n",
    "The assessments for this module are:\n",
    "\n",
    "Exam (worth 90% of your mark, it will be a computer based exam in January)\n",
    "\n",
    "Coursework (worth 10% of your mark, it will be due in around week 7/8 - more info to come)\n",
    "\n",
    "Who am I?\n",
    "\n",
    "Andy Cave, my office is 310F my office hours are:\n",
    "\n",
    "__Mondays 1-3pm__\n",
    "\n",
    "__Tuesdays 2-3pm__\n",
    "\n",
    "__Thursdays 9.30-10.30 am__ \n",
    "\n",
    "which you can book through https://wass.aston.ac.uk/\n",
    "\n",
    "my email: a.cave@aston.ac.uk\n",
    "\n",
    "my office number: 0121 204 4638\n",
    "\n",
    "PLEASE ASK FOR HELP IF YOU NEED IT!!!! It is no use to struggle alone, particularly with a coding course that some of you may not be used to. I am PAID to help, so if you feel like you are struggling drop me an email.\n",
    "\n",
    "I am not the only person teaching on this course, we will have a few teaching assistants that will help us during the computing lab sessions on Thursdays and I'll introduce them then."
   ]
  },
  {
   "cell_type": "markdown",
   "metadata": {},
   "source": [
    "<a id='Earth'></a>"
   ]
  },
  {
   "cell_type": "markdown",
   "metadata": {},
   "source": [
    "### 1.2 What on Earth is this?"
   ]
  },
  {
   "cell_type": "markdown",
   "metadata": {},
   "source": [
    "The content of this course will be delivered through Jupyter Notebooks. It is an open-sourced web based app that allows one to __create__, __share__, documents that contain live code, equations, graphs and text."
   ]
  },
  {
   "cell_type": "markdown",
   "metadata": {},
   "source": [
    "What that means for us is that __you__ can edit your own copy of these notes and play around with the code that is embedded here.\n",
    "\n",
    "For example, the box below has an equation for x. If you press Shift-Enter, it will calculate it. BUT importantly, you can change it. Give it a go now, see if you can find 6*7"
   ]
  },
  {
   "cell_type": "code",
   "execution_count": 4,
   "metadata": {},
   "outputs": [
    {
     "name": "stdout",
     "output_type": "stream",
     "text": [
      "x =  15\n"
     ]
    }
   ],
   "source": [
    "x=3*5"
   ]
  },
  {
   "cell_type": "markdown",
   "metadata": {},
   "source": [
    "The point is that these notes are __interactive__ and you are now no longer yawning at the back of a class, you can bring your tablet or laptop with you and have a go yourself. You can even do it on your phone!"
   ]
  },
  {
   "cell_type": "markdown",
   "metadata": {},
   "source": [
    "All of our lectures will be through here, The link on blackboard takes you to the main page which will look something like:\n",
    "\n",
    "![img](img/Jupyter2.jpg)"
   ]
  },
  {
   "cell_type": "markdown",
   "metadata": {},
   "source": [
    "The lecture notes that we are using will be the __.ipynb__ files, everything else is simply there to make sure it runs properly and is not something you need to worry about.\n",
    "\n",
    "Be aware that whatever edits and changes you make to the notebook, __they will not be saved__. If you close the tab and open them once again it will revert back to the original page. So let's jump in and talk about Matlab"
   ]
  },
  {
   "cell_type": "markdown",
   "metadata": {},
   "source": [
    "<a id='Intro'></a>"
   ]
  },
  {
   "cell_type": "markdown",
   "metadata": {},
   "source": [
    "### 1.3 Introduction to Matlab"
   ]
  },
  {
   "cell_type": "markdown",
   "metadata": {},
   "source": [
    "<a id='What'></a>"
   ]
  },
  {
   "cell_type": "markdown",
   "metadata": {},
   "source": [
    "#### 1.3.1 What is Matlab?"
   ]
  },
  {
   "cell_type": "markdown",
   "metadata": {},
   "source": [
    "It is a programming language that is designed for scientists and engineers to run computational models of systems, analyse data and develop algorithms. One of the most topical uses of it today is through deep learning, machine learning and neural networks. It is developed with the idea of creating and manipulating matrices and vectors in mind. Indeed, the name Matlab comes from __Mat__rix __Lab__oratory and it is developed and maintained by the company MathWorks"
   ]
  },
  {
   "cell_type": "markdown",
   "metadata": {},
   "source": [
    "<a id='Why'></a>"
   ]
  },
  {
   "cell_type": "markdown",
   "metadata": {},
   "source": [
    "#### 1.3.2 Why am I learning this, this is a maths degree?!"
   ]
  },
  {
   "cell_type": "markdown",
   "metadata": {},
   "source": [
    "There are so many careers that you can do with a maths degree that require experience in computing. Science and research depend so much on being able to code that your prospects are better for it. Indeed, there are many courses in the second and third year that will be using what you have learnt in this course and the second term Matlab course: Mathematical Algorithms.\n",
    "\n"
   ]
  },
  {
   "cell_type": "markdown",
   "metadata": {},
   "source": [
    "<a id='WhyM'></a>"
   ]
  },
  {
   "cell_type": "markdown",
   "metadata": {},
   "source": [
    "#### 1.3.3 But why Matlab?"
   ]
  },
  {
   "cell_type": "markdown",
   "metadata": {},
   "source": [
    "Because it is accessible! We assume zero programming knowledge, we have to start you somewhere, which is Matlab. It also widespread in industry. (However this is not the only accessible, industry-wide language that exists, there are arguments that you should be learning Python)."
   ]
  },
  {
   "cell_type": "markdown",
   "metadata": {},
   "source": [
    "<a id='Resources'></a>"
   ]
  },
  {
   "cell_type": "markdown",
   "metadata": {},
   "source": [
    "#### 1.3.4 Are there any resources?\n",
    "\n",
    "It should realised that universities do not have a monopoly on knowledge. You do not need a degree to learn Mathematics, there are so many resources online, the same even more so goes for programming. It is so easy to learn how to program in whatever language you want online and take part in any programming community you wish to join.\n",
    "\n",
    "Everyone here has a Matlab license because they have an @aston.ac.uk email address. Because of this you have access to all the courses available on the MathWorks website, which I __strongly__ recommend you doing. There are few quicker ways to learn how to code:\n",
    "\n",
    "https://matlabacademy.mathworks.com/\n",
    "\n",
    "Here you can start right at the beginning, teaching you the basics with \"Matlab Onramp\". You simply need to sign up with your aston email and create an account.\n",
    "\n",
    "For those with more interest in coding and Matlab in general you can find coding problems using matlab that the MathWorks team works on:\n",
    "\n",
    "https://www.mathworks.com/matlabcentral/cody/groups/2\n",
    "\n",
    "You can also download matlab to your own device so that you don't have to keep using university computers:\n",
    "\n",
    "http://www.aston.ac.uk/ict/studentguide/software/software-for-home-use/matlab/"
   ]
  },
  {
   "cell_type": "markdown",
   "metadata": {},
   "source": [
    "<a id='Command'></a>"
   ]
  },
  {
   "cell_type": "markdown",
   "metadata": {},
   "source": [
    "### 1.4 The Command Line"
   ]
  },
  {
   "cell_type": "markdown",
   "metadata": {},
   "source": [
    "There are two different ways we can use Matlab. We can type calculations straight into the command line, or if we want more complicated code we write scripts/ functions as .m files (this we will come to later)."
   ]
  },
  {
   "cell_type": "markdown",
   "metadata": {},
   "source": [
    "We can do simple calculations:"
   ]
  },
  {
   "cell_type": "code",
   "execution_count": 9,
   "metadata": {},
   "outputs": [
    {
     "name": "stdout",
     "output_type": "stream",
     "text": [
      "ans =  15\n"
     ]
    }
   ],
   "source": [
    "3*5"
   ]
  },
  {
   "cell_type": "markdown",
   "metadata": {},
   "source": [
    "Unless specified otherwise, matlab will store numbers as \"ans\":"
   ]
  },
  {
   "cell_type": "code",
   "execution_count": 10,
   "metadata": {},
   "outputs": [
    {
     "name": "stdout",
     "output_type": "stream",
     "text": [
      "ans =  15\n"
     ]
    }
   ],
   "source": [
    "ans"
   ]
  },
  {
   "cell_type": "markdown",
   "metadata": {},
   "source": [
    "We can assign numbers to variables:"
   ]
  },
  {
   "cell_type": "code",
   "execution_count": 5,
   "metadata": {},
   "outputs": [
    {
     "name": "stdout",
     "output_type": "stream",
     "text": [
      "m =  10\n"
     ]
    }
   ],
   "source": [
    "m=5*2"
   ]
  },
  {
   "cell_type": "markdown",
   "metadata": {},
   "source": [
    "And recall them later on:"
   ]
  },
  {
   "cell_type": "code",
   "execution_count": 6,
   "metadata": {},
   "outputs": [
    {
     "name": "stdout",
     "output_type": "stream",
     "text": [
      "m =  10\n"
     ]
    }
   ],
   "source": [
    "m"
   ]
  },
  {
   "cell_type": "markdown",
   "metadata": {},
   "source": [
    "When we use the equals sign \"=\" in Matlab we do not mean equals, we mean __assign__. Above we have __assigned__ the value 5*4 to the variable \"m\". And we are free to change it as we wish:"
   ]
  },
  {
   "cell_type": "code",
   "execution_count": 7,
   "metadata": {},
   "outputs": [
    {
     "name": "stdout",
     "output_type": "stream",
     "text": [
      "m =  11\n"
     ]
    }
   ],
   "source": [
    "m = m + 1"
   ]
  },
  {
   "cell_type": "markdown",
   "metadata": {},
   "source": [
    "We can use semi-colons to hide outputs, which is very useful if we are dealing with huge vectors"
   ]
  },
  {
   "cell_type": "code",
   "execution_count": 8,
   "metadata": {},
   "outputs": [],
   "source": [
    "y=m/2;"
   ]
  },
  {
   "cell_type": "markdown",
   "metadata": {},
   "source": [
    "Let's see what else we can do:"
   ]
  },
  {
   "cell_type": "code",
   "execution_count": 48,
   "metadata": {},
   "outputs": [
    {
     "name": "stdout",
     "output_type": "stream",
     "text": [
      "k =  3\n",
      "m =  9\n"
     ]
    }
   ],
   "source": [
    "k=3\n",
    "m=3*k"
   ]
  },
  {
   "cell_type": "code",
   "execution_count": 49,
   "metadata": {},
   "outputs": [
    {
     "name": "stdout",
     "output_type": "stream",
     "text": [
      "y =  5.5000\n"
     ]
    }
   ],
   "source": [
    "y"
   ]
  },
  {
   "cell_type": "markdown",
   "metadata": {},
   "source": [
    "Notice that y has not been recalculated! Which is a clear difference between __equals__ and __assign__ we assigned the number m/2 to y, and it remains that number. We have to type in y=m/2 to reassign it."
   ]
  },
  {
   "cell_type": "code",
   "execution_count": 50,
   "metadata": {},
   "outputs": [
    {
     "name": "stdout",
     "output_type": "stream",
     "text": [
      "y =  4.5000\n"
     ]
    }
   ],
   "source": [
    "y=m/2"
   ]
  },
  {
   "cell_type": "markdown",
   "metadata": {},
   "source": [
    "Try and see what is wrong with this line, how could I change it if I wanted to assign the number 5 to q?"
   ]
  },
  {
   "cell_type": "code",
   "execution_count": 9,
   "metadata": {},
   "outputs": [
    {
     "name": "stdout",
     "output_type": "stream",
     "text": [
      "parse error:\n",
      "\n",
      "  invalid constant left hand side of assignment\n",
      "\n",
      ">>> 5=q\n",
      "     ^\n",
      "\n"
     ]
    }
   ],
   "source": [
    "5=q"
   ]
  },
  {
   "cell_type": "markdown",
   "metadata": {},
   "source": [
    "Matlab also has a lot of inbuilt functions:"
   ]
  },
  {
   "cell_type": "code",
   "execution_count": 34,
   "metadata": {},
   "outputs": [
    {
     "name": "stdout",
     "output_type": "stream",
     "text": [
      "x =  0.78540\n"
     ]
    }
   ],
   "source": [
    "x=pi/4"
   ]
  },
  {
   "cell_type": "code",
   "execution_count": 35,
   "metadata": {},
   "outputs": [
    {
     "name": "stdout",
     "output_type": "stream",
     "text": [
      "ans =  0.70711\n"
     ]
    }
   ],
   "source": [
    "sin(x)"
   ]
  },
  {
   "cell_type": "code",
   "execution_count": 36,
   "metadata": {},
   "outputs": [
    {
     "name": "stdout",
     "output_type": "stream",
     "text": [
      "ans =  0.70711\n"
     ]
    }
   ],
   "source": [
    "cos(x)"
   ]
  },
  {
   "cell_type": "code",
   "execution_count": 37,
   "metadata": {},
   "outputs": [
    {
     "name": "stdout",
     "output_type": "stream",
     "text": [
      "ans =  2.1933\n"
     ]
    }
   ],
   "source": [
    "exp(x)"
   ]
  },
  {
   "cell_type": "code",
   "execution_count": 52,
   "metadata": {},
   "outputs": [
    {
     "name": "stdout",
     "output_type": "stream",
     "text": [
      "w =  2.7183\n"
     ]
    }
   ],
   "source": [
    "w=e"
   ]
  },
  {
   "cell_type": "code",
   "execution_count": 53,
   "metadata": {},
   "outputs": [
    {
     "name": "stdout",
     "output_type": "stream",
     "text": [
      "ans =  1\n"
     ]
    }
   ],
   "source": [
    "log(w) %% The natural logarithm 'ln'"
   ]
  },
  {
   "cell_type": "code",
   "execution_count": 42,
   "metadata": {},
   "outputs": [
    {
     "name": "stdout",
     "output_type": "stream",
     "text": [
      "ans = -0.10491\n"
     ]
    }
   ],
   "source": [
    "log10(x) %% Log base 10"
   ]
  },
  {
   "cell_type": "code",
   "execution_count": 45,
   "metadata": {},
   "outputs": [
    {
     "name": "stdout",
     "output_type": "stream",
     "text": [
      "ans = -1\n"
     ]
    }
   ],
   "source": [
    "i^2 %% The imaginary unit squared"
   ]
  },
  {
   "cell_type": "markdown",
   "metadata": {},
   "source": [
    "There is clearly a lot of standard notation * for times, / for divide, +,- for addition and subtraction. We also have ^ to raise a power (not limited to integers), we can also use paranthesis for ordering calculations:"
   ]
  },
  {
   "cell_type": "code",
   "execution_count": 54,
   "metadata": {},
   "outputs": [
    {
     "name": "stdout",
     "output_type": "stream",
     "text": [
      "n =  5\n"
     ]
    }
   ],
   "source": [
    "n = (4*(6+1/4))^(1/2)"
   ]
  }
 ],
 "metadata": {
  "kernelspec": {
   "display_name": "Octave",
   "language": "octave",
   "name": "octave"
  },
  "language_info": {
   "file_extension": ".m",
   "help_links": [
    {
     "text": "GNU Octave",
     "url": "https://www.gnu.org/software/octave/support.html"
    },
    {
     "text": "Octave Kernel",
     "url": "https://github.com/Calysto/octave_kernel"
    },
    {
     "text": "MetaKernel Magics",
     "url": "https://github.com/calysto/metakernel/blob/master/metakernel/magics/README.md"
    }
   ],
   "mimetype": "text/x-octave",
   "name": "octave",
   "version": "4.0.0"
  }
 },
 "nbformat": 4,
 "nbformat_minor": 2
}
