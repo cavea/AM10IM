{
 "cells": [
  {
   "cell_type": "markdown",
   "metadata": {},
   "source": [
    "# Introduction to Matlab - AM10IM"
   ]
  },
  {
   "cell_type": "markdown",
   "metadata": {},
   "source": [
    "## Lecture 1 - Housekeeping, Jupyter Notebooks and Simple Commands"
   ]
  },
  {
   "cell_type": "markdown",
   "metadata": {},
   "source": [
    "Table of Contents:\n",
    "\n",
    "[Housekeeping](#Housekeeping)\n",
    "\n",
    "[What on Earth is this?](#What-on-Earth-is-this?)"
   ]
  },
  {
   "cell_type": "markdown",
   "metadata": {},
   "source": [
    "### Housekeeping"
   ]
  },
  {
   "cell_type": "markdown",
   "metadata": {},
   "source": [
    "Straight off the bat, let us do some quick housekeeping before our proper introduction. This is a ten credit module which means we have three contact hours a week:\n",
    "\n",
    "Tuesdays 12-1 MB517 (Lecture)\n",
    "\n",
    "Thursdays 11-1 MB370/372 (Laboratory - the chance to apply what we have learnt)\n",
    "\n",
    "The assessments for this module are:\n",
    "\n",
    "Exam (worth 90% of your mark, it will be a computer based exam in January)\n",
    "\n",
    "Coursework (worth 10% of your mark, it will be due in around week 7/8 - more info to come)\n",
    "\n",
    "Who am I?\n",
    "\n",
    "Andy Cave, my office is 310F my office hours are:\n",
    "\n",
    "my email: a.cave@aston.ac.uk\n",
    "\n",
    "my office number: 0121 204 4638\n",
    "\n",
    "PLEASE ASK FOR HELP IF YOU NEED IT!!!! It is no use to struggle alone, particularly with a coding course that some of you may not be used to. I am PAID to help, so if you feel like you are struggling drop me an email.\n",
    "\n",
    "I am not the only person teaching on this course, we will have a few teaching assistants that will help us during the computing lab sessions on Thursdays and I'll introduce them then."
   ]
  },
  {
   "cell_type": "markdown",
   "metadata": {},
   "source": [
    "### What on Earth is this?"
   ]
  },
  {
   "cell_type": "markdown",
   "metadata": {},
   "source": [
    "The content of this course will be delivered through Jupyter Notebooks. It is an open-sourced web based app that allows one to __create__, __share__, documents that contain live code, equations, graphs and text."
   ]
  },
  {
   "cell_type": "markdown",
   "metadata": {},
   "source": [
    "What that means for us is that __you__ can edit your own copy of these notes and play around with the code that is embedded here.\n",
    "\n",
    "For example, the box below has an equation for x. If you press Shift-Enter, it will calculate it. BUT importantly, you can change it. Give it a go now, see if you can find 6*7"
   ]
  },
  {
   "cell_type": "code",
   "execution_count": 2,
   "metadata": {},
   "outputs": [
    {
     "name": "stdout",
     "output_type": "stream",
     "text": [
      "x =  15\n"
     ]
    }
   ],
   "source": [
    "x=5*3"
   ]
  },
  {
   "cell_type": "markdown",
   "metadata": {},
   "source": [
    "The point is that these notes are __interactive__ and you are now no longer yawning at the back of a class, you can bring your tablet or laptop with you and have a go yourself. You can even do it on your phone!"
   ]
  },
  {
   "cell_type": "markdown",
   "metadata": {},
   "source": [
    "All of our lectures will be through here, The link on blackboard takes you to the "
   ]
  }
 ],
 "metadata": {
  "kernelspec": {
   "display_name": "Octave",
   "language": "octave",
   "name": "octave"
  },
  "language_info": {
   "file_extension": ".m",
   "help_links": [
    {
     "text": "GNU Octave",
     "url": "https://www.gnu.org/software/octave/support.html"
    },
    {
     "text": "Octave Kernel",
     "url": "https://github.com/Calysto/octave_kernel"
    },
    {
     "text": "MetaKernel Magics",
     "url": "https://github.com/calysto/metakernel/blob/master/metakernel/magics/README.md"
    }
   ],
   "mimetype": "text/x-octave",
   "name": "octave",
   "version": "4.0.0"
  }
 },
 "nbformat": 4,
 "nbformat_minor": 2
}
