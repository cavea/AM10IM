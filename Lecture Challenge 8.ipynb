{
 "cells": [
  {
   "cell_type": "markdown",
   "metadata": {},
   "source": [
    "# AM10IM - Introduction to Matlab"
   ]
  },
  {
   "cell_type": "markdown",
   "metadata": {},
   "source": [
    "## Lecture Challenge 8 - DNA molecules"
   ]
  },
  {
   "cell_type": "markdown",
   "metadata": {},
   "source": [
    "A common use of strings are DNA molecules. Obviously, we are not learning about DNA, all we need to know is that DNA strings represent the order of nucleobases along one strand of a double stranded DNA molecule. DNA strings are constructed from the alphabet {a, c, g, t}, whose symbols represent the bases adenine, cytosine, guanine and thymine. As an example\n",
    "\n",
    "\"AAGATGCCGT\" is a DNA string\n",
    "\n",
    "I'm not going to test you on your knowledge of DNA, however, can you manipulate DNA strings?"
   ]
  },
  {
   "cell_type": "markdown",
   "metadata": {},
   "source": [
    "__Challenge 1__: Given the below DNA string can you return four integers that counting the respective number of times that the symbols 'A', 'C', 'G', and 'T' occur in $s$.\n"
   ]
  },
  {
   "cell_type": "code",
   "execution_count": 3,
   "metadata": {},
   "outputs": [],
   "source": [
    "s = 'AGCTTTTCATTCTGACTGCAACGGGCAATATGTCTCTGTGTGGATTAAAAAAAGAGTGTCTGATAGCAGC';\n",
    "\n",
    "%%Challenge 1\n",
    "\n"
   ]
  },
  {
   "cell_type": "markdown",
   "metadata": {},
   "source": [
    "__Challenge 2:__  In DNA strings, symbols 'A' and 'T' are complements of each other, as are 'C' and 'G'.\n",
    "\n",
    "The reverse complement of a DNA string $s$ is formed by reversing the symbols of $s$, then taking the complement of each symbol (e.g., the reverse complement of \"GTCA\" is \"TGAC\"). Given the above $s$, can you find its reverse complement?"
   ]
  },
  {
   "cell_type": "code",
   "execution_count": null,
   "metadata": {},
   "outputs": [],
   "source": [
    "%%% Challenge 2 - find the reverse complement to the above s\n",
    "\n",
    "\n"
   ]
  },
  {
   "cell_type": "markdown",
   "metadata": {},
   "source": [
    "__Challenge 3__: The GC-content of a DNA string is given by the percentage of symbols in the string that are 'C' or 'G'. For example, the GC-content of \"AGCTATAG\" is 37.5%. Find the GC-content of the above $s$"
   ]
  },
  {
   "cell_type": "code",
   "execution_count": null,
   "metadata": {},
   "outputs": [],
   "source": [
    "%%% Challenge 3 - find the GC content of s\n",
    "\n",
    "\n"
   ]
  },
  {
   "cell_type": "markdown",
   "metadata": {},
   "source": [
    "For more programming problems related to biology and DNA visit:\n",
    "http://rosalind.info/problems/list-view/"
   ]
  }
 ],
 "metadata": {
  "kernelspec": {
   "display_name": "Octave",
   "language": "octave",
   "name": "octave"
  },
  "language_info": {
   "file_extension": ".m",
   "help_links": [
    {
     "text": "GNU Octave",
     "url": "https://www.gnu.org/software/octave/support.html"
    },
    {
     "text": "Octave Kernel",
     "url": "https://github.com/Calysto/octave_kernel"
    },
    {
     "text": "MetaKernel Magics",
     "url": "https://github.com/calysto/metakernel/blob/master/metakernel/magics/README.md"
    }
   ],
   "mimetype": "text/x-octave",
   "name": "octave",
   "version": "4.0.0"
  }
 },
 "nbformat": 4,
 "nbformat_minor": 2
}
