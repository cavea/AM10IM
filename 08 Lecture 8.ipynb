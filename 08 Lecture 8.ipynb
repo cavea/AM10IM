{
 "cells": [
  {
   "cell_type": "markdown",
   "metadata": {},
   "source": [
    "# AM10IM - Introduction to Matlab"
   ]
  },
  {
   "cell_type": "markdown",
   "metadata": {},
   "source": [
    "## Lecture 8 - Strings"
   ]
  },
  {
   "cell_type": "markdown",
   "metadata": {},
   "source": [
    "### 8.1 Different types of data."
   ]
  },
  {
   "cell_type": "markdown",
   "metadata": {},
   "source": [
    "Thus far we have only dealt with numbers in matlab, either as variables we assign or annonymous functions. Matlab however has a lot of capabilities for data that are not numbers. We will focus on data that can be characters that aren't numbers such as letters, words ,sentances etc. These are called __strings__"
   ]
  },
  {
   "cell_type": "code",
   "execution_count": 41,
   "metadata": {},
   "outputs": [
    {
     "name": "stdout",
     "output_type": "stream",
     "text": [
      "a = The quick brown dog jumped over the lazy dog\n"
     ]
    }
   ],
   "source": [
    "a='The quick brown dog jumped over the lazy dog' %the quotation marks indicate that this is a string (\" \" work as well)"
   ]
  },
  {
   "cell_type": "markdown",
   "metadata": {},
   "source": [
    "We can manipulate these strings much the same way as we do numbers:"
   ]
  },
  {
   "cell_type": "code",
   "execution_count": 18,
   "metadata": {},
   "outputs": [
    {
     "name": "stdout",
     "output_type": "stream",
     "text": [
      "ans = quick\n",
      "ans = e quic\n"
     ]
    }
   ],
   "source": [
    "a(5:9) %prints the fifth to ninth character\n",
    "a(3:8) %prints the third to eighth character"
   ]
  },
  {
   "cell_type": "markdown",
   "metadata": {},
   "source": [
    "Notice that blank spaces also count as characters"
   ]
  },
  {
   "cell_type": "markdown",
   "metadata": {},
   "source": [
    "We can find the length of these strings:"
   ]
  },
  {
   "cell_type": "code",
   "execution_count": 42,
   "metadata": {},
   "outputs": [
    {
     "name": "stdout",
     "output_type": "stream",
     "text": [
      "ans =  44\n",
      "ans =\n",
      "\n",
      "    1   44\n",
      "\n"
     ]
    }
   ],
   "source": [
    "length(a)\n",
    "size(a)"
   ]
  },
  {
   "cell_type": "markdown",
   "metadata": {},
   "source": [
    "We can replace characters:"
   ]
  },
  {
   "cell_type": "code",
   "execution_count": 20,
   "metadata": {},
   "outputs": [
    {
     "name": "stdout",
     "output_type": "stream",
     "text": [
      "a1 = Theoqoickobrown dog jumped over the lazy dog\n"
     ]
    }
   ],
   "source": [
    "a1 = a;\n",
    "a1([4 6 10]) = 'o' %sets the 4th, 6th and 10th character as 'o'"
   ]
  },
  {
   "cell_type": "markdown",
   "metadata": {},
   "source": [
    "We can perform logical expressions:"
   ]
  },
  {
   "cell_type": "code",
   "execution_count": 22,
   "metadata": {},
   "outputs": [
    {
     "name": "stdout",
     "output_type": "stream",
     "text": [
      "ans =\n",
      "\n",
      " Columns 1 through 20:\n",
      "\n",
      "   0   0   1   0   0   0   0   0   0   0   0   0   0   0   0   0   0   0   0   0\n",
      "\n",
      " Columns 21 through 40:\n",
      "\n",
      "   0   0   0   0   1   0   0   0   0   1   0   0   0   0   1   0   0   0   0   0\n",
      "\n",
      " Columns 41 through 44:\n",
      "\n",
      "   0   0   0   0\n",
      "\n",
      "a = The quick brown dog jumped over the lazy dog\n"
     ]
    }
   ],
   "source": [
    "a == 'e' % Tells us where the character 'e' is\n",
    "a"
   ]
  },
  {
   "cell_type": "markdown",
   "metadata": {},
   "source": [
    "We can test if a character is a space or not:"
   ]
  },
  {
   "cell_type": "code",
   "execution_count": 39,
   "metadata": {},
   "outputs": [
    {
     "name": "stdout",
     "output_type": "stream",
     "text": [
      "ans = 0\n",
      "ans =  1\n",
      "ans =\n",
      "\n",
      " Columns 1 through 20:\n",
      "\n",
      "   0   0   0   1   0   0   0   0   0   1   0   0   0   0   0   1   0   0   0   1\n",
      "\n",
      " Columns 21 through 40:\n",
      "\n",
      "   0   0   0   0   0   0   1   0   0   0   0   1   0   0   0   1   0   0   0   0\n",
      "\n",
      " Columns 41 through 44:\n",
      "\n",
      "   1   0   0   0\n",
      "\n",
      "b =\n",
      "\n",
      " Columns 1 through 20:\n",
      "\n",
      "   1   1   1   0   1   1   1   1   1   0   1   1   1   1   1   0   1   1   1   0\n",
      "\n",
      " Columns 21 through 40:\n",
      "\n",
      "   1   1   1   1   1   1   0   1   1   1   1   0   1   1   1   0   1   1   1   1\n",
      "\n",
      " Columns 41 through 44:\n",
      "\n",
      "   0   1   1   1\n",
      "\n",
      "ans = Thequickbrowndogjumpedoverthelazydog\n"
     ]
    }
   ],
   "source": [
    "isspace(a(1)) % Tests if a(1) is a space (it isn't)\n",
    "isspace(a(4)) % Tests if a(4) is a space (it is)\n",
    "isspace(a) % provides the position of all spaces \n",
    "b = (isspace(a) ~= 1) % provides the position of all characters that aren't spaces\n",
    "a(b) % The string without spaces"
   ]
  },
  {
   "cell_type": "markdown",
   "metadata": {},
   "source": [
    "We can form arrays with strings:"
   ]
  },
  {
   "cell_type": "code",
   "execution_count": 49,
   "metadata": {},
   "outputs": [
    {
     "name": "stdout",
     "output_type": "stream",
     "text": [
      "b =\n",
      "\n",
      "The quick brown dog jumped over the lazy dog\n",
      "A wise old owl                              \n",
      "\n"
     ]
    }
   ],
   "source": [
    "b = [a; 'A wise old owl']\n"
   ]
  },
  {
   "cell_type": "code",
   "execution_count": 56,
   "metadata": {},
   "outputs": [
    {
     "name": "stdout",
     "output_type": "stream",
     "text": [
      "ans = wise\n",
      "ans =  \n"
     ]
    }
   ],
   "source": [
    "b(2,3:6) % prints the 3rd to 6th characters in the second row\n",
    "b(2,40)  % if I call something outside the string, matlab provides a blank"
   ]
  },
  {
   "cell_type": "markdown",
   "metadata": {},
   "source": [
    "The tutorials have a lot of practice for strings and also Lecture Challenge 8."
   ]
  }
 ],
 "metadata": {
  "kernelspec": {
   "display_name": "Octave",
   "language": "octave",
   "name": "octave"
  },
  "language_info": {
   "file_extension": ".m",
   "help_links": [
    {
     "text": "GNU Octave",
     "url": "https://www.gnu.org/software/octave/support.html"
    },
    {
     "text": "Octave Kernel",
     "url": "https://github.com/Calysto/octave_kernel"
    },
    {
     "text": "MetaKernel Magics",
     "url": "https://github.com/calysto/metakernel/blob/master/metakernel/magics/README.md"
    }
   ],
   "mimetype": "text/x-octave",
   "name": "octave",
   "version": "4.0.0"
  }
 },
 "nbformat": 4,
 "nbformat_minor": 2
}
