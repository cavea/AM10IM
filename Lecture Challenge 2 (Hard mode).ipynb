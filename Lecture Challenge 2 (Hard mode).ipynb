{
 "cells": [
  {
   "cell_type": "markdown",
   "metadata": {},
   "source": [
    "# AM10IM - Introduction to MatLab"
   ]
  },
  {
   "cell_type": "markdown",
   "metadata": {},
   "source": [
    "## Lecture Challenge 2 - Arrays and If statements"
   ]
  },
  {
   "cell_type": "markdown",
   "metadata": {},
   "source": [
    "In our second lecture we introduced if statements and arrays, let's see if we can use both in a real world example. You should attempt this once you have completed Lecture Challenge 2."
   ]
  },
  {
   "cell_type": "markdown",
   "metadata": {},
   "source": [
    "### Women's Heptathlon Point System"
   ]
  },
  {
   "cell_type": "markdown",
   "metadata": {},
   "source": [
    "In any athletic sporting event there is generally a women's heptathlon where each athlete competes in all of the following events:\n",
    "\n",
    "100 metres hurdles, high jump, shot put, 200 metres, long jump, javelin thow and 800 metres.\n",
    "\n",
    "__But__ how do you compare results between events? Some of these are timed events, some of them are distances and some of them heights! How can you work out the __best__ competitor?"
   ]
  },
  {
   "cell_type": "markdown",
   "metadata": {},
   "source": [
    "The scoring system was devised by Dr Karl Ulbrich and is constructed so that a \"standard performance\" in any event would be worth 1000 points. "
   ]
  },
  {
   "cell_type": "markdown",
   "metadata": {},
   "source": [
    "For running events (200m, 800m and 100m hurdles)\n",
    "\n",
    "$$\n",
    "P = a \\cdot\\left(b-T\\right)^{c}.\n",
    "$$\n",
    "\n",
    "For jumping and throwing events (high jump and long jump)\n",
    "\n",
    "$$\n",
    "P = a \\cdot\\left(M-b\\right)^{c}.\n",
    "$$\n",
    "\n",
    "For throwing events (shot put and javelin)\n",
    "\n",
    "$$\n",
    "P = a \\cdot\\left(D-b\\right)^{c}.\n",
    "$$\n",
    "\n",
    "Here, $P$ are the number of points scored, $T$ is competitor's time in __seconds__, $M$ is the height or length in __centimetres__ and $D$ is the length in __metres__. The numbers $a, b, c$ are constants that are different for each event (see the arrays below and https://en.wikipedia.org/wiki/Heptathlon#Points_system)"
   ]
  },
  {
   "cell_type": "code",
   "execution_count": 7,
   "metadata": {},
   "outputs": [],
   "source": [
    "%[100mH HJ SP 200m LJ JT 800m]\n",
    "a = [9.23 1.85 56.0 4.99 0.19 16.0 0.12];\n",
    "b = [26.7 75.0 1.50 42.5 210 3.8 254];\n",
    "c = [1.84 1.35 1.05 1.81 1.41 1.04 1.88];"
   ]
  },
  {
   "cell_type": "markdown",
   "metadata": {},
   "source": [
    "Consider the three competitors of the Heptathlon in London 2012: Jessica Ennis (GB), Lilli Schwarzkopf (GER) and Austra Skujyte (LTU). They each had the following times/ heights/ lengths:"
   ]
  },
  {
   "cell_type": "code",
   "execution_count": 2,
   "metadata": {},
   "outputs": [],
   "source": [
    "%[100mH HJ SP 200m LJ JT 800m]\n",
    "JE = [12.54 1.86 14.28 22.83 6.48 47.49 128.7];\n",
    "LS = [13.26 1.83 14.77 24.77 6.30 51.73 130.5];\n",
    "AS = [14.00 1.92 17.31 25.43 6.25 51.13 140.6];"
   ]
  },
  {
   "cell_type": "markdown",
   "metadata": {},
   "source": [
    "__Challenge 1__ Can you calculate the points for each athlete? (To select a specifc element of a vector use a(number), eg to select the second number of a, use a(2))"
   ]
  },
  {
   "cell_type": "markdown",
   "metadata": {},
   "source": [
    "__Challenge 2__ Now can you give them their ranking?"
   ]
  }
 ],
 "metadata": {
  "kernelspec": {
   "display_name": "Octave",
   "language": "octave",
   "name": "octave"
  },
  "language_info": {
   "file_extension": ".m",
   "help_links": [
    {
     "text": "GNU Octave",
     "url": "https://www.gnu.org/software/octave/support.html"
    },
    {
     "text": "Octave Kernel",
     "url": "https://github.com/Calysto/octave_kernel"
    },
    {
     "text": "MetaKernel Magics",
     "url": "https://github.com/calysto/metakernel/blob/master/metakernel/magics/README.md"
    }
   ],
   "mimetype": "text/x-octave",
   "name": "octave",
   "version": "4.0.0"
  }
 },
 "nbformat": 4,
 "nbformat_minor": 2
}
