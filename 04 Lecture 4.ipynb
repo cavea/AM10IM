{
 "cells": [
  {
   "cell_type": "markdown",
   "metadata": {},
   "source": [
    "# AM10IM - Introduction to Matlab"
   ]
  },
  {
   "cell_type": "markdown",
   "metadata": {},
   "source": [
    "## Lecture 4 - Loops and the Collatz conjecture"
   ]
  },
  {
   "cell_type": "markdown",
   "metadata": {},
   "source": [
    "ToC"
   ]
  },
  {
   "cell_type": "markdown",
   "metadata": {},
   "source": [
    "### 2.1 Summary"
   ]
  },
  {
   "cell_type": "markdown",
   "metadata": {},
   "source": [
    "So far we are building more and more complex programs and hopefully seeing the motivation behind them. At the moment we have thought about scripts with if statements. We are goig to talk about different types of flow-control statements in the form of loops - specifically for loops and while loops and also different types of .m files called scripts."
   ]
  },
  {
   "cell_type": "markdown",
   "metadata": {},
   "source": [
    "### 2.2 For loops"
   ]
  },
  {
   "cell_type": "markdown",
   "metadata": {},
   "source": [
    "At the moment we can make decisions about fairly complex statements when it comes to if statements but one of the most useful things about computational programming is the fact that we can repeat bits of code many times. This comes very naturally in the form of 'for loops'"
   ]
  },
  {
   "cell_type": "markdown",
   "metadata": {},
   "source": [
    "What if we wanted to add all the numbers up to 300? We can use a for loop"
   ]
  },
  {
   "cell_type": "code",
   "execution_count": 2,
   "metadata": {},
   "outputs": [
    {
     "name": "stdout",
     "output_type": "stream",
     "text": [
      "s =  45150\n"
     ]
    }
   ],
   "source": [
    "s = 0;\n",
    "for i=1:300\n",
    "    s = s+i;\n",
    "end\n",
    "s"
   ]
  },
  {
   "cell_type": "markdown",
   "metadata": {},
   "source": [
    "What have we done?!"
   ]
  },
  {
   "cell_type": "markdown",
   "metadata": {},
   "source": [
    "The for loop __iterates__ the code that is inside the loop until it finishes. The line 'for i=1:300' says do the following code for i=1, then i=2, then i=3 until i=300. Which is why it is intuitively called a loop. It says repeat the following code until I say stop."
   ]
  },
  {
   "cell_type": "markdown",
   "metadata": {},
   "source": [
    "Once all the code in the for loop is completed it goes back to the top of the loop and increments i by 1, so the code that is hidden and implied by the for loop is the line 'i=i+1'"
   ]
  },
  {
   "cell_type": "markdown",
   "metadata": {},
   "source": [
    "But how is this sum working? Notice that each time we go back to the top of the for loop we will add 'i' to 's', and we will continue to do this all the way to 300. Let's see it in a lower sum:"
   ]
  },
  {
   "cell_type": "code",
   "execution_count": 13,
   "metadata": {},
   "outputs": [
    {
     "name": "stdout",
     "output_type": "stream",
     "text": [
      "s =  1\n",
      "s =  3\n",
      "s =  6\n",
      "s =  10\n",
      "s =  15\n",
      "s =  21\n",
      "s =  28\n"
     ]
    }
   ],
   "source": [
    "s = 0;\n",
    "for i =1:7\n",
    "    s = s+i\n",
    "end"
   ]
  },
  {
   "cell_type": "markdown",
   "metadata": {},
   "source": [
    "Did you see that it also printed every 's' value it calculated because we got rid of the semi-colon?\n",
    "\n",
    "And if we print 'i' with it we can truly see the for loop iterating:"
   ]
  },
  {
   "cell_type": "code",
   "execution_count": 14,
   "metadata": {},
   "outputs": [
    {
     "name": "stdout",
     "output_type": "stream",
     "text": [
      "i =  1\n",
      "s =  1\n",
      "i =  2\n",
      "s =  3\n",
      "i =  3\n",
      "s =  6\n",
      "i =  4\n",
      "s =  10\n",
      "i =  5\n",
      "s =  15\n",
      "i =  6\n",
      "s =  21\n",
      "i =  7\n",
      "s =  28\n"
     ]
    }
   ],
   "source": [
    "s = 0;\n",
    "for i =1:7\n",
    "    i\n",
    "    s = s+i\n",
    "end"
   ]
  },
  {
   "cell_type": "markdown",
   "metadata": {},
   "source": [
    "Why is there 's=0' before the loop?"
   ]
  },
  {
   "cell_type": "markdown",
   "metadata": {},
   "source": [
    "What if we wanted to add all the squares of the first n numbers"
   ]
  },
  {
   "cell_type": "code",
   "execution_count": 2,
   "metadata": {},
   "outputs": [
    {
     "name": "stdout",
     "output_type": "stream",
     "text": [
      "s =  140\n"
     ]
    }
   ],
   "source": [
    "s = 0;\n",
    "n = 7;\n",
    "for i = 1:n %<--- notice that I didn't need to put the number explicitly here\n",
    "    s = s+i.^2;\n",
    "end\n",
    "s"
   ]
  },
  {
   "cell_type": "markdown",
   "metadata": {},
   "source": [
    "Hopefully these are starting to make sense, if we wanted to add only the __odd__ or __even__ numbers Matlab allows the possiblity:"
   ]
  },
  {
   "cell_type": "code",
   "execution_count": 3,
   "metadata": {},
   "outputs": [
    {
     "name": "stdout",
     "output_type": "stream",
     "text": [
      "i =  1\n",
      "s1 =  1\n",
      "i =  3\n",
      "s1 =  4\n",
      "i =  5\n",
      "s1 =  9\n",
      "i =  7\n",
      "s1 =  16\n",
      "i = 0\n",
      "s2 =  16\n",
      "i =  2\n",
      "s2 =  18\n",
      "i =  4\n",
      "s2 =  20\n",
      "i =  6\n",
      "s2 =  22\n"
     ]
    }
   ],
   "source": [
    "s1 = 0;\n",
    "s2 = 0;\n",
    "for i =1:2:n%<-- do you recognise this notation as vectors?\n",
    "    i\n",
    "    s1 = s1+i\n",
    "end\n",
    "for i = 0:2:n\n",
    "    i\n",
    "    s2 = s1+i\n",
    "end"
   ]
  },
  {
   "cell_type": "markdown",
   "metadata": {},
   "source": [
    "Notice that I didn't need to state i=0 again when I started another for loop it was just happy to start from i=0."
   ]
  },
  {
   "cell_type": "markdown",
   "metadata": {},
   "source": [
    "What if there wasn't a pattern to the numbers that I wanted the for loop to iterate? It works just as well:"
   ]
  },
  {
   "cell_type": "code",
   "execution_count": 26,
   "metadata": {},
   "outputs": [
    {
     "name": "stdout",
     "output_type": "stream",
     "text": [
      "s =  124\n"
     ]
    }
   ],
   "source": [
    "for i = [1 14 23 6 12]\n",
    "    s = s+i;\n",
    "end\n",
    "s"
   ]
  },
  {
   "cell_type": "markdown",
   "metadata": {},
   "source": [
    "The notation is generally"
   ]
  },
  {
   "cell_type": "code",
   "execution_count": null,
   "metadata": {},
   "outputs": [],
   "source": [
    "for i = % a vector\n",
    "    % code\n",
    "end"
   ]
  },
  {
   "cell_type": "markdown",
   "metadata": {},
   "source": [
    "Of course there is no rule on what you call the vector, call it whatever you please, I simply use 'i' as it is convention, you pick whatever is convenient."
   ]
  },
  {
   "cell_type": "markdown",
   "metadata": {},
   "source": [
    "Let's do something more complicated. Using Problem 1 from Project Euler:"
   ]
  },
  {
   "cell_type": "markdown",
   "metadata": {},
   "source": [
    "__Problem 1__ (Project Euler):\n",
    "\n",
    "If we list all the natural numbers below 10 that are multiples of 3 or 5, we get 3, 5, 6 and 9. The sum of these multiples is 23.\n",
    "\n",
    "Find the sum of all the multiples of 3 or 5 below 1000.\n"
   ]
  },
  {
   "cell_type": "markdown",
   "metadata": {},
   "source": [
    "Clearly we need a for loop running over all the integers below 1000. We also need to check if that integer is a multiple of three or a multiple of 5, which implies if statements:"
   ]
  },
  {
   "cell_type": "code",
   "execution_count": 4,
   "metadata": {},
   "outputs": [
    {
     "name": "stdout",
     "output_type": "stream",
     "text": [
      "s =  267333\n"
     ]
    }
   ],
   "source": [
    "s = 0;\n",
    "for i = 1:1000\n",
    "    if mod(i,3)==0\n",
    "        s = s+i;\n",
    "    end\n",
    "    if mod(i,5)==0\n",
    "        s = s+i;\n",
    "    end\n",
    "end\n",
    "s"
   ]
  },
  {
   "cell_type": "markdown",
   "metadata": {},
   "source": [
    "Easy! But actually the answer is 233168. What have we done wrong? Can you see what we have missed? We will discuss at a later point tips in debugging code but for now what should the answer be if we replace 1000 with 20? You can do this by hand and then compare it to the solution from the code."
   ]
  },
  {
   "cell_type": "markdown",
   "metadata": {},
   "source": [
    "For loops do not just exist for summation, it can be used in any case we wish to repeat an action. Consider the following:"
   ]
  },
  {
   "cell_type": "markdown",
   "metadata": {},
   "source": [
    "__Problem 2__ : Can we simulate a dice roll of two 6 sided dice. If we do it many times can we approximate the probability of each sum?"
   ]
  },
  {
   "cell_type": "markdown",
   "metadata": {},
   "source": [
    "A dice roll is generally thought to be random, so we need to be able to generate (pseudo)random numbers. Thankfully matlab has a function for that as 'rand' which generates a random number between 0 and 1."
   ]
  },
  {
   "cell_type": "code",
   "execution_count": 25,
   "metadata": {},
   "outputs": [
    {
     "name": "stdout",
     "output_type": "stream",
     "text": [
      "ans =  0.85421\n"
     ]
    }
   ],
   "source": [
    "rand % a random number between 0 and 1"
   ]
  },
  {
   "cell_type": "code",
   "execution_count": 12,
   "metadata": {},
   "outputs": [
    {
     "name": "stdout",
     "output_type": "stream",
     "text": [
      "d1 =  1\n",
      "d2 =  1\n",
      "s =  2\n"
     ]
    }
   ],
   "source": [
    "d1 = ceil(6*rand) % using the ceil function (rounds up) we get an equally weighted dice roll.\n",
    "d2 = ceil(6*rand)\n",
    "s = d1+d2"
   ]
  },
  {
   "cell_type": "markdown",
   "metadata": {},
   "source": [
    "But if we wanted to perform it many times and find the probability distribution we have to think about the cumulative result of s."
   ]
  },
  {
   "cell_type": "code",
   "execution_count": 19,
   "metadata": {
    "scrolled": false
   },
   "outputs": [
    {
     "data": {
      "image/png": "[encoded data removed]",
      "text/plain": [
       "<IPython.core.display.Image object>"
      ]
     },
     "metadata": {},
     "output_type": "display_data"
    },
    {
     "data": {
      "image/png": "[encoded data removed]",
      "text/plain": [
       "<IPython.core.display.Image object>"
      ]
     },
     "metadata": {},
     "output_type": "display_data"
    }
   ],
   "source": [
    "clear all\n",
    "n = 1000000;                  % n dice rolls\n",
    "r = zeros(11,1);             % creates an 11x1 vector of zeros. This will +1 to an element for each dice roll\n",
    "for i=1:n\n",
    "    d1 = ceil(6*rand);       %first dice roll\n",
    "    d2 = ceil(6*rand);       %second dice roll\n",
    "    s=d1+d2;                 %sum\n",
    "    r(s-1) = r(s-1)+1;       %add one to the correct index in r.\n",
    "end\n",
    "r = r./n;                    %normalisation constant\n",
    "a = 1./36:1./36:6./36;       %this line and the next two lines generates the ACTUAL probability\n",
    "b = 5./36:-1./36:1./36;\n",
    "aa = [a b]'; \n",
    "plot([2:12],abs(r-aa))       %plots absolute difference between the numeric and the analytic.(on a seperate plot)\n",
    "figure\n",
    "plot([2:12],r,[2:12],aa,'*') %Plot the numeric probability and the analytic probability"
   ]
  },
  {
   "cell_type": "markdown",
   "metadata": {},
   "source": [
    "### 2.3 While loops"
   ]
  },
  {
   "cell_type": "markdown",
   "metadata": {},
   "source": [
    "What if we want to repeat something but we're not sure how long it will take but we do have certain conditions that must be met. For example we wanted to continue the above until the error for each result is less than 0.05? We could try to guess how many iterations we'd need but that's inaccurate and inefficent. What we can use instead is a while loop:"
   ]
  },
  {
   "cell_type": "code",
   "execution_count": null,
   "metadata": {},
   "outputs": [],
   "source": [
    "while %logical expression\n",
    "%Perform code\n",
    "end"
   ]
  },
  {
   "cell_type": "markdown",
   "metadata": {},
   "source": [
    "Which performs the code inside the loop __while__ the logical expression is true. If we wanted to sum the first 100 integers:"
   ]
  },
  {
   "cell_type": "code",
   "execution_count": 4,
   "metadata": {},
   "outputs": [
    {
     "name": "stdout",
     "output_type": "stream",
     "text": [
      "s =  5050\n"
     ]
    }
   ],
   "source": [
    "s = 0;\n",
    "i = 0;\n",
    "while i<=100\n",
    "    s = s+i;\n",
    "    i = i+1;\n",
    "end\n",
    "s"
   ]
  },
  {
   "cell_type": "markdown",
   "metadata": {},
   "source": [
    "Which looks incredibly similar to the for loop. But instead of specifying i, we are giving a condition that must hold. Notice the difference that we have to increment 'i' manually, the while loop doesn't do it for us like the for loop in fact if we wrote something like this:"
   ]
  },
  {
   "cell_type": "code",
   "execution_count": 5,
   "metadata": {},
   "outputs": [
    {
     "name": "stdout",
     "output_type": "stream",
     "text": [
      "\n"
     ]
    }
   ],
   "source": [
    "s = 0;\n",
    "i = 0;\n",
    "while i<=100\n",
    "    s = s+i;\n",
    "end\n",
    "s"
   ]
  },
  {
   "cell_type": "markdown",
   "metadata": {},
   "source": [
    "It would never end because we haven't iterated i and so it will always be less than 100. This is something you have to be aware of when using while loops, that at some point the logical expression will be false. Let's keep exploring while loops with an example."
   ]
  },
  {
   "cell_type": "markdown",
   "metadata": {},
   "source": [
    "### 2.4 The Collatz Conjecture."
   ]
  },
  {
   "cell_type": "markdown",
   "metadata": {},
   "source": [
    "Pick any positive integer. If it is even divide it by two. If it is odd, triple it and add 1. Repeat with the new number. Keep going until you finally reach 1. How many iterations do you need to do before it reaches 1? What's the highest number that will be reached? This is ideal for a while loop."
   ]
  },
  {
   "cell_type": "code",
   "execution_count": 39,
   "metadata": {
    "scrolled": false
   },
   "outputs": [
    {
     "name": "stdout",
     "output_type": "stream",
     "text": [
      "z =  25\n",
      "z =  76\n",
      "z =  38\n",
      "z =  19\n",
      "z =  58\n",
      "z =  29\n",
      "z =  88\n",
      "z =  44\n",
      "z =  22\n",
      "z =  11\n",
      "z =  34\n",
      "z =  17\n",
      "z =  52\n",
      "z =  26\n",
      "z =  13\n",
      "z =  40\n",
      "z =  20\n",
      "z =  10\n",
      "z =  5\n",
      "z =  16\n",
      "z =  8\n",
      "z =  4\n",
      "z =  2\n",
      "z =  1\n",
      "i =  23\n"
     ]
    }
   ],
   "source": [
    "z = 25  % starting number\n",
    "i = 0;    % initialising the count\n",
    "while (z ~= 1)           % Perform the following code while z =/= 1\n",
    "    if (mod(z,2)==0)     % If z is an even number\n",
    "        z = z./2           % divide it by two\n",
    "    else                 % Otherwise\n",
    "        z = 3.*z+1       % triple it and add 1\n",
    "    end\n",
    "i=i+1;                  % every time we we go through the while loop we have performed an iteration,\n",
    "end                     % so add one to the count.\n",
    "i                       % at the end of the while loop show how many iterations have been performed."
   ]
  },
  {
   "cell_type": "markdown",
   "metadata": {},
   "source": [
    "And we can pick any number we'd like for z! Notice also that I have embedded an if statement inside a while loop. This perfectly fine."
   ]
  },
  {
   "cell_type": "markdown",
   "metadata": {},
   "source": [
    "However, this bit of code is a bit crude and maybe we'd like to compare stopping times for each integer. In this case we will need to run over the integers and for each integer perform the above bit of code. This sounds like we should be using for loops!"
   ]
  },
  {
   "cell_type": "code",
   "execution_count": 35,
   "metadata": {},
   "outputs": [
    {
     "data": {
      "image/png": "[encoded data removed]",
      "text/plain": [
       "<IPython.core.display.Image object>"
      ]
     },
     "metadata": {},
     "output_type": "display_data"
    }
   ],
   "source": [
    "clear all\n",
    "n = 10;       % comparing the first n integers.\n",
    "t = [];         % We will be storing the stopping time as a vector t, this notation means it's currently a 0x0 array\n",
    "for j = 1:n\n",
    "    z = j;          %Above we input z. Now we are going to run it over every positive integer  \n",
    "    i = 0;          %i is going to be counting how many steps it takes which we need to reset for every integer\n",
    "    while(z ~= 1)   %which is why i=0 is inside the for loop\n",
    "        if (mod(z,2)==0)     \n",
    "            z = z./2;         \n",
    "        else                 % Code from above \n",
    "            z = 3.*z+1;       \n",
    "        end\n",
    "    i = i+1;\n",
    "    end\n",
    "    t = [t i];               % here this will store the count in t. t will be a vector that becomes size nx1\n",
    "%{\n",
    "Equally could have written at the top instead of t=[]: t = zeros(n,1)\n",
    "then HERE\n",
    "t(j)=i\n",
    "This would have got to the same answer.\n",
    "%}    \n",
    "end\n",
    "plot(t)"
   ]
  },
  {
   "cell_type": "markdown",
   "metadata": {},
   "source": [
    "This is only being about 10 lines of code long and we can check the stopping time for __lots__ of numbers. Look through this code and make sure it makes sense because every line is doing something. The way to understand code, particularly loops and other control statements is to write out the first few iterations by hand."
   ]
  },
  {
   "cell_type": "markdown",
   "metadata": {},
   "source": [
    "Notice that at the moment every number has so far eventually reached 1. The Collatz conjecture (currently unproven) is that __every__ positive integer will reach 1. All numbers up to 5764000000000000000 have been shown to follow this conjecture but no proof exists."
   ]
  },
  {
   "cell_type": "markdown",
   "metadata": {},
   "source": [
    "One last thing of note is that while loops check the condition at the top of the loop as opposed to the bottom. Every time it goes back to the top it checks the condition. This is important as you may accidently do one extra loop than you intended. Also with while loops you must make sure that your logical expressions can end."
   ]
  }
 ],
 "metadata": {
  "kernelspec": {
   "display_name": "Octave",
   "language": "octave",
   "name": "octave"
  },
  "language_info": {
   "file_extension": ".m",
   "help_links": [
    {
     "text": "GNU Octave",
     "url": "https://www.gnu.org/software/octave/support.html"
    },
    {
     "text": "Octave Kernel",
     "url": "https://github.com/Calysto/octave_kernel"
    },
    {
     "text": "MetaKernel Magics",
     "url": "https://github.com/calysto/metakernel/blob/master/metakernel/magics/README.md"
    }
   ],
   "mimetype": "text/x-octave",
   "name": "octave",
   "version": "4.0.0"
  }
 },
 "nbformat": 4,
 "nbformat_minor": 2
}
